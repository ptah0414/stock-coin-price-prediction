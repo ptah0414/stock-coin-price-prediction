{
  "cells": [
    {
      "cell_type": "markdown",
      "metadata": {
        "id": "view-in-github",
        "colab_type": "text"
      },
      "source": [
        "<a href=\"https://colab.research.google.com/github/ptah0414/stock-coin-price-prediction/blob/main/06_03_lunacoin_anomaly_detection.ipynb\" target=\"_parent\"><img src=\"https://colab.research.google.com/assets/colab-badge.svg\" alt=\"Open In Colab\"/></a>"
      ]
    },
    {
      "cell_type": "markdown",
      "metadata": {
        "id": "Slgc7SsuimWR"
      },
      "source": [
        "# Timeseries anomaly detection using an Autoencoder\n",
        "\n"
      ]
    },
    {
      "cell_type": "markdown",
      "metadata": {
        "id": "ojKTfP8XimWT"
      },
      "source": [
        "## Introduction\n",
        "\n",
        "This script demonstrates how you can use a reconstruction convolutional\n",
        "autoencoder model to detect anomalies in timeseries data."
      ]
    },
    {
      "cell_type": "markdown",
      "metadata": {
        "id": "lMjCCAW9imWT"
      },
      "source": [
        "## Setup"
      ]
    },
    {
      "cell_type": "code",
      "execution_count": 1,
      "metadata": {
        "id": "fD27mLsdimWU"
      },
      "outputs": [],
      "source": [
        "import numpy as np\n",
        "import pandas as pd\n",
        "from tensorflow import keras\n",
        "from tensorflow.keras import layers\n",
        "from matplotlib import pyplot as plt"
      ]
    },
    {
      "cell_type": "markdown",
      "metadata": {
        "id": "XC8iz5K_imWU"
      },
      "source": [
        "## Load the data\n"
      ]
    },
    {
      "cell_type": "code",
      "source": [
        "!pip install yfinance"
      ],
      "metadata": {
        "id": "OMpudy3tj9OY",
        "colab": {
          "base_uri": "https://localhost:8080/",
          "height": 667
        },
        "outputId": "6adfb40c-8c76-4df8-dffc-c04975303d2b"
      },
      "execution_count": 2,
      "outputs": [
        {
          "output_type": "stream",
          "name": "stdout",
          "text": [
            "Looking in indexes: https://pypi.org/simple, https://us-python.pkg.dev/colab-wheels/public/simple/\n",
            "Collecting yfinance\n",
            "  Downloading yfinance-0.1.72-py2.py3-none-any.whl (27 kB)\n",
            "Requirement already satisfied: pandas>=0.24.0 in /usr/local/lib/python3.7/dist-packages (from yfinance) (1.3.5)\n",
            "Collecting requests>=2.26\n",
            "  Downloading requests-2.28.0-py3-none-any.whl (62 kB)\n",
            "\u001b[K     |████████████████████████████████| 62 kB 1.1 MB/s \n",
            "\u001b[?25hCollecting lxml>=4.5.1\n",
            "  Downloading lxml-4.9.0-cp37-cp37m-manylinux_2_17_x86_64.manylinux2014_x86_64.manylinux_2_24_x86_64.whl (6.4 MB)\n",
            "\u001b[K     |████████████████████████████████| 6.4 MB 19.4 MB/s \n",
            "\u001b[?25hRequirement already satisfied: numpy>=1.15 in /usr/local/lib/python3.7/dist-packages (from yfinance) (1.21.6)\n",
            "Requirement already satisfied: multitasking>=0.0.7 in /usr/local/lib/python3.7/dist-packages (from yfinance) (0.0.10)\n",
            "Requirement already satisfied: python-dateutil>=2.7.3 in /usr/local/lib/python3.7/dist-packages (from pandas>=0.24.0->yfinance) (2.8.2)\n",
            "Requirement already satisfied: pytz>=2017.3 in /usr/local/lib/python3.7/dist-packages (from pandas>=0.24.0->yfinance) (2022.1)\n",
            "Requirement already satisfied: six>=1.5 in /usr/local/lib/python3.7/dist-packages (from python-dateutil>=2.7.3->pandas>=0.24.0->yfinance) (1.15.0)\n",
            "Requirement already satisfied: urllib3<1.27,>=1.21.1 in /usr/local/lib/python3.7/dist-packages (from requests>=2.26->yfinance) (1.24.3)\n",
            "Requirement already satisfied: charset-normalizer~=2.0.0 in /usr/local/lib/python3.7/dist-packages (from requests>=2.26->yfinance) (2.0.12)\n",
            "Requirement already satisfied: idna<4,>=2.5 in /usr/local/lib/python3.7/dist-packages (from requests>=2.26->yfinance) (2.10)\n",
            "Requirement already satisfied: certifi>=2017.4.17 in /usr/local/lib/python3.7/dist-packages (from requests>=2.26->yfinance) (2022.6.15)\n",
            "Installing collected packages: requests, lxml, yfinance\n",
            "  Attempting uninstall: requests\n",
            "    Found existing installation: requests 2.23.0\n",
            "    Uninstalling requests-2.23.0:\n",
            "      Successfully uninstalled requests-2.23.0\n",
            "  Attempting uninstall: lxml\n",
            "    Found existing installation: lxml 4.2.6\n",
            "    Uninstalling lxml-4.2.6:\n",
            "      Successfully uninstalled lxml-4.2.6\n",
            "\u001b[31mERROR: pip's dependency resolver does not currently take into account all the packages that are installed. This behaviour is the source of the following dependency conflicts.\n",
            "google-colab 1.0.0 requires requests~=2.23.0, but you have requests 2.28.0 which is incompatible.\n",
            "datascience 0.10.6 requires folium==0.2.1, but you have folium 0.8.3 which is incompatible.\u001b[0m\n",
            "Successfully installed lxml-4.9.0 requests-2.28.0 yfinance-0.1.72\n"
          ]
        },
        {
          "output_type": "display_data",
          "data": {
            "application/vnd.colab-display-data+json": {
              "pip_warning": {
                "packages": [
                  "requests"
                ]
              }
            }
          },
          "metadata": {}
        }
      ]
    },
    {
      "cell_type": "code",
      "source": [
        "import yfinance as yf"
      ],
      "metadata": {
        "id": "N6KxDKYOlZNs"
      },
      "execution_count": 3,
      "outputs": []
    },
    {
      "cell_type": "code",
      "source": [
        "interval = \"5m\"\n",
        "# valid intervals: 1m,2m,5m,15m,30m,60m,90m,1h,1d,5d,1wk,1mo,3mo"
      ],
      "metadata": {
        "id": "nWjxvtY29Nyt"
      },
      "execution_count": 4,
      "outputs": []
    },
    {
      "cell_type": "code",
      "source": [
        "# 9일부터 12일 폭락함\n",
        "start = \"2022-04-29\"\n",
        "end = \"2022-05-13\""
      ],
      "metadata": {
        "id": "89MxQ3v5CMS2"
      },
      "execution_count": 5,
      "outputs": []
    },
    {
      "cell_type": "code",
      "source": [
        "df = yf.download(\"LUNA1-USD\", start=start, end=end, interval=interval)\n",
        "df[\"close_chg\"] = (df[\"Close\"] - df[\"Close\"].shift(1)) / df[\"Close\"].shift(1) * 100\n",
        "luna = df[[\"close_chg\"]]\n",
        "luna"
      ],
      "metadata": {
        "colab": {
          "base_uri": "https://localhost:8080/",
          "height": 467
        },
        "id": "fyeTh6Dbj96U",
        "outputId": "1eb5fd39-d5a5-4ced-9212-1cefbf620bc8"
      },
      "execution_count": 6,
      "outputs": [
        {
          "output_type": "stream",
          "name": "stdout",
          "text": [
            "\r[*********************100%***********************]  1 of 1 completed\n"
          ]
        },
        {
          "output_type": "execute_result",
          "data": {
            "text/plain": [
              "                           close_chg\n",
              "Datetime                            \n",
              "2022-04-29 00:00:00+00:00        NaN\n",
              "2022-04-29 00:05:00+00:00   0.148922\n",
              "2022-04-29 00:10:00+00:00   0.178820\n",
              "2022-04-29 00:15:00+00:00   0.036505\n",
              "2022-04-29 00:20:00+00:00  -0.054653\n",
              "...                              ...\n",
              "2022-05-12 23:35:00+00:00   2.303633\n",
              "2022-05-12 23:40:00+00:00 -11.332991\n",
              "2022-05-12 23:45:00+00:00   2.043528\n",
              "2022-05-12 23:50:00+00:00  -3.548905\n",
              "2022-05-12 23:55:00+00:00 -17.571902\n",
              "\n",
              "[4020 rows x 1 columns]"
            ],
            "text/html": [
              "\n",
              "  <div id=\"df-b3182600-6500-4580-8324-0265f4a8c861\">\n",
              "    <div class=\"colab-df-container\">\n",
              "      <div>\n",
              "<style scoped>\n",
              "    .dataframe tbody tr th:only-of-type {\n",
              "        vertical-align: middle;\n",
              "    }\n",
              "\n",
              "    .dataframe tbody tr th {\n",
              "        vertical-align: top;\n",
              "    }\n",
              "\n",
              "    .dataframe thead th {\n",
              "        text-align: right;\n",
              "    }\n",
              "</style>\n",
              "<table border=\"1\" class=\"dataframe\">\n",
              "  <thead>\n",
              "    <tr style=\"text-align: right;\">\n",
              "      <th></th>\n",
              "      <th>close_chg</th>\n",
              "    </tr>\n",
              "    <tr>\n",
              "      <th>Datetime</th>\n",
              "      <th></th>\n",
              "    </tr>\n",
              "  </thead>\n",
              "  <tbody>\n",
              "    <tr>\n",
              "      <th>2022-04-29 00:00:00+00:00</th>\n",
              "      <td>NaN</td>\n",
              "    </tr>\n",
              "    <tr>\n",
              "      <th>2022-04-29 00:05:00+00:00</th>\n",
              "      <td>0.148922</td>\n",
              "    </tr>\n",
              "    <tr>\n",
              "      <th>2022-04-29 00:10:00+00:00</th>\n",
              "      <td>0.178820</td>\n",
              "    </tr>\n",
              "    <tr>\n",
              "      <th>2022-04-29 00:15:00+00:00</th>\n",
              "      <td>0.036505</td>\n",
              "    </tr>\n",
              "    <tr>\n",
              "      <th>2022-04-29 00:20:00+00:00</th>\n",
              "      <td>-0.054653</td>\n",
              "    </tr>\n",
              "    <tr>\n",
              "      <th>...</th>\n",
              "      <td>...</td>\n",
              "    </tr>\n",
              "    <tr>\n",
              "      <th>2022-05-12 23:35:00+00:00</th>\n",
              "      <td>2.303633</td>\n",
              "    </tr>\n",
              "    <tr>\n",
              "      <th>2022-05-12 23:40:00+00:00</th>\n",
              "      <td>-11.332991</td>\n",
              "    </tr>\n",
              "    <tr>\n",
              "      <th>2022-05-12 23:45:00+00:00</th>\n",
              "      <td>2.043528</td>\n",
              "    </tr>\n",
              "    <tr>\n",
              "      <th>2022-05-12 23:50:00+00:00</th>\n",
              "      <td>-3.548905</td>\n",
              "    </tr>\n",
              "    <tr>\n",
              "      <th>2022-05-12 23:55:00+00:00</th>\n",
              "      <td>-17.571902</td>\n",
              "    </tr>\n",
              "  </tbody>\n",
              "</table>\n",
              "<p>4020 rows × 1 columns</p>\n",
              "</div>\n",
              "      <button class=\"colab-df-convert\" onclick=\"convertToInteractive('df-b3182600-6500-4580-8324-0265f4a8c861')\"\n",
              "              title=\"Convert this dataframe to an interactive table.\"\n",
              "              style=\"display:none;\">\n",
              "        \n",
              "  <svg xmlns=\"http://www.w3.org/2000/svg\" height=\"24px\"viewBox=\"0 0 24 24\"\n",
              "       width=\"24px\">\n",
              "    <path d=\"M0 0h24v24H0V0z\" fill=\"none\"/>\n",
              "    <path d=\"M18.56 5.44l.94 2.06.94-2.06 2.06-.94-2.06-.94-.94-2.06-.94 2.06-2.06.94zm-11 1L8.5 8.5l.94-2.06 2.06-.94-2.06-.94L8.5 2.5l-.94 2.06-2.06.94zm10 10l.94 2.06.94-2.06 2.06-.94-2.06-.94-.94-2.06-.94 2.06-2.06.94z\"/><path d=\"M17.41 7.96l-1.37-1.37c-.4-.4-.92-.59-1.43-.59-.52 0-1.04.2-1.43.59L10.3 9.45l-7.72 7.72c-.78.78-.78 2.05 0 2.83L4 21.41c.39.39.9.59 1.41.59.51 0 1.02-.2 1.41-.59l7.78-7.78 2.81-2.81c.8-.78.8-2.07 0-2.86zM5.41 20L4 18.59l7.72-7.72 1.47 1.35L5.41 20z\"/>\n",
              "  </svg>\n",
              "      </button>\n",
              "      \n",
              "  <style>\n",
              "    .colab-df-container {\n",
              "      display:flex;\n",
              "      flex-wrap:wrap;\n",
              "      gap: 12px;\n",
              "    }\n",
              "\n",
              "    .colab-df-convert {\n",
              "      background-color: #E8F0FE;\n",
              "      border: none;\n",
              "      border-radius: 50%;\n",
              "      cursor: pointer;\n",
              "      display: none;\n",
              "      fill: #1967D2;\n",
              "      height: 32px;\n",
              "      padding: 0 0 0 0;\n",
              "      width: 32px;\n",
              "    }\n",
              "\n",
              "    .colab-df-convert:hover {\n",
              "      background-color: #E2EBFA;\n",
              "      box-shadow: 0px 1px 2px rgba(60, 64, 67, 0.3), 0px 1px 3px 1px rgba(60, 64, 67, 0.15);\n",
              "      fill: #174EA6;\n",
              "    }\n",
              "\n",
              "    [theme=dark] .colab-df-convert {\n",
              "      background-color: #3B4455;\n",
              "      fill: #D2E3FC;\n",
              "    }\n",
              "\n",
              "    [theme=dark] .colab-df-convert:hover {\n",
              "      background-color: #434B5C;\n",
              "      box-shadow: 0px 1px 3px 1px rgba(0, 0, 0, 0.15);\n",
              "      filter: drop-shadow(0px 1px 2px rgba(0, 0, 0, 0.3));\n",
              "      fill: #FFFFFF;\n",
              "    }\n",
              "  </style>\n",
              "\n",
              "      <script>\n",
              "        const buttonEl =\n",
              "          document.querySelector('#df-b3182600-6500-4580-8324-0265f4a8c861 button.colab-df-convert');\n",
              "        buttonEl.style.display =\n",
              "          google.colab.kernel.accessAllowed ? 'block' : 'none';\n",
              "\n",
              "        async function convertToInteractive(key) {\n",
              "          const element = document.querySelector('#df-b3182600-6500-4580-8324-0265f4a8c861');\n",
              "          const dataTable =\n",
              "            await google.colab.kernel.invokeFunction('convertToInteractive',\n",
              "                                                     [key], {});\n",
              "          if (!dataTable) return;\n",
              "\n",
              "          const docLinkHtml = 'Like what you see? Visit the ' +\n",
              "            '<a target=\"_blank\" href=https://colab.research.google.com/notebooks/data_table.ipynb>data table notebook</a>'\n",
              "            + ' to learn more about interactive tables.';\n",
              "          element.innerHTML = '';\n",
              "          dataTable['output_type'] = 'display_data';\n",
              "          await google.colab.output.renderOutput(dataTable, element);\n",
              "          const docLink = document.createElement('div');\n",
              "          docLink.innerHTML = docLinkHtml;\n",
              "          element.appendChild(docLink);\n",
              "        }\n",
              "      </script>\n",
              "    </div>\n",
              "  </div>\n",
              "  "
            ]
          },
          "metadata": {},
          "execution_count": 6
        }
      ]
    },
    {
      "cell_type": "code",
      "source": [
        "luna = luna.fillna(method = \"bfill\")\n",
        "luna.head()"
      ],
      "metadata": {
        "colab": {
          "base_uri": "https://localhost:8080/",
          "height": 235
        },
        "id": "_WMyarFGpzOn",
        "outputId": "f94a858b-afdc-4517-ec3e-03205741f6bb"
      },
      "execution_count": 7,
      "outputs": [
        {
          "output_type": "execute_result",
          "data": {
            "text/plain": [
              "                           close_chg\n",
              "Datetime                            \n",
              "2022-04-29 00:00:00+00:00   0.148922\n",
              "2022-04-29 00:05:00+00:00   0.148922\n",
              "2022-04-29 00:10:00+00:00   0.178820\n",
              "2022-04-29 00:15:00+00:00   0.036505\n",
              "2022-04-29 00:20:00+00:00  -0.054653"
            ],
            "text/html": [
              "\n",
              "  <div id=\"df-8d3adfc7-c9c4-4724-a658-85b3bc98af2c\">\n",
              "    <div class=\"colab-df-container\">\n",
              "      <div>\n",
              "<style scoped>\n",
              "    .dataframe tbody tr th:only-of-type {\n",
              "        vertical-align: middle;\n",
              "    }\n",
              "\n",
              "    .dataframe tbody tr th {\n",
              "        vertical-align: top;\n",
              "    }\n",
              "\n",
              "    .dataframe thead th {\n",
              "        text-align: right;\n",
              "    }\n",
              "</style>\n",
              "<table border=\"1\" class=\"dataframe\">\n",
              "  <thead>\n",
              "    <tr style=\"text-align: right;\">\n",
              "      <th></th>\n",
              "      <th>close_chg</th>\n",
              "    </tr>\n",
              "    <tr>\n",
              "      <th>Datetime</th>\n",
              "      <th></th>\n",
              "    </tr>\n",
              "  </thead>\n",
              "  <tbody>\n",
              "    <tr>\n",
              "      <th>2022-04-29 00:00:00+00:00</th>\n",
              "      <td>0.148922</td>\n",
              "    </tr>\n",
              "    <tr>\n",
              "      <th>2022-04-29 00:05:00+00:00</th>\n",
              "      <td>0.148922</td>\n",
              "    </tr>\n",
              "    <tr>\n",
              "      <th>2022-04-29 00:10:00+00:00</th>\n",
              "      <td>0.178820</td>\n",
              "    </tr>\n",
              "    <tr>\n",
              "      <th>2022-04-29 00:15:00+00:00</th>\n",
              "      <td>0.036505</td>\n",
              "    </tr>\n",
              "    <tr>\n",
              "      <th>2022-04-29 00:20:00+00:00</th>\n",
              "      <td>-0.054653</td>\n",
              "    </tr>\n",
              "  </tbody>\n",
              "</table>\n",
              "</div>\n",
              "      <button class=\"colab-df-convert\" onclick=\"convertToInteractive('df-8d3adfc7-c9c4-4724-a658-85b3bc98af2c')\"\n",
              "              title=\"Convert this dataframe to an interactive table.\"\n",
              "              style=\"display:none;\">\n",
              "        \n",
              "  <svg xmlns=\"http://www.w3.org/2000/svg\" height=\"24px\"viewBox=\"0 0 24 24\"\n",
              "       width=\"24px\">\n",
              "    <path d=\"M0 0h24v24H0V0z\" fill=\"none\"/>\n",
              "    <path d=\"M18.56 5.44l.94 2.06.94-2.06 2.06-.94-2.06-.94-.94-2.06-.94 2.06-2.06.94zm-11 1L8.5 8.5l.94-2.06 2.06-.94-2.06-.94L8.5 2.5l-.94 2.06-2.06.94zm10 10l.94 2.06.94-2.06 2.06-.94-2.06-.94-.94-2.06-.94 2.06-2.06.94z\"/><path d=\"M17.41 7.96l-1.37-1.37c-.4-.4-.92-.59-1.43-.59-.52 0-1.04.2-1.43.59L10.3 9.45l-7.72 7.72c-.78.78-.78 2.05 0 2.83L4 21.41c.39.39.9.59 1.41.59.51 0 1.02-.2 1.41-.59l7.78-7.78 2.81-2.81c.8-.78.8-2.07 0-2.86zM5.41 20L4 18.59l7.72-7.72 1.47 1.35L5.41 20z\"/>\n",
              "  </svg>\n",
              "      </button>\n",
              "      \n",
              "  <style>\n",
              "    .colab-df-container {\n",
              "      display:flex;\n",
              "      flex-wrap:wrap;\n",
              "      gap: 12px;\n",
              "    }\n",
              "\n",
              "    .colab-df-convert {\n",
              "      background-color: #E8F0FE;\n",
              "      border: none;\n",
              "      border-radius: 50%;\n",
              "      cursor: pointer;\n",
              "      display: none;\n",
              "      fill: #1967D2;\n",
              "      height: 32px;\n",
              "      padding: 0 0 0 0;\n",
              "      width: 32px;\n",
              "    }\n",
              "\n",
              "    .colab-df-convert:hover {\n",
              "      background-color: #E2EBFA;\n",
              "      box-shadow: 0px 1px 2px rgba(60, 64, 67, 0.3), 0px 1px 3px 1px rgba(60, 64, 67, 0.15);\n",
              "      fill: #174EA6;\n",
              "    }\n",
              "\n",
              "    [theme=dark] .colab-df-convert {\n",
              "      background-color: #3B4455;\n",
              "      fill: #D2E3FC;\n",
              "    }\n",
              "\n",
              "    [theme=dark] .colab-df-convert:hover {\n",
              "      background-color: #434B5C;\n",
              "      box-shadow: 0px 1px 3px 1px rgba(0, 0, 0, 0.15);\n",
              "      filter: drop-shadow(0px 1px 2px rgba(0, 0, 0, 0.3));\n",
              "      fill: #FFFFFF;\n",
              "    }\n",
              "  </style>\n",
              "\n",
              "      <script>\n",
              "        const buttonEl =\n",
              "          document.querySelector('#df-8d3adfc7-c9c4-4724-a658-85b3bc98af2c button.colab-df-convert');\n",
              "        buttonEl.style.display =\n",
              "          google.colab.kernel.accessAllowed ? 'block' : 'none';\n",
              "\n",
              "        async function convertToInteractive(key) {\n",
              "          const element = document.querySelector('#df-8d3adfc7-c9c4-4724-a658-85b3bc98af2c');\n",
              "          const dataTable =\n",
              "            await google.colab.kernel.invokeFunction('convertToInteractive',\n",
              "                                                     [key], {});\n",
              "          if (!dataTable) return;\n",
              "\n",
              "          const docLinkHtml = 'Like what you see? Visit the ' +\n",
              "            '<a target=\"_blank\" href=https://colab.research.google.com/notebooks/data_table.ipynb>data table notebook</a>'\n",
              "            + ' to learn more about interactive tables.';\n",
              "          element.innerHTML = '';\n",
              "          dataTable['output_type'] = 'display_data';\n",
              "          await google.colab.output.renderOutput(dataTable, element);\n",
              "          const docLink = document.createElement('div');\n",
              "          docLink.innerHTML = docLinkHtml;\n",
              "          element.appendChild(docLink);\n",
              "        }\n",
              "      </script>\n",
              "    </div>\n",
              "  </div>\n",
              "  "
            ]
          },
          "metadata": {},
          "execution_count": 7
        }
      ]
    },
    {
      "cell_type": "code",
      "source": [
        "df = yf.download(\"BTC-USD\", start=start, end=end, interval=interval)\n",
        "df[\"close_chg\"] = (df[\"Close\"] - df[\"Close\"].shift(1)) / df[\"Close\"].shift(1) * 100\n",
        "btc = df[[\"close_chg\"]]\n",
        "btc"
      ],
      "metadata": {
        "colab": {
          "base_uri": "https://localhost:8080/",
          "height": 467
        },
        "id": "WkxYwnn9j93v",
        "outputId": "768e21a7-b6f4-4071-c6f9-965354501f4e"
      },
      "execution_count": 8,
      "outputs": [
        {
          "output_type": "stream",
          "name": "stdout",
          "text": [
            "\r[*********************100%***********************]  1 of 1 completed\n"
          ]
        },
        {
          "output_type": "execute_result",
          "data": {
            "text/plain": [
              "                           close_chg\n",
              "Datetime                            \n",
              "2022-04-29 00:00:00+00:00        NaN\n",
              "2022-04-29 00:05:00+00:00  -0.022558\n",
              "2022-04-29 00:10:00+00:00   0.168661\n",
              "2022-04-29 00:15:00+00:00   0.028362\n",
              "2022-04-29 00:20:00+00:00   0.005424\n",
              "...                              ...\n",
              "2022-05-12 23:35:00+00:00   0.457139\n",
              "2022-05-12 23:40:00+00:00   0.092091\n",
              "2022-05-12 23:45:00+00:00   0.080943\n",
              "2022-05-12 23:50:00+00:00  -0.051969\n",
              "2022-05-12 23:55:00+00:00  -0.255427\n",
              "\n",
              "[4020 rows x 1 columns]"
            ],
            "text/html": [
              "\n",
              "  <div id=\"df-bdbeb48a-ac1b-49be-8eef-11f4a3a2853c\">\n",
              "    <div class=\"colab-df-container\">\n",
              "      <div>\n",
              "<style scoped>\n",
              "    .dataframe tbody tr th:only-of-type {\n",
              "        vertical-align: middle;\n",
              "    }\n",
              "\n",
              "    .dataframe tbody tr th {\n",
              "        vertical-align: top;\n",
              "    }\n",
              "\n",
              "    .dataframe thead th {\n",
              "        text-align: right;\n",
              "    }\n",
              "</style>\n",
              "<table border=\"1\" class=\"dataframe\">\n",
              "  <thead>\n",
              "    <tr style=\"text-align: right;\">\n",
              "      <th></th>\n",
              "      <th>close_chg</th>\n",
              "    </tr>\n",
              "    <tr>\n",
              "      <th>Datetime</th>\n",
              "      <th></th>\n",
              "    </tr>\n",
              "  </thead>\n",
              "  <tbody>\n",
              "    <tr>\n",
              "      <th>2022-04-29 00:00:00+00:00</th>\n",
              "      <td>NaN</td>\n",
              "    </tr>\n",
              "    <tr>\n",
              "      <th>2022-04-29 00:05:00+00:00</th>\n",
              "      <td>-0.022558</td>\n",
              "    </tr>\n",
              "    <tr>\n",
              "      <th>2022-04-29 00:10:00+00:00</th>\n",
              "      <td>0.168661</td>\n",
              "    </tr>\n",
              "    <tr>\n",
              "      <th>2022-04-29 00:15:00+00:00</th>\n",
              "      <td>0.028362</td>\n",
              "    </tr>\n",
              "    <tr>\n",
              "      <th>2022-04-29 00:20:00+00:00</th>\n",
              "      <td>0.005424</td>\n",
              "    </tr>\n",
              "    <tr>\n",
              "      <th>...</th>\n",
              "      <td>...</td>\n",
              "    </tr>\n",
              "    <tr>\n",
              "      <th>2022-05-12 23:35:00+00:00</th>\n",
              "      <td>0.457139</td>\n",
              "    </tr>\n",
              "    <tr>\n",
              "      <th>2022-05-12 23:40:00+00:00</th>\n",
              "      <td>0.092091</td>\n",
              "    </tr>\n",
              "    <tr>\n",
              "      <th>2022-05-12 23:45:00+00:00</th>\n",
              "      <td>0.080943</td>\n",
              "    </tr>\n",
              "    <tr>\n",
              "      <th>2022-05-12 23:50:00+00:00</th>\n",
              "      <td>-0.051969</td>\n",
              "    </tr>\n",
              "    <tr>\n",
              "      <th>2022-05-12 23:55:00+00:00</th>\n",
              "      <td>-0.255427</td>\n",
              "    </tr>\n",
              "  </tbody>\n",
              "</table>\n",
              "<p>4020 rows × 1 columns</p>\n",
              "</div>\n",
              "      <button class=\"colab-df-convert\" onclick=\"convertToInteractive('df-bdbeb48a-ac1b-49be-8eef-11f4a3a2853c')\"\n",
              "              title=\"Convert this dataframe to an interactive table.\"\n",
              "              style=\"display:none;\">\n",
              "        \n",
              "  <svg xmlns=\"http://www.w3.org/2000/svg\" height=\"24px\"viewBox=\"0 0 24 24\"\n",
              "       width=\"24px\">\n",
              "    <path d=\"M0 0h24v24H0V0z\" fill=\"none\"/>\n",
              "    <path d=\"M18.56 5.44l.94 2.06.94-2.06 2.06-.94-2.06-.94-.94-2.06-.94 2.06-2.06.94zm-11 1L8.5 8.5l.94-2.06 2.06-.94-2.06-.94L8.5 2.5l-.94 2.06-2.06.94zm10 10l.94 2.06.94-2.06 2.06-.94-2.06-.94-.94-2.06-.94 2.06-2.06.94z\"/><path d=\"M17.41 7.96l-1.37-1.37c-.4-.4-.92-.59-1.43-.59-.52 0-1.04.2-1.43.59L10.3 9.45l-7.72 7.72c-.78.78-.78 2.05 0 2.83L4 21.41c.39.39.9.59 1.41.59.51 0 1.02-.2 1.41-.59l7.78-7.78 2.81-2.81c.8-.78.8-2.07 0-2.86zM5.41 20L4 18.59l7.72-7.72 1.47 1.35L5.41 20z\"/>\n",
              "  </svg>\n",
              "      </button>\n",
              "      \n",
              "  <style>\n",
              "    .colab-df-container {\n",
              "      display:flex;\n",
              "      flex-wrap:wrap;\n",
              "      gap: 12px;\n",
              "    }\n",
              "\n",
              "    .colab-df-convert {\n",
              "      background-color: #E8F0FE;\n",
              "      border: none;\n",
              "      border-radius: 50%;\n",
              "      cursor: pointer;\n",
              "      display: none;\n",
              "      fill: #1967D2;\n",
              "      height: 32px;\n",
              "      padding: 0 0 0 0;\n",
              "      width: 32px;\n",
              "    }\n",
              "\n",
              "    .colab-df-convert:hover {\n",
              "      background-color: #E2EBFA;\n",
              "      box-shadow: 0px 1px 2px rgba(60, 64, 67, 0.3), 0px 1px 3px 1px rgba(60, 64, 67, 0.15);\n",
              "      fill: #174EA6;\n",
              "    }\n",
              "\n",
              "    [theme=dark] .colab-df-convert {\n",
              "      background-color: #3B4455;\n",
              "      fill: #D2E3FC;\n",
              "    }\n",
              "\n",
              "    [theme=dark] .colab-df-convert:hover {\n",
              "      background-color: #434B5C;\n",
              "      box-shadow: 0px 1px 3px 1px rgba(0, 0, 0, 0.15);\n",
              "      filter: drop-shadow(0px 1px 2px rgba(0, 0, 0, 0.3));\n",
              "      fill: #FFFFFF;\n",
              "    }\n",
              "  </style>\n",
              "\n",
              "      <script>\n",
              "        const buttonEl =\n",
              "          document.querySelector('#df-bdbeb48a-ac1b-49be-8eef-11f4a3a2853c button.colab-df-convert');\n",
              "        buttonEl.style.display =\n",
              "          google.colab.kernel.accessAllowed ? 'block' : 'none';\n",
              "\n",
              "        async function convertToInteractive(key) {\n",
              "          const element = document.querySelector('#df-bdbeb48a-ac1b-49be-8eef-11f4a3a2853c');\n",
              "          const dataTable =\n",
              "            await google.colab.kernel.invokeFunction('convertToInteractive',\n",
              "                                                     [key], {});\n",
              "          if (!dataTable) return;\n",
              "\n",
              "          const docLinkHtml = 'Like what you see? Visit the ' +\n",
              "            '<a target=\"_blank\" href=https://colab.research.google.com/notebooks/data_table.ipynb>data table notebook</a>'\n",
              "            + ' to learn more about interactive tables.';\n",
              "          element.innerHTML = '';\n",
              "          dataTable['output_type'] = 'display_data';\n",
              "          await google.colab.output.renderOutput(dataTable, element);\n",
              "          const docLink = document.createElement('div');\n",
              "          docLink.innerHTML = docLinkHtml;\n",
              "          element.appendChild(docLink);\n",
              "        }\n",
              "      </script>\n",
              "    </div>\n",
              "  </div>\n",
              "  "
            ]
          },
          "metadata": {},
          "execution_count": 8
        }
      ]
    },
    {
      "cell_type": "code",
      "source": [
        "btc = btc.fillna(method = \"bfill\")\n",
        "btc.head()"
      ],
      "metadata": {
        "colab": {
          "base_uri": "https://localhost:8080/",
          "height": 235
        },
        "id": "VWmV5o6Mpx4e",
        "outputId": "ba54ab42-026b-43ee-9ce2-5a94830752b5"
      },
      "execution_count": 9,
      "outputs": [
        {
          "output_type": "execute_result",
          "data": {
            "text/plain": [
              "                           close_chg\n",
              "Datetime                            \n",
              "2022-04-29 00:00:00+00:00  -0.022558\n",
              "2022-04-29 00:05:00+00:00  -0.022558\n",
              "2022-04-29 00:10:00+00:00   0.168661\n",
              "2022-04-29 00:15:00+00:00   0.028362\n",
              "2022-04-29 00:20:00+00:00   0.005424"
            ],
            "text/html": [
              "\n",
              "  <div id=\"df-e442d7ff-674c-4b56-bdf3-d9b3c33f4a42\">\n",
              "    <div class=\"colab-df-container\">\n",
              "      <div>\n",
              "<style scoped>\n",
              "    .dataframe tbody tr th:only-of-type {\n",
              "        vertical-align: middle;\n",
              "    }\n",
              "\n",
              "    .dataframe tbody tr th {\n",
              "        vertical-align: top;\n",
              "    }\n",
              "\n",
              "    .dataframe thead th {\n",
              "        text-align: right;\n",
              "    }\n",
              "</style>\n",
              "<table border=\"1\" class=\"dataframe\">\n",
              "  <thead>\n",
              "    <tr style=\"text-align: right;\">\n",
              "      <th></th>\n",
              "      <th>close_chg</th>\n",
              "    </tr>\n",
              "    <tr>\n",
              "      <th>Datetime</th>\n",
              "      <th></th>\n",
              "    </tr>\n",
              "  </thead>\n",
              "  <tbody>\n",
              "    <tr>\n",
              "      <th>2022-04-29 00:00:00+00:00</th>\n",
              "      <td>-0.022558</td>\n",
              "    </tr>\n",
              "    <tr>\n",
              "      <th>2022-04-29 00:05:00+00:00</th>\n",
              "      <td>-0.022558</td>\n",
              "    </tr>\n",
              "    <tr>\n",
              "      <th>2022-04-29 00:10:00+00:00</th>\n",
              "      <td>0.168661</td>\n",
              "    </tr>\n",
              "    <tr>\n",
              "      <th>2022-04-29 00:15:00+00:00</th>\n",
              "      <td>0.028362</td>\n",
              "    </tr>\n",
              "    <tr>\n",
              "      <th>2022-04-29 00:20:00+00:00</th>\n",
              "      <td>0.005424</td>\n",
              "    </tr>\n",
              "  </tbody>\n",
              "</table>\n",
              "</div>\n",
              "      <button class=\"colab-df-convert\" onclick=\"convertToInteractive('df-e442d7ff-674c-4b56-bdf3-d9b3c33f4a42')\"\n",
              "              title=\"Convert this dataframe to an interactive table.\"\n",
              "              style=\"display:none;\">\n",
              "        \n",
              "  <svg xmlns=\"http://www.w3.org/2000/svg\" height=\"24px\"viewBox=\"0 0 24 24\"\n",
              "       width=\"24px\">\n",
              "    <path d=\"M0 0h24v24H0V0z\" fill=\"none\"/>\n",
              "    <path d=\"M18.56 5.44l.94 2.06.94-2.06 2.06-.94-2.06-.94-.94-2.06-.94 2.06-2.06.94zm-11 1L8.5 8.5l.94-2.06 2.06-.94-2.06-.94L8.5 2.5l-.94 2.06-2.06.94zm10 10l.94 2.06.94-2.06 2.06-.94-2.06-.94-.94-2.06-.94 2.06-2.06.94z\"/><path d=\"M17.41 7.96l-1.37-1.37c-.4-.4-.92-.59-1.43-.59-.52 0-1.04.2-1.43.59L10.3 9.45l-7.72 7.72c-.78.78-.78 2.05 0 2.83L4 21.41c.39.39.9.59 1.41.59.51 0 1.02-.2 1.41-.59l7.78-7.78 2.81-2.81c.8-.78.8-2.07 0-2.86zM5.41 20L4 18.59l7.72-7.72 1.47 1.35L5.41 20z\"/>\n",
              "  </svg>\n",
              "      </button>\n",
              "      \n",
              "  <style>\n",
              "    .colab-df-container {\n",
              "      display:flex;\n",
              "      flex-wrap:wrap;\n",
              "      gap: 12px;\n",
              "    }\n",
              "\n",
              "    .colab-df-convert {\n",
              "      background-color: #E8F0FE;\n",
              "      border: none;\n",
              "      border-radius: 50%;\n",
              "      cursor: pointer;\n",
              "      display: none;\n",
              "      fill: #1967D2;\n",
              "      height: 32px;\n",
              "      padding: 0 0 0 0;\n",
              "      width: 32px;\n",
              "    }\n",
              "\n",
              "    .colab-df-convert:hover {\n",
              "      background-color: #E2EBFA;\n",
              "      box-shadow: 0px 1px 2px rgba(60, 64, 67, 0.3), 0px 1px 3px 1px rgba(60, 64, 67, 0.15);\n",
              "      fill: #174EA6;\n",
              "    }\n",
              "\n",
              "    [theme=dark] .colab-df-convert {\n",
              "      background-color: #3B4455;\n",
              "      fill: #D2E3FC;\n",
              "    }\n",
              "\n",
              "    [theme=dark] .colab-df-convert:hover {\n",
              "      background-color: #434B5C;\n",
              "      box-shadow: 0px 1px 3px 1px rgba(0, 0, 0, 0.15);\n",
              "      filter: drop-shadow(0px 1px 2px rgba(0, 0, 0, 0.3));\n",
              "      fill: #FFFFFF;\n",
              "    }\n",
              "  </style>\n",
              "\n",
              "      <script>\n",
              "        const buttonEl =\n",
              "          document.querySelector('#df-e442d7ff-674c-4b56-bdf3-d9b3c33f4a42 button.colab-df-convert');\n",
              "        buttonEl.style.display =\n",
              "          google.colab.kernel.accessAllowed ? 'block' : 'none';\n",
              "\n",
              "        async function convertToInteractive(key) {\n",
              "          const element = document.querySelector('#df-e442d7ff-674c-4b56-bdf3-d9b3c33f4a42');\n",
              "          const dataTable =\n",
              "            await google.colab.kernel.invokeFunction('convertToInteractive',\n",
              "                                                     [key], {});\n",
              "          if (!dataTable) return;\n",
              "\n",
              "          const docLinkHtml = 'Like what you see? Visit the ' +\n",
              "            '<a target=\"_blank\" href=https://colab.research.google.com/notebooks/data_table.ipynb>data table notebook</a>'\n",
              "            + ' to learn more about interactive tables.';\n",
              "          element.innerHTML = '';\n",
              "          dataTable['output_type'] = 'display_data';\n",
              "          await google.colab.output.renderOutput(dataTable, element);\n",
              "          const docLink = document.createElement('div');\n",
              "          docLink.innerHTML = docLinkHtml;\n",
              "          element.appendChild(docLink);\n",
              "        }\n",
              "      </script>\n",
              "    </div>\n",
              "  </div>\n",
              "  "
            ]
          },
          "metadata": {},
          "execution_count": 9
        }
      ]
    },
    {
      "cell_type": "markdown",
      "metadata": {
        "id": "D_gY8FYeimWV"
      },
      "source": [
        "## Quick look at the data"
      ]
    },
    {
      "cell_type": "code",
      "execution_count": 10,
      "metadata": {
        "id": "-D4wHWTNimWV"
      },
      "outputs": [],
      "source": [
        "# print(df_small_noise.head())\n",
        "\n",
        "# print(df_daily_jumpsup.head())"
      ]
    },
    {
      "cell_type": "code",
      "source": [
        "print(luna.head())\n",
        "print(btc.head())"
      ],
      "metadata": {
        "colab": {
          "base_uri": "https://localhost:8080/"
        },
        "id": "WSv5SmLjln1U",
        "outputId": "09a5d047-a8bb-4bcb-c840-71f0155c5734"
      },
      "execution_count": 11,
      "outputs": [
        {
          "output_type": "stream",
          "name": "stdout",
          "text": [
            "                           close_chg\n",
            "Datetime                            \n",
            "2022-04-29 00:00:00+00:00   0.148922\n",
            "2022-04-29 00:05:00+00:00   0.148922\n",
            "2022-04-29 00:10:00+00:00   0.178820\n",
            "2022-04-29 00:15:00+00:00   0.036505\n",
            "2022-04-29 00:20:00+00:00  -0.054653\n",
            "                           close_chg\n",
            "Datetime                            \n",
            "2022-04-29 00:00:00+00:00  -0.022558\n",
            "2022-04-29 00:05:00+00:00  -0.022558\n",
            "2022-04-29 00:10:00+00:00   0.168661\n",
            "2022-04-29 00:15:00+00:00   0.028362\n",
            "2022-04-29 00:20:00+00:00   0.005424\n"
          ]
        }
      ]
    },
    {
      "cell_type": "code",
      "source": [
        "df_small_noise = btc # 정상\n",
        "df_daily_jumpsup = luna # 비정상"
      ],
      "metadata": {
        "id": "qgr5T884txdx"
      },
      "execution_count": 12,
      "outputs": []
    },
    {
      "cell_type": "markdown",
      "metadata": {
        "id": "JPoqP6G7imWV"
      },
      "source": [
        "## Visualize the data\n",
        "### Timeseries data without anomalies\n",
        "\n",
        "We will use the following data for training."
      ]
    },
    {
      "cell_type": "code",
      "execution_count": 13,
      "metadata": {
        "id": "TnwjN8bFimWW"
      },
      "outputs": [],
      "source": [
        "# # 정상 데이터(비트코인)\n",
        "# fig, ax = plt.subplots()\n",
        "# df_small_noise.plot(legend=False, ax=ax)\n",
        "# plt.show()"
      ]
    },
    {
      "cell_type": "markdown",
      "metadata": {
        "id": "u29gF6mbimWW"
      },
      "source": [
        "### Timeseries data with anomalies\n",
        "\n",
        "We will use the following data for testing and see if the sudden jump up in the\n",
        "data is detected as an anomaly."
      ]
    },
    {
      "cell_type": "code",
      "execution_count": 14,
      "metadata": {
        "id": "Qd3FbCBkimWW"
      },
      "outputs": [],
      "source": [
        "# # 비정상 데이터(루나코인)\n",
        "# fig, ax = plt.subplots()\n",
        "# df_daily_jumpsup.plot(legend=False, ax=ax)\n",
        "# plt.show()"
      ]
    },
    {
      "cell_type": "markdown",
      "source": [
        "##비트코인(주황) & 루나코인(파랑)"
      ],
      "metadata": {
        "id": "Iiqmqe6MrTSX"
      }
    },
    {
      "cell_type": "code",
      "source": [
        "fig, ax = plt.subplots()\n",
        "df_daily_jumpsup.plot(legend=False, ax=ax)\n",
        "df_small_noise.plot(legend=False, ax=ax)\n",
        "plt.show()"
      ],
      "metadata": {
        "colab": {
          "base_uri": "https://localhost:8080/",
          "height": 285
        },
        "id": "-CdQLU8QrElu",
        "outputId": "9121502d-22e3-41db-ecd1-1a58591c7daa"
      },
      "execution_count": 15,
      "outputs": [
        {
          "output_type": "display_data",
          "data": {
            "text/plain": [
              "<Figure size 432x288 with 1 Axes>"
            ],
            "image/png": "[encoded data removed]"
          },
          "metadata": {
            "needs_background": "light"
          }
        }
      ]
    },
    {
      "cell_type": "markdown",
      "metadata": {
        "id": "Zvy-xgMiimWW"
      },
      "source": [
        "## Prepare training data\n",
        "\n",
        "Get data values from the training timeseries data file and normalize the\n",
        "`value` data. We have a `value` for every 5 mins for 14 days.\n",
        "\n",
        "-   24 * 60 / 5 = **288 timesteps per day**\n",
        "-   288 * 14 = **4032 data points** in total"
      ]
    },
    {
      "cell_type": "code",
      "execution_count": 16,
      "metadata": {
        "id": "eazG2zQzimWX",
        "outputId": "ac3abe21-d128-46f5-df18-68939b05d787",
        "colab": {
          "base_uri": "https://localhost:8080/"
        }
      },
      "outputs": [
        {
          "output_type": "stream",
          "name": "stdout",
          "text": [
            "Number of training samples: 4020\n"
          ]
        }
      ],
      "source": [
        "# Normalize and save the mean and std we get,\n",
        "# for normalizing test data.\n",
        "training_mean = df_small_noise.mean()\n",
        "training_std = df_small_noise.std()\n",
        "df_training_value = (df_small_noise - training_mean) / training_std\n",
        "print(\"Number of training samples:\", len(df_training_value))"
      ]
    },
    {
      "cell_type": "markdown",
      "metadata": {
        "id": "Hyd339b9imWX"
      },
      "source": [
        "### Create sequences\n",
        "Create sequences combining `TIME_STEPS` contiguous data values from the\n",
        "training data."
      ]
    },
    {
      "cell_type": "code",
      "execution_count": 17,
      "metadata": {
        "id": "EILejBUAimWX",
        "outputId": "fcba7179-2af0-4ea1-9a85-750e4a1df026",
        "colab": {
          "base_uri": "https://localhost:8080/"
        }
      },
      "outputs": [
        {
          "output_type": "stream",
          "name": "stdout",
          "text": [
            "Training input shape:  (3733, 288, 1)\n"
          ]
        }
      ],
      "source": [
        "TIME_STEPS = 288\n",
        "\n",
        "# Generated training sequences for use in the model.\n",
        "def create_sequences(values, time_steps=TIME_STEPS):\n",
        "    output = []\n",
        "    for i in range(len(values) - time_steps + 1):\n",
        "        output.append(values[i : (i + time_steps)])\n",
        "    return np.stack(output)\n",
        "\n",
        "\n",
        "x_train = create_sequences(df_training_value.values)\n",
        "print(\"Training input shape: \", x_train.shape)"
      ]
    },
    {
      "cell_type": "markdown",
      "metadata": {
        "id": "6TtL0swsimWX"
      },
      "source": [
        "## Build a model\n",
        "\n",
        "We will build a convolutional reconstruction autoencoder model. The model will\n",
        "take input of shape `(batch_size, sequence_length, num_features)` and return\n",
        "output of the same shape. In this case, `sequence_length` is 288 and\n",
        "`num_features` is 1."
      ]
    },
    {
      "cell_type": "code",
      "execution_count": 18,
      "metadata": {
        "id": "XXmWGSjximWY",
        "outputId": "b12bb07d-7e65-4d2e-f635-46da12502833",
        "colab": {
          "base_uri": "https://localhost:8080/"
        }
      },
      "outputs": [
        {
          "output_type": "stream",
          "name": "stdout",
          "text": [
            "Model: \"sequential\"\n",
            "_________________________________________________________________\n",
            " Layer (type)                Output Shape              Param #   \n",
            "=================================================================\n",
            " conv1d (Conv1D)             (None, 144, 32)           256       \n",
            "                                                                 \n",
            " dropout (Dropout)           (None, 144, 32)           0         \n",
            "                                                                 \n",
            " conv1d_1 (Conv1D)           (None, 72, 16)            3600      \n",
            "                                                                 \n",
            " conv1d_transpose (Conv1DTra  (None, 144, 16)          1808      \n",
            " nspose)                                                         \n",
            "                                                                 \n",
            " dropout_1 (Dropout)         (None, 144, 16)           0         \n",
            "                                                                 \n",
            " conv1d_transpose_1 (Conv1DT  (None, 288, 32)          3616      \n",
            " ranspose)                                                       \n",
            "                                                                 \n",
            " conv1d_transpose_2 (Conv1DT  (None, 288, 1)           225       \n",
            " ranspose)                                                       \n",
            "                                                                 \n",
            "=================================================================\n",
            "Total params: 9,505\n",
            "Trainable params: 9,505\n",
            "Non-trainable params: 0\n",
            "_________________________________________________________________\n"
          ]
        }
      ],
      "source": [
        "model = keras.Sequential(\n",
        "    [\n",
        "        layers.Input(shape=(x_train.shape[1], x_train.shape[2])),\n",
        "        layers.Conv1D(\n",
        "            filters=32, kernel_size=7, padding=\"same\", strides=2, activation=\"relu\"\n",
        "        ),\n",
        "        layers.Dropout(rate=0.2),\n",
        "        layers.Conv1D(\n",
        "            filters=16, kernel_size=7, padding=\"same\", strides=2, activation=\"relu\"\n",
        "        ),\n",
        "        layers.Conv1DTranspose(\n",
        "            filters=16, kernel_size=7, padding=\"same\", strides=2, activation=\"relu\"\n",
        "        ),\n",
        "        layers.Dropout(rate=0.2),\n",
        "        layers.Conv1DTranspose(\n",
        "            filters=32, kernel_size=7, padding=\"same\", strides=2, activation=\"relu\"\n",
        "        ),\n",
        "        layers.Conv1DTranspose(filters=1, kernel_size=7, padding=\"same\"),\n",
        "    ]\n",
        ")\n",
        "model.compile(optimizer=keras.optimizers.Adam(learning_rate=0.001), loss=\"mse\")\n",
        "model.summary()"
      ]
    },
    {
      "cell_type": "markdown",
      "metadata": {
        "id": "-4obxtQiimWY"
      },
      "source": [
        "## Train the model\n",
        "\n",
        "Please note that we are using `x_train` as both the input and the target\n",
        "since this is a reconstruction model."
      ]
    },
    {
      "cell_type": "code",
      "execution_count": 19,
      "metadata": {
        "id": "runHIqWximWY",
        "outputId": "cf7c4a30-c218-464a-c19a-032ec255b10b",
        "colab": {
          "base_uri": "https://localhost:8080/"
        }
      },
      "outputs": [
        {
          "output_type": "stream",
          "name": "stdout",
          "text": [
            "Epoch 1/50\n",
            "27/27 [==============================] - 4s 104ms/step - loss: 0.4482 - val_loss: 2.1454\n",
            "Epoch 2/50\n",
            "27/27 [==============================] - 4s 139ms/step - loss: 0.2057 - val_loss: 0.5555\n",
            "Epoch 3/50\n",
            "27/27 [==============================] - 4s 150ms/step - loss: 0.1095 - val_loss: 0.2913\n",
            "Epoch 4/50\n",
            "27/27 [==============================] - 4s 152ms/step - loss: 0.0850 - val_loss: 0.2021\n",
            "Epoch 5/50\n",
            "27/27 [==============================] - 5s 168ms/step - loss: 0.0758 - val_loss: 0.1652\n",
            "Epoch 6/50\n",
            "27/27 [==============================] - 5s 181ms/step - loss: 0.0699 - val_loss: 0.1523\n",
            "Epoch 7/50\n",
            "27/27 [==============================] - 5s 181ms/step - loss: 0.0656 - val_loss: 0.1431\n",
            "Epoch 8/50\n",
            "27/27 [==============================] - 5s 177ms/step - loss: 0.0624 - val_loss: 0.1381\n",
            "Epoch 9/50\n",
            "27/27 [==============================] - 3s 104ms/step - loss: 0.0607 - val_loss: 0.1298\n",
            "Epoch 10/50\n",
            "27/27 [==============================] - 2s 88ms/step - loss: 0.0588 - val_loss: 0.1206\n",
            "Epoch 11/50\n",
            "27/27 [==============================] - 3s 95ms/step - loss: 0.0571 - val_loss: 0.1140\n",
            "Epoch 12/50\n",
            "27/27 [==============================] - 2s 91ms/step - loss: 0.0556 - val_loss: 0.1125\n",
            "Epoch 13/50\n",
            "27/27 [==============================] - 2s 83ms/step - loss: 0.0544 - val_loss: 0.1158\n",
            "Epoch 14/50\n",
            "27/27 [==============================] - 2s 88ms/step - loss: 0.0538 - val_loss: 0.1095\n",
            "Epoch 15/50\n",
            "27/27 [==============================] - 2s 91ms/step - loss: 0.0524 - val_loss: 0.1182\n",
            "Epoch 16/50\n",
            "27/27 [==============================] - 2s 85ms/step - loss: 0.0517 - val_loss: 0.1100\n",
            "Epoch 17/50\n",
            "27/27 [==============================] - 2s 93ms/step - loss: 0.0510 - val_loss: 0.1295\n",
            "Epoch 18/50\n",
            "27/27 [==============================] - 2s 91ms/step - loss: 0.0500 - val_loss: 0.1203\n",
            "Epoch 19/50\n",
            "27/27 [==============================] - 2s 84ms/step - loss: 0.0493 - val_loss: 0.1114\n"
          ]
        }
      ],
      "source": [
        "history = model.fit(\n",
        "    x_train,\n",
        "    x_train,\n",
        "    epochs=50,\n",
        "    batch_size=128,\n",
        "    validation_split=0.1,\n",
        "    callbacks=[\n",
        "        keras.callbacks.EarlyStopping(monitor=\"val_loss\", patience=5, mode=\"min\")\n",
        "    ],\n",
        ")"
      ]
    },
    {
      "cell_type": "markdown",
      "metadata": {
        "id": "8EctiKVeimWY"
      },
      "source": [
        "Let's plot training and validation loss to see how the training went."
      ]
    },
    {
      "cell_type": "code",
      "execution_count": 20,
      "metadata": {
        "id": "VCKsZDTZimWZ",
        "outputId": "4246d422-c8d2-44de-af98-a030fad29b5b",
        "colab": {
          "base_uri": "https://localhost:8080/",
          "height": 265
        }
      },
      "outputs": [
        {
          "output_type": "display_data",
          "data": {
            "text/plain": [
              "<Figure size 432x288 with 1 Axes>"
            ],
            "image/png": "[encoded data removed]"
          },
          "metadata": {
            "needs_background": "light"
          }
        }
      ],
      "source": [
        "plt.plot(history.history[\"loss\"], label=\"Training Loss\")\n",
        "plt.plot(history.history[\"val_loss\"], label=\"Validation Loss\")\n",
        "plt.legend()\n",
        "plt.show()"
      ]
    },
    {
      "cell_type": "markdown",
      "metadata": {
        "id": "9THFSv42imWZ"
      },
      "source": [
        "## Detecting anomalies\n",
        "\n",
        "We will detect anomalies by determining how well our model can reconstruct\n",
        "the input data.\n",
        "\n",
        "\n",
        "1.   Find MAE loss on training samples.\n",
        "2.   Find max MAE loss value. This is the worst our model has performed trying\n",
        "to reconstruct a sample. We will make this the `threshold` for anomaly\n",
        "detection.\n",
        "3.   If the reconstruction loss for a sample is greater than this `threshold`\n",
        "value then we can infer that the model is seeing a pattern that it isn't\n",
        "familiar with. We will label this sample as an `anomaly`.\n"
      ]
    },
    {
      "cell_type": "markdown",
      "source": [
        "#Threshold 설정"
      ],
      "metadata": {
        "id": "oBjBZbh9pdLF"
      }
    },
    {
      "cell_type": "code",
      "execution_count": 26,
      "metadata": {
        "id": "M4JqrSLiimWZ",
        "outputId": "571aaa0b-1e69-4aba-bbb8-aad11fc76b91",
        "colab": {
          "base_uri": "https://localhost:8080/",
          "height": 296
        }
      },
      "outputs": [
        {
          "output_type": "display_data",
          "data": {
            "text/plain": [
              "<Figure size 432x288 with 1 Axes>"
            ],
            "image/png": "[encoded data removed]"
          },
          "metadata": {
            "needs_background": "light"
          }
        },
        {
          "output_type": "stream",
          "name": "stdout",
          "text": [
            "Reconstruction error threshold:  0.41759905684172877\n"
          ]
        }
      ],
      "source": [
        "# Get train MAE loss.\n",
        "x_train_pred = model.predict(x_train)\n",
        "train_mae_loss = np.mean(np.abs(x_train_pred - x_train), axis=1)\n",
        "\n",
        "plt.hist(train_mae_loss, bins=50)\n",
        "plt.xlabel(\"Train MAE loss\")\n",
        "plt.ylabel(\"No of samples\")\n",
        "plt.show()\n",
        "\n",
        "# Get reconstruction loss threshold.\n",
        "# threshold = np.max(train_mae_loss)\n",
        "threshold = np.mean(train_mae_loss) + 6 * np.std(train_mae_loss)\n",
        "print(\"Reconstruction error threshold: \", threshold)"
      ]
    },
    {
      "cell_type": "markdown",
      "metadata": {
        "id": "7Zdf__jdimWZ"
      },
      "source": [
        "### Compare recontruction\n",
        "\n",
        "Just for fun, let's see how our model has recontructed the first sample.\n",
        "This is the 288 timesteps from day 1 of our training dataset."
      ]
    },
    {
      "cell_type": "code",
      "execution_count": 27,
      "metadata": {
        "id": "kOG_SAFbimWa",
        "outputId": "c2bc164e-e2e8-4270-85b1-49cc081e42c0",
        "colab": {
          "base_uri": "https://localhost:8080/",
          "height": 265
        }
      },
      "outputs": [
        {
          "output_type": "display_data",
          "data": {
            "text/plain": [
              "<Figure size 432x288 with 1 Axes>"
            ],
            "image/png": "[encoded data removed]"
          },
          "metadata": {
            "needs_background": "light"
          }
        }
      ],
      "source": [
        "# Checking how the first sequence is learnt\n",
        "plt.plot(x_train[0])\n",
        "plt.plot(x_train_pred[0])\n",
        "plt.show()"
      ]
    },
    {
      "cell_type": "markdown",
      "metadata": {
        "id": "2FHoQXrOimWa"
      },
      "source": [
        "### Prepare test data"
      ]
    },
    {
      "cell_type": "code",
      "execution_count": 28,
      "metadata": {
        "id": "-UUG5W6WimWa",
        "outputId": "1dd51f7a-4007-4552-efb3-afd06110b3d8",
        "colab": {
          "base_uri": "https://localhost:8080/",
          "height": 1000
        }
      },
      "outputs": [
        {
          "output_type": "display_data",
          "data": {
            "text/plain": [
              "<Figure size 432x288 with 1 Axes>"
            ],
            "image/png": "[encoded data removed]"
          },
          "metadata": {
            "needs_background": "light"
          }
        },
        {
          "output_type": "stream",
          "name": "stdout",
          "text": [
            "Test input shape:  (3733, 288, 1)\n"
          ]
        },
        {
          "output_type": "display_data",
          "data": {
            "text/plain": [
              "<Figure size 432x288 with 1 Axes>"
            ],
            "image/png": "[encoded data removed]"
          },
          "metadata": {
            "needs_background": "light"
          }
        },
        {
          "output_type": "stream",
          "name": "stdout",
          "text": [
            "Number of anomaly samples:  885\n",
            "Indices of anomaly samples:  (array([2844, 2845, 2846, 2847, 2848, 2850, 2852, 2854, 2855, 2856, 2858,\n",
            "       2859, 2860, 2861, 2862, 2863, 2864, 2865, 2866, 2867, 2868, 2869,\n",
            "       2870, 2871, 2872, 2873, 2874, 2875, 2876, 2877, 2878, 2879, 2880,\n",
            "       2881, 2882, 2883, 2884, 2885, 2886, 2887, 2888, 2889, 2890, 2891,\n",
            "       2892, 2893, 2894, 2895, 2896, 2897, 2898, 2899, 2900, 2901, 2902,\n",
            "       2903, 2904, 2905, 2906, 2907, 2908, 2909, 2910, 2911, 2912, 2913,\n",
            "       2914, 2915, 2916, 2917, 2918, 2919, 2920, 2921, 2922, 2923, 2924,\n",
            "       2925, 2926, 2927, 2928, 2929, 2930, 2931, 2932, 2933, 2934, 2935,\n",
            "       2936, 2937, 2938, 2939, 2940, 2941, 2942, 2943, 2944, 2945, 2946,\n",
            "       2947, 2948, 2949, 2950, 2951, 2952, 2953, 2954, 2955, 2956, 2957,\n",
            "       2958, 2959, 2960, 2961, 2962, 2963, 2964, 2965, 2966, 2967, 2968,\n",
            "       2969, 2970, 2971, 2972, 2973, 2974, 2975, 2976, 2977, 2978, 2979,\n",
            "       2980, 2981, 2982, 2983, 2984, 2985, 2986, 2987, 2988, 2989, 2990,\n",
            "       2991, 2992, 2993, 2994, 2995, 2996, 2997, 2998, 2999, 3000, 3001,\n",
            "       3002, 3003, 3004, 3005, 3006, 3007, 3008, 3009, 3010, 3011, 3012,\n",
            "       3013, 3014, 3015, 3016, 3017, 3018, 3019, 3020, 3021, 3022, 3023,\n",
            "       3024, 3025, 3026, 3027, 3028, 3029, 3030, 3031, 3032, 3033, 3034,\n",
            "       3035, 3036, 3037, 3038, 3039, 3040, 3041, 3042, 3043, 3044, 3045,\n",
            "       3046, 3047, 3048, 3049, 3050, 3051, 3052, 3053, 3054, 3055, 3056,\n",
            "       3057, 3058, 3059, 3060, 3061, 3062, 3063, 3064, 3065, 3066, 3067,\n",
            "       3068, 3069, 3070, 3071, 3072, 3073, 3074, 3075, 3076, 3077, 3078,\n",
            "       3079, 3080, 3081, 3082, 3083, 3084, 3085, 3086, 3087, 3088, 3089,\n",
            "       3090, 3091, 3092, 3093, 3094, 3095, 3096, 3097, 3098, 3099, 3100,\n",
            "       3101, 3102, 3103, 3104, 3105, 3106, 3107, 3108, 3109, 3110, 3111,\n",
            "       3112, 3113, 3114, 3115, 3116, 3117, 3118, 3119, 3120, 3121, 3122,\n",
            "       3123, 3124, 3125, 3126, 3127, 3128, 3129, 3130, 3131, 3132, 3133,\n",
            "       3134, 3135, 3136, 3137, 3138, 3139, 3140, 3141, 3142, 3143, 3144,\n",
            "       3145, 3146, 3147, 3148, 3149, 3150, 3151, 3152, 3153, 3154, 3155,\n",
            "       3156, 3157, 3158, 3159, 3160, 3161, 3162, 3163, 3164, 3165, 3166,\n",
            "       3167, 3168, 3169, 3170, 3171, 3172, 3173, 3174, 3175, 3176, 3177,\n",
            "       3178, 3179, 3180, 3181, 3182, 3183, 3184, 3185, 3186, 3187, 3188,\n",
            "       3189, 3190, 3191, 3192, 3193, 3194, 3195, 3196, 3197, 3198, 3199,\n",
            "       3200, 3201, 3202, 3203, 3204, 3205, 3206, 3207, 3208, 3209, 3210,\n",
            "       3211, 3212, 3213, 3214, 3215, 3216, 3217, 3218, 3219, 3220, 3221,\n",
            "       3222, 3223, 3224, 3225, 3226, 3227, 3228, 3229, 3230, 3231, 3232,\n",
            "       3233, 3234, 3235, 3236, 3237, 3238, 3239, 3240, 3241, 3242, 3243,\n",
            "       3244, 3245, 3246, 3247, 3248, 3249, 3250, 3251, 3252, 3253, 3254,\n",
            "       3255, 3256, 3257, 3258, 3259, 3260, 3261, 3262, 3263, 3264, 3265,\n",
            "       3266, 3267, 3268, 3269, 3270, 3271, 3272, 3273, 3274, 3275, 3276,\n",
            "       3277, 3278, 3279, 3280, 3281, 3282, 3283, 3284, 3285, 3286, 3287,\n",
            "       3288, 3289, 3290, 3291, 3292, 3293, 3294, 3295, 3296, 3297, 3298,\n",
            "       3299, 3300, 3301, 3302, 3303, 3304, 3305, 3306, 3307, 3308, 3309,\n",
            "       3310, 3311, 3312, 3313, 3314, 3315, 3316, 3317, 3318, 3319, 3320,\n",
            "       3321, 3322, 3323, 3324, 3325, 3326, 3327, 3328, 3329, 3330, 3331,\n",
            "       3332, 3333, 3334, 3335, 3336, 3337, 3338, 3339, 3340, 3341, 3342,\n",
            "       3343, 3344, 3345, 3346, 3347, 3348, 3349, 3350, 3351, 3352, 3353,\n",
            "       3354, 3355, 3356, 3357, 3358, 3359, 3360, 3361, 3362, 3363, 3364,\n",
            "       3365, 3366, 3367, 3368, 3369, 3370, 3371, 3372, 3373, 3374, 3375,\n",
            "       3376, 3377, 3378, 3379, 3380, 3381, 3382, 3383, 3384, 3385, 3386,\n",
            "       3387, 3388, 3389, 3390, 3391, 3392, 3393, 3394, 3395, 3396, 3397,\n",
            "       3398, 3399, 3400, 3401, 3402, 3403, 3404, 3405, 3406, 3407, 3408,\n",
            "       3409, 3410, 3411, 3412, 3413, 3414, 3415, 3416, 3417, 3418, 3419,\n",
            "       3420, 3421, 3422, 3423, 3424, 3425, 3426, 3427, 3428, 3429, 3430,\n",
            "       3431, 3432, 3433, 3434, 3435, 3436, 3437, 3438, 3439, 3440, 3441,\n",
            "       3442, 3443, 3444, 3445, 3446, 3447, 3448, 3449, 3450, 3451, 3452,\n",
            "       3453, 3454, 3455, 3456, 3457, 3458, 3459, 3460, 3461, 3462, 3463,\n",
            "       3464, 3465, 3466, 3467, 3468, 3469, 3470, 3471, 3472, 3473, 3474,\n",
            "       3475, 3476, 3477, 3478, 3479, 3480, 3481, 3482, 3483, 3484, 3485,\n",
            "       3486, 3487, 3488, 3489, 3490, 3491, 3492, 3493, 3494, 3495, 3496,\n",
            "       3497, 3498, 3499, 3500, 3501, 3502, 3503, 3504, 3505, 3506, 3507,\n",
            "       3508, 3509, 3510, 3511, 3512, 3513, 3514, 3515, 3516, 3517, 3518,\n",
            "       3519, 3520, 3521, 3522, 3523, 3524, 3525, 3526, 3527, 3528, 3529,\n",
            "       3530, 3531, 3532, 3533, 3534, 3535, 3536, 3537, 3538, 3539, 3540,\n",
            "       3541, 3542, 3543, 3544, 3545, 3546, 3547, 3548, 3549, 3550, 3551,\n",
            "       3552, 3553, 3554, 3555, 3556, 3557, 3558, 3559, 3560, 3561, 3562,\n",
            "       3563, 3564, 3565, 3566, 3567, 3568, 3569, 3570, 3571, 3572, 3573,\n",
            "       3574, 3575, 3576, 3577, 3578, 3579, 3580, 3581, 3582, 3583, 3584,\n",
            "       3585, 3586, 3587, 3588, 3589, 3590, 3591, 3592, 3593, 3594, 3595,\n",
            "       3596, 3597, 3598, 3599, 3600, 3601, 3602, 3603, 3604, 3605, 3606,\n",
            "       3607, 3608, 3609, 3610, 3611, 3612, 3613, 3614, 3615, 3616, 3617,\n",
            "       3618, 3619, 3620, 3621, 3622, 3623, 3624, 3625, 3626, 3627, 3628,\n",
            "       3629, 3630, 3631, 3632, 3633, 3634, 3635, 3636, 3637, 3638, 3639,\n",
            "       3640, 3641, 3642, 3643, 3644, 3645, 3646, 3647, 3648, 3649, 3650,\n",
            "       3651, 3652, 3653, 3654, 3655, 3656, 3657, 3658, 3659, 3660, 3661,\n",
            "       3662, 3663, 3664, 3665, 3666, 3667, 3668, 3669, 3670, 3671, 3672,\n",
            "       3673, 3674, 3675, 3676, 3677, 3678, 3679, 3680, 3681, 3682, 3683,\n",
            "       3684, 3685, 3686, 3687, 3688, 3689, 3690, 3691, 3692, 3693, 3694,\n",
            "       3695, 3696, 3697, 3698, 3699, 3700, 3701, 3702, 3703, 3704, 3705,\n",
            "       3706, 3707, 3708, 3709, 3710, 3711, 3712, 3713, 3714, 3715, 3716,\n",
            "       3717, 3718, 3719, 3720, 3721, 3722, 3723, 3724, 3725, 3726, 3727,\n",
            "       3728, 3729, 3730, 3731, 3732]),)\n"
          ]
        }
      ],
      "source": [
        "\n",
        "df_test_value = (df_daily_jumpsup - training_mean) / training_std\n",
        "fig, ax = plt.subplots()\n",
        "df_test_value.plot(legend=False, ax=ax)\n",
        "plt.show()\n",
        "\n",
        "# Create sequences from test values.\n",
        "x_test = create_sequences(df_test_value.values)\n",
        "print(\"Test input shape: \", x_test.shape)\n",
        "\n",
        "# Get test MAE loss.\n",
        "x_test_pred = model.predict(x_test)\n",
        "test_mae_loss = np.mean(np.abs(x_test_pred - x_test), axis=1)\n",
        "test_mae_loss = test_mae_loss.reshape((-1))\n",
        "\n",
        "plt.hist(test_mae_loss, bins=50)\n",
        "plt.xlabel(\"test MAE loss\")\n",
        "plt.ylabel(\"No of samples\")\n",
        "plt.show()\n",
        "\n",
        "# Detect all the samples which are anomalies.\n",
        "anomalies = test_mae_loss > threshold\n",
        "print(\"Number of anomaly samples: \", np.sum(anomalies))\n",
        "print(\"Indices of anomaly samples: \", np.where(anomalies))"
      ]
    },
    {
      "cell_type": "markdown",
      "metadata": {
        "id": "ualalyjjimWa"
      },
      "source": [
        "## Plot anomalies\n",
        "\n",
        "We now know the samples of the data which are anomalies. With this, we will\n",
        "find the corresponding `timestamps` from the original test data. We will be\n",
        "using the following method to do that:\n",
        "\n",
        "Let's say time_steps = 3 and we have 10 training values. Our `x_train` will\n",
        "look like this:\n",
        "\n",
        "- 0, 1, 2\n",
        "- 1, 2, 3\n",
        "- 2, 3, 4\n",
        "- 3, 4, 5\n",
        "- 4, 5, 6\n",
        "- 5, 6, 7\n",
        "- 6, 7, 8\n",
        "- 7, 8, 9\n",
        "\n",
        "All except the initial and the final time_steps-1 data values, will appear in\n",
        "`time_steps` number of samples. So, if we know that the samples\n",
        "[(3, 4, 5), (4, 5, 6), (5, 6, 7)] are anomalies, we can say that the data point\n",
        "5 is an anomaly."
      ]
    },
    {
      "cell_type": "code",
      "execution_count": 29,
      "metadata": {
        "id": "L-_l4C6EimWa"
      },
      "outputs": [],
      "source": [
        "# data i is an anomaly if samples [(i - timesteps + 1) to (i)] are anomalies\n",
        "anomalous_data_indices = []\n",
        "for data_idx in range(TIME_STEPS - 1, len(df_test_value) - TIME_STEPS + 1):\n",
        "    if np.all(anomalies[data_idx - TIME_STEPS + 1 : data_idx]):\n",
        "        anomalous_data_indices.append(data_idx)\n",
        "# anomalous_data_indices"
      ]
    },
    {
      "cell_type": "markdown",
      "metadata": {
        "id": "WsvlZdr3imWa"
      },
      "source": [
        "Let's overlay the anomalies on the original test data plot."
      ]
    },
    {
      "cell_type": "code",
      "execution_count": 30,
      "metadata": {
        "id": "EQ1j7IvpimWa",
        "outputId": "98b825a0-b0fa-4828-848a-cac4fdc52b0c",
        "colab": {
          "base_uri": "https://localhost:8080/",
          "height": 285
        }
      },
      "outputs": [
        {
          "output_type": "display_data",
          "data": {
            "text/plain": [
              "<Figure size 432x288 with 1 Axes>"
            ],
            "image/png": "[encoded data removed]"
          },
          "metadata": {
            "needs_background": "light"
          }
        }
      ],
      "source": [
        "df_subset = df_daily_jumpsup.iloc[anomalous_data_indices]\n",
        "fig, ax = plt.subplots()\n",
        "df_daily_jumpsup.plot(legend=False, ax=ax)\n",
        "if anomalous_data_indices:\n",
        "  df_subset.plot(legend=False, ax=ax, color=\"r\")\n",
        "plt.show()"
      ]
    },
    {
      "cell_type": "code",
      "source": [
        ""
      ],
      "metadata": {
        "id": "ntyCUwudvjA9"
      },
      "execution_count": 30,
      "outputs": []
    }
  ],
  "metadata": {
    "colab": {
      "collapsed_sections": [],
      "name": "06-03 lunacoin_anomaly_detection",
      "provenance": [],
      "include_colab_link": true
    },
    "kernelspec": {
      "display_name": "Python 3",
      "language": "python",
      "name": "python3"
    },
    "language_info": {
      "codemirror_mode": {
        "name": "ipython",
        "version": 3
      },
      "file_extension": ".py",
      "mimetype": "text/x-python",
      "name": "python",
      "nbconvert_exporter": "python",
      "pygments_lexer": "ipython3",
      "version": "3.7.0"
    }
  },
  "nbformat": 4,
  "nbformat_minor": 0
}