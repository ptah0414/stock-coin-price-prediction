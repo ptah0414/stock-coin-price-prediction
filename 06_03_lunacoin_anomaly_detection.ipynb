{
  "cells": [
    {
      "cell_type": "markdown",
      "metadata": {
        "id": "view-in-github",
        "colab_type": "text"
      },
      "source": [
        "<a href=\"https://colab.research.google.com/github/ptah0414/stock-coin-price-prediction/blob/main/06_03_lunacoin_anomaly_detection.ipynb\" target=\"_parent\"><img src=\"https://colab.research.google.com/assets/colab-badge.svg\" alt=\"Open In Colab\"/></a>"
      ]
    },
    {
      "cell_type": "markdown",
      "metadata": {
        "id": "Slgc7SsuimWR"
      },
      "source": [
        "# Timeseries anomaly detection using an Autoencoder\n",
        "\n"
      ]
    },
    {
      "cell_type": "markdown",
      "metadata": {
        "id": "ojKTfP8XimWT"
      },
      "source": [
        "## Introduction\n",
        "\n",
        "This script demonstrates how you can use a reconstruction convolutional\n",
        "autoencoder model to detect anomalies in timeseries data."
      ]
    },
    {
      "cell_type": "markdown",
      "metadata": {
        "id": "lMjCCAW9imWT"
      },
      "source": [
        "## Setup"
      ]
    },
    {
      "cell_type": "code",
      "execution_count": null,
      "metadata": {
        "id": "fD27mLsdimWU"
      },
      "outputs": [],
      "source": [
        "import numpy as np\n",
        "import pandas as pd\n",
        "from tensorflow import keras\n",
        "from tensorflow.keras import layers\n",
        "from matplotlib import pyplot as plt"
      ]
    },
    {
      "cell_type": "markdown",
      "metadata": {
        "id": "XC8iz5K_imWU"
      },
      "source": [
        "## Load the data\n"
      ]
    },
    {
      "cell_type": "code",
      "source": [
        "# !pip install yfinance"
      ],
      "metadata": {
        "id": "OMpudy3tj9OY",
        "colab": {
          "base_uri": "https://localhost:8080/",
          "height": 667
        },
        "outputId": "668db2c1-656e-4bfb-e06b-e798ee1e80ce"
      },
      "execution_count": null,
      "outputs": [
        {
          "output_type": "stream",
          "name": "stdout",
          "text": [
            "Looking in indexes: https://pypi.org/simple, https://us-python.pkg.dev/colab-wheels/public/simple/\n",
            "Collecting yfinance\n",
            "  Downloading yfinance-0.1.70-py2.py3-none-any.whl (26 kB)\n",
            "Requirement already satisfied: pandas>=0.24.0 in /usr/local/lib/python3.7/dist-packages (from yfinance) (1.3.5)\n",
            "Collecting requests>=2.26\n",
            "  Downloading requests-2.27.1-py2.py3-none-any.whl (63 kB)\n",
            "\u001b[K     |████████████████████████████████| 63 kB 1.5 MB/s \n",
            "\u001b[?25hRequirement already satisfied: numpy>=1.15 in /usr/local/lib/python3.7/dist-packages (from yfinance) (1.21.6)\n",
            "Requirement already satisfied: multitasking>=0.0.7 in /usr/local/lib/python3.7/dist-packages (from yfinance) (0.0.10)\n",
            "Collecting lxml>=4.5.1\n",
            "  Downloading lxml-4.9.0-cp37-cp37m-manylinux_2_17_x86_64.manylinux2014_x86_64.manylinux_2_24_x86_64.whl (6.4 MB)\n",
            "\u001b[K     |████████████████████████████████| 6.4 MB 11.1 MB/s \n",
            "\u001b[?25hRequirement already satisfied: python-dateutil>=2.7.3 in /usr/local/lib/python3.7/dist-packages (from pandas>=0.24.0->yfinance) (2.8.2)\n",
            "Requirement already satisfied: pytz>=2017.3 in /usr/local/lib/python3.7/dist-packages (from pandas>=0.24.0->yfinance) (2022.1)\n",
            "Requirement already satisfied: six>=1.5 in /usr/local/lib/python3.7/dist-packages (from python-dateutil>=2.7.3->pandas>=0.24.0->yfinance) (1.15.0)\n",
            "Requirement already satisfied: charset-normalizer~=2.0.0 in /usr/local/lib/python3.7/dist-packages (from requests>=2.26->yfinance) (2.0.12)\n",
            "Requirement already satisfied: urllib3<1.27,>=1.21.1 in /usr/local/lib/python3.7/dist-packages (from requests>=2.26->yfinance) (1.24.3)\n",
            "Requirement already satisfied: certifi>=2017.4.17 in /usr/local/lib/python3.7/dist-packages (from requests>=2.26->yfinance) (2022.5.18.1)\n",
            "Requirement already satisfied: idna<4,>=2.5 in /usr/local/lib/python3.7/dist-packages (from requests>=2.26->yfinance) (2.10)\n",
            "Installing collected packages: requests, lxml, yfinance\n",
            "  Attempting uninstall: requests\n",
            "    Found existing installation: requests 2.23.0\n",
            "    Uninstalling requests-2.23.0:\n",
            "      Successfully uninstalled requests-2.23.0\n",
            "  Attempting uninstall: lxml\n",
            "    Found existing installation: lxml 4.2.6\n",
            "    Uninstalling lxml-4.2.6:\n",
            "      Successfully uninstalled lxml-4.2.6\n",
            "\u001b[31mERROR: pip's dependency resolver does not currently take into account all the packages that are installed. This behaviour is the source of the following dependency conflicts.\n",
            "google-colab 1.0.0 requires requests~=2.23.0, but you have requests 2.27.1 which is incompatible.\n",
            "datascience 0.10.6 requires folium==0.2.1, but you have folium 0.8.3 which is incompatible.\u001b[0m\n",
            "Successfully installed lxml-4.9.0 requests-2.27.1 yfinance-0.1.70\n"
          ]
        },
        {
          "output_type": "display_data",
          "data": {
            "application/vnd.colab-display-data+json": {
              "pip_warning": {
                "packages": [
                  "requests"
                ]
              }
            }
          },
          "metadata": {}
        }
      ]
    },
    {
      "cell_type": "code",
      "source": [
        "import yfinance as yf"
      ],
      "metadata": {
        "id": "N6KxDKYOlZNs"
      },
      "execution_count": null,
      "outputs": []
    },
    {
      "cell_type": "code",
      "source": [
        "interval = \"5m\"\n",
        "# valid intervals: 1m,2m,5m,15m,30m,60m,90m,1h,1d,5d,1wk,1mo,3mo"
      ],
      "metadata": {
        "id": "nWjxvtY29Nyt"
      },
      "execution_count": null,
      "outputs": []
    },
    {
      "cell_type": "code",
      "source": [
        "# 9일부터 12일 폭락함\n",
        "start = \"2022-04-29\"\n",
        "end = \"2022-05-13\""
      ],
      "metadata": {
        "id": "89MxQ3v5CMS2"
      },
      "execution_count": null,
      "outputs": []
    },
    {
      "cell_type": "code",
      "source": [
        "df = yf.download(\"LUNA1-USD\", start=start, end=end, interval=interval)\n",
        "df[\"close_chg\"] = (df[\"Close\"] - df[\"Close\"].shift(1)) / df[\"Close\"].shift(1) * 100\n",
        "luna = df[[\"close_chg\"]]\n",
        "luna"
      ],
      "metadata": {
        "colab": {
          "base_uri": "https://localhost:8080/",
          "height": 467
        },
        "id": "fyeTh6Dbj96U",
        "outputId": "a7826dc1-9ecc-47c8-a7aa-651327206cfa"
      },
      "execution_count": null,
      "outputs": [
        {
          "output_type": "stream",
          "name": "stdout",
          "text": [
            "\r[*********************100%***********************]  1 of 1 completed\n"
          ]
        },
        {
          "output_type": "execute_result",
          "data": {
            "text/plain": [
              "                           close_chg\n",
              "Datetime                            \n",
              "2022-04-29 00:00:00+00:00        NaN\n",
              "2022-04-29 00:05:00+00:00  -0.040314\n",
              "2022-04-29 00:10:00+00:00   0.099108\n",
              "2022-04-29 00:15:00+00:00   0.116167\n",
              "2022-04-29 00:20:00+00:00  -0.054653\n",
              "...                              ...\n",
              "2022-05-12 23:35:00+00:00   2.303633\n",
              "2022-05-12 23:40:00+00:00 -11.332991\n",
              "2022-05-12 23:45:00+00:00   2.043528\n",
              "2022-05-12 23:50:00+00:00  -3.548905\n",
              "2022-05-12 23:55:00+00:00 -17.571902\n",
              "\n",
              "[4032 rows x 1 columns]"
            ],
            "text/html": [
              "\n",
              "  <div id=\"df-7edd8252-fb5b-4da2-b7e1-da3b3ae5b066\">\n",
              "    <div class=\"colab-df-container\">\n",
              "      <div>\n",
              "<style scoped>\n",
              "    .dataframe tbody tr th:only-of-type {\n",
              "        vertical-align: middle;\n",
              "    }\n",
              "\n",
              "    .dataframe tbody tr th {\n",
              "        vertical-align: top;\n",
              "    }\n",
              "\n",
              "    .dataframe thead th {\n",
              "        text-align: right;\n",
              "    }\n",
              "</style>\n",
              "<table border=\"1\" class=\"dataframe\">\n",
              "  <thead>\n",
              "    <tr style=\"text-align: right;\">\n",
              "      <th></th>\n",
              "      <th>close_chg</th>\n",
              "    </tr>\n",
              "    <tr>\n",
              "      <th>Datetime</th>\n",
              "      <th></th>\n",
              "    </tr>\n",
              "  </thead>\n",
              "  <tbody>\n",
              "    <tr>\n",
              "      <th>2022-04-29 00:00:00+00:00</th>\n",
              "      <td>NaN</td>\n",
              "    </tr>\n",
              "    <tr>\n",
              "      <th>2022-04-29 00:05:00+00:00</th>\n",
              "      <td>-0.040314</td>\n",
              "    </tr>\n",
              "    <tr>\n",
              "      <th>2022-04-29 00:10:00+00:00</th>\n",
              "      <td>0.099108</td>\n",
              "    </tr>\n",
              "    <tr>\n",
              "      <th>2022-04-29 00:15:00+00:00</th>\n",
              "      <td>0.116167</td>\n",
              "    </tr>\n",
              "    <tr>\n",
              "      <th>2022-04-29 00:20:00+00:00</th>\n",
              "      <td>-0.054653</td>\n",
              "    </tr>\n",
              "    <tr>\n",
              "      <th>...</th>\n",
              "      <td>...</td>\n",
              "    </tr>\n",
              "    <tr>\n",
              "      <th>2022-05-12 23:35:00+00:00</th>\n",
              "      <td>2.303633</td>\n",
              "    </tr>\n",
              "    <tr>\n",
              "      <th>2022-05-12 23:40:00+00:00</th>\n",
              "      <td>-11.332991</td>\n",
              "    </tr>\n",
              "    <tr>\n",
              "      <th>2022-05-12 23:45:00+00:00</th>\n",
              "      <td>2.043528</td>\n",
              "    </tr>\n",
              "    <tr>\n",
              "      <th>2022-05-12 23:50:00+00:00</th>\n",
              "      <td>-3.548905</td>\n",
              "    </tr>\n",
              "    <tr>\n",
              "      <th>2022-05-12 23:55:00+00:00</th>\n",
              "      <td>-17.571902</td>\n",
              "    </tr>\n",
              "  </tbody>\n",
              "</table>\n",
              "<p>4032 rows × 1 columns</p>\n",
              "</div>\n",
              "      <button class=\"colab-df-convert\" onclick=\"convertToInteractive('df-7edd8252-fb5b-4da2-b7e1-da3b3ae5b066')\"\n",
              "              title=\"Convert this dataframe to an interactive table.\"\n",
              "              style=\"display:none;\">\n",
              "        \n",
              "  <svg xmlns=\"http://www.w3.org/2000/svg\" height=\"24px\"viewBox=\"0 0 24 24\"\n",
              "       width=\"24px\">\n",
              "    <path d=\"M0 0h24v24H0V0z\" fill=\"none\"/>\n",
              "    <path d=\"M18.56 5.44l.94 2.06.94-2.06 2.06-.94-2.06-.94-.94-2.06-.94 2.06-2.06.94zm-11 1L8.5 8.5l.94-2.06 2.06-.94-2.06-.94L8.5 2.5l-.94 2.06-2.06.94zm10 10l.94 2.06.94-2.06 2.06-.94-2.06-.94-.94-2.06-.94 2.06-2.06.94z\"/><path d=\"M17.41 7.96l-1.37-1.37c-.4-.4-.92-.59-1.43-.59-.52 0-1.04.2-1.43.59L10.3 9.45l-7.72 7.72c-.78.78-.78 2.05 0 2.83L4 21.41c.39.39.9.59 1.41.59.51 0 1.02-.2 1.41-.59l7.78-7.78 2.81-2.81c.8-.78.8-2.07 0-2.86zM5.41 20L4 18.59l7.72-7.72 1.47 1.35L5.41 20z\"/>\n",
              "  </svg>\n",
              "      </button>\n",
              "      \n",
              "  <style>\n",
              "    .colab-df-container {\n",
              "      display:flex;\n",
              "      flex-wrap:wrap;\n",
              "      gap: 12px;\n",
              "    }\n",
              "\n",
              "    .colab-df-convert {\n",
              "      background-color: #E8F0FE;\n",
              "      border: none;\n",
              "      border-radius: 50%;\n",
              "      cursor: pointer;\n",
              "      display: none;\n",
              "      fill: #1967D2;\n",
              "      height: 32px;\n",
              "      padding: 0 0 0 0;\n",
              "      width: 32px;\n",
              "    }\n",
              "\n",
              "    .colab-df-convert:hover {\n",
              "      background-color: #E2EBFA;\n",
              "      box-shadow: 0px 1px 2px rgba(60, 64, 67, 0.3), 0px 1px 3px 1px rgba(60, 64, 67, 0.15);\n",
              "      fill: #174EA6;\n",
              "    }\n",
              "\n",
              "    [theme=dark] .colab-df-convert {\n",
              "      background-color: #3B4455;\n",
              "      fill: #D2E3FC;\n",
              "    }\n",
              "\n",
              "    [theme=dark] .colab-df-convert:hover {\n",
              "      background-color: #434B5C;\n",
              "      box-shadow: 0px 1px 3px 1px rgba(0, 0, 0, 0.15);\n",
              "      filter: drop-shadow(0px 1px 2px rgba(0, 0, 0, 0.3));\n",
              "      fill: #FFFFFF;\n",
              "    }\n",
              "  </style>\n",
              "\n",
              "      <script>\n",
              "        const buttonEl =\n",
              "          document.querySelector('#df-7edd8252-fb5b-4da2-b7e1-da3b3ae5b066 button.colab-df-convert');\n",
              "        buttonEl.style.display =\n",
              "          google.colab.kernel.accessAllowed ? 'block' : 'none';\n",
              "\n",
              "        async function convertToInteractive(key) {\n",
              "          const element = document.querySelector('#df-7edd8252-fb5b-4da2-b7e1-da3b3ae5b066');\n",
              "          const dataTable =\n",
              "            await google.colab.kernel.invokeFunction('convertToInteractive',\n",
              "                                                     [key], {});\n",
              "          if (!dataTable) return;\n",
              "\n",
              "          const docLinkHtml = 'Like what you see? Visit the ' +\n",
              "            '<a target=\"_blank\" href=https://colab.research.google.com/notebooks/data_table.ipynb>data table notebook</a>'\n",
              "            + ' to learn more about interactive tables.';\n",
              "          element.innerHTML = '';\n",
              "          dataTable['output_type'] = 'display_data';\n",
              "          await google.colab.output.renderOutput(dataTable, element);\n",
              "          const docLink = document.createElement('div');\n",
              "          docLink.innerHTML = docLinkHtml;\n",
              "          element.appendChild(docLink);\n",
              "        }\n",
              "      </script>\n",
              "    </div>\n",
              "  </div>\n",
              "  "
            ]
          },
          "metadata": {},
          "execution_count": 7
        }
      ]
    },
    {
      "cell_type": "code",
      "source": [
        "luna = luna.fillna(method = \"bfill\")\n",
        "luna.head()"
      ],
      "metadata": {
        "colab": {
          "base_uri": "https://localhost:8080/",
          "height": 235
        },
        "id": "_WMyarFGpzOn",
        "outputId": "e041e1aa-9784-4afb-c7c7-0265671bedce"
      },
      "execution_count": null,
      "outputs": [
        {
          "output_type": "execute_result",
          "data": {
            "text/plain": [
              "                           close_chg\n",
              "Datetime                            \n",
              "2022-04-29 00:00:00+00:00  -0.040314\n",
              "2022-04-29 00:05:00+00:00  -0.040314\n",
              "2022-04-29 00:10:00+00:00   0.099108\n",
              "2022-04-29 00:15:00+00:00   0.116167\n",
              "2022-04-29 00:20:00+00:00  -0.054653"
            ],
            "text/html": [
              "\n",
              "  <div id=\"df-69e850e8-f983-445b-9c41-93680b9a386f\">\n",
              "    <div class=\"colab-df-container\">\n",
              "      <div>\n",
              "<style scoped>\n",
              "    .dataframe tbody tr th:only-of-type {\n",
              "        vertical-align: middle;\n",
              "    }\n",
              "\n",
              "    .dataframe tbody tr th {\n",
              "        vertical-align: top;\n",
              "    }\n",
              "\n",
              "    .dataframe thead th {\n",
              "        text-align: right;\n",
              "    }\n",
              "</style>\n",
              "<table border=\"1\" class=\"dataframe\">\n",
              "  <thead>\n",
              "    <tr style=\"text-align: right;\">\n",
              "      <th></th>\n",
              "      <th>close_chg</th>\n",
              "    </tr>\n",
              "    <tr>\n",
              "      <th>Datetime</th>\n",
              "      <th></th>\n",
              "    </tr>\n",
              "  </thead>\n",
              "  <tbody>\n",
              "    <tr>\n",
              "      <th>2022-04-29 00:00:00+00:00</th>\n",
              "      <td>-0.040314</td>\n",
              "    </tr>\n",
              "    <tr>\n",
              "      <th>2022-04-29 00:05:00+00:00</th>\n",
              "      <td>-0.040314</td>\n",
              "    </tr>\n",
              "    <tr>\n",
              "      <th>2022-04-29 00:10:00+00:00</th>\n",
              "      <td>0.099108</td>\n",
              "    </tr>\n",
              "    <tr>\n",
              "      <th>2022-04-29 00:15:00+00:00</th>\n",
              "      <td>0.116167</td>\n",
              "    </tr>\n",
              "    <tr>\n",
              "      <th>2022-04-29 00:20:00+00:00</th>\n",
              "      <td>-0.054653</td>\n",
              "    </tr>\n",
              "  </tbody>\n",
              "</table>\n",
              "</div>\n",
              "      <button class=\"colab-df-convert\" onclick=\"convertToInteractive('df-69e850e8-f983-445b-9c41-93680b9a386f')\"\n",
              "              title=\"Convert this dataframe to an interactive table.\"\n",
              "              style=\"display:none;\">\n",
              "        \n",
              "  <svg xmlns=\"http://www.w3.org/2000/svg\" height=\"24px\"viewBox=\"0 0 24 24\"\n",
              "       width=\"24px\">\n",
              "    <path d=\"M0 0h24v24H0V0z\" fill=\"none\"/>\n",
              "    <path d=\"M18.56 5.44l.94 2.06.94-2.06 2.06-.94-2.06-.94-.94-2.06-.94 2.06-2.06.94zm-11 1L8.5 8.5l.94-2.06 2.06-.94-2.06-.94L8.5 2.5l-.94 2.06-2.06.94zm10 10l.94 2.06.94-2.06 2.06-.94-2.06-.94-.94-2.06-.94 2.06-2.06.94z\"/><path d=\"M17.41 7.96l-1.37-1.37c-.4-.4-.92-.59-1.43-.59-.52 0-1.04.2-1.43.59L10.3 9.45l-7.72 7.72c-.78.78-.78 2.05 0 2.83L4 21.41c.39.39.9.59 1.41.59.51 0 1.02-.2 1.41-.59l7.78-7.78 2.81-2.81c.8-.78.8-2.07 0-2.86zM5.41 20L4 18.59l7.72-7.72 1.47 1.35L5.41 20z\"/>\n",
              "  </svg>\n",
              "      </button>\n",
              "      \n",
              "  <style>\n",
              "    .colab-df-container {\n",
              "      display:flex;\n",
              "      flex-wrap:wrap;\n",
              "      gap: 12px;\n",
              "    }\n",
              "\n",
              "    .colab-df-convert {\n",
              "      background-color: #E8F0FE;\n",
              "      border: none;\n",
              "      border-radius: 50%;\n",
              "      cursor: pointer;\n",
              "      display: none;\n",
              "      fill: #1967D2;\n",
              "      height: 32px;\n",
              "      padding: 0 0 0 0;\n",
              "      width: 32px;\n",
              "    }\n",
              "\n",
              "    .colab-df-convert:hover {\n",
              "      background-color: #E2EBFA;\n",
              "      box-shadow: 0px 1px 2px rgba(60, 64, 67, 0.3), 0px 1px 3px 1px rgba(60, 64, 67, 0.15);\n",
              "      fill: #174EA6;\n",
              "    }\n",
              "\n",
              "    [theme=dark] .colab-df-convert {\n",
              "      background-color: #3B4455;\n",
              "      fill: #D2E3FC;\n",
              "    }\n",
              "\n",
              "    [theme=dark] .colab-df-convert:hover {\n",
              "      background-color: #434B5C;\n",
              "      box-shadow: 0px 1px 3px 1px rgba(0, 0, 0, 0.15);\n",
              "      filter: drop-shadow(0px 1px 2px rgba(0, 0, 0, 0.3));\n",
              "      fill: #FFFFFF;\n",
              "    }\n",
              "  </style>\n",
              "\n",
              "      <script>\n",
              "        const buttonEl =\n",
              "          document.querySelector('#df-69e850e8-f983-445b-9c41-93680b9a386f button.colab-df-convert');\n",
              "        buttonEl.style.display =\n",
              "          google.colab.kernel.accessAllowed ? 'block' : 'none';\n",
              "\n",
              "        async function convertToInteractive(key) {\n",
              "          const element = document.querySelector('#df-69e850e8-f983-445b-9c41-93680b9a386f');\n",
              "          const dataTable =\n",
              "            await google.colab.kernel.invokeFunction('convertToInteractive',\n",
              "                                                     [key], {});\n",
              "          if (!dataTable) return;\n",
              "\n",
              "          const docLinkHtml = 'Like what you see? Visit the ' +\n",
              "            '<a target=\"_blank\" href=https://colab.research.google.com/notebooks/data_table.ipynb>data table notebook</a>'\n",
              "            + ' to learn more about interactive tables.';\n",
              "          element.innerHTML = '';\n",
              "          dataTable['output_type'] = 'display_data';\n",
              "          await google.colab.output.renderOutput(dataTable, element);\n",
              "          const docLink = document.createElement('div');\n",
              "          docLink.innerHTML = docLinkHtml;\n",
              "          element.appendChild(docLink);\n",
              "        }\n",
              "      </script>\n",
              "    </div>\n",
              "  </div>\n",
              "  "
            ]
          },
          "metadata": {},
          "execution_count": 8
        }
      ]
    },
    {
      "cell_type": "code",
      "source": [
        "df = yf.download(\"BTC-USD\", start=start, end=end, interval=interval)\n",
        "df[\"close_chg\"] = (df[\"Close\"] - df[\"Close\"].shift(1)) / df[\"Close\"].shift(1) * 100\n",
        "btc = df[[\"close_chg\"]]\n",
        "btc"
      ],
      "metadata": {
        "colab": {
          "base_uri": "https://localhost:8080/",
          "height": 467
        },
        "id": "WkxYwnn9j93v",
        "outputId": "30504c7e-b87d-4144-e83e-50f02af2a86e"
      },
      "execution_count": null,
      "outputs": [
        {
          "output_type": "stream",
          "name": "stdout",
          "text": [
            "\r[*********************100%***********************]  1 of 1 completed\n"
          ]
        },
        {
          "output_type": "execute_result",
          "data": {
            "text/plain": [
              "                           close_chg\n",
              "Datetime                            \n",
              "2022-04-29 00:00:00+00:00        NaN\n",
              "2022-04-29 00:05:00+00:00  -0.040716\n",
              "2022-04-29 00:10:00+00:00   0.174312\n",
              "2022-04-29 00:15:00+00:00   0.022720\n",
              "2022-04-29 00:20:00+00:00   0.005424\n",
              "...                              ...\n",
              "2022-05-12 23:35:00+00:00   0.457139\n",
              "2022-05-12 23:40:00+00:00   0.092091\n",
              "2022-05-12 23:45:00+00:00   0.080943\n",
              "2022-05-12 23:50:00+00:00  -0.051969\n",
              "2022-05-12 23:55:00+00:00  -0.255427\n",
              "\n",
              "[4032 rows x 1 columns]"
            ],
            "text/html": [
              "\n",
              "  <div id=\"df-a124ac03-a644-4f23-88ce-88215b4c2bbd\">\n",
              "    <div class=\"colab-df-container\">\n",
              "      <div>\n",
              "<style scoped>\n",
              "    .dataframe tbody tr th:only-of-type {\n",
              "        vertical-align: middle;\n",
              "    }\n",
              "\n",
              "    .dataframe tbody tr th {\n",
              "        vertical-align: top;\n",
              "    }\n",
              "\n",
              "    .dataframe thead th {\n",
              "        text-align: right;\n",
              "    }\n",
              "</style>\n",
              "<table border=\"1\" class=\"dataframe\">\n",
              "  <thead>\n",
              "    <tr style=\"text-align: right;\">\n",
              "      <th></th>\n",
              "      <th>close_chg</th>\n",
              "    </tr>\n",
              "    <tr>\n",
              "      <th>Datetime</th>\n",
              "      <th></th>\n",
              "    </tr>\n",
              "  </thead>\n",
              "  <tbody>\n",
              "    <tr>\n",
              "      <th>2022-04-29 00:00:00+00:00</th>\n",
              "      <td>NaN</td>\n",
              "    </tr>\n",
              "    <tr>\n",
              "      <th>2022-04-29 00:05:00+00:00</th>\n",
              "      <td>-0.040716</td>\n",
              "    </tr>\n",
              "    <tr>\n",
              "      <th>2022-04-29 00:10:00+00:00</th>\n",
              "      <td>0.174312</td>\n",
              "    </tr>\n",
              "    <tr>\n",
              "      <th>2022-04-29 00:15:00+00:00</th>\n",
              "      <td>0.022720</td>\n",
              "    </tr>\n",
              "    <tr>\n",
              "      <th>2022-04-29 00:20:00+00:00</th>\n",
              "      <td>0.005424</td>\n",
              "    </tr>\n",
              "    <tr>\n",
              "      <th>...</th>\n",
              "      <td>...</td>\n",
              "    </tr>\n",
              "    <tr>\n",
              "      <th>2022-05-12 23:35:00+00:00</th>\n",
              "      <td>0.457139</td>\n",
              "    </tr>\n",
              "    <tr>\n",
              "      <th>2022-05-12 23:40:00+00:00</th>\n",
              "      <td>0.092091</td>\n",
              "    </tr>\n",
              "    <tr>\n",
              "      <th>2022-05-12 23:45:00+00:00</th>\n",
              "      <td>0.080943</td>\n",
              "    </tr>\n",
              "    <tr>\n",
              "      <th>2022-05-12 23:50:00+00:00</th>\n",
              "      <td>-0.051969</td>\n",
              "    </tr>\n",
              "    <tr>\n",
              "      <th>2022-05-12 23:55:00+00:00</th>\n",
              "      <td>-0.255427</td>\n",
              "    </tr>\n",
              "  </tbody>\n",
              "</table>\n",
              "<p>4032 rows × 1 columns</p>\n",
              "</div>\n",
              "      <button class=\"colab-df-convert\" onclick=\"convertToInteractive('df-a124ac03-a644-4f23-88ce-88215b4c2bbd')\"\n",
              "              title=\"Convert this dataframe to an interactive table.\"\n",
              "              style=\"display:none;\">\n",
              "        \n",
              "  <svg xmlns=\"http://www.w3.org/2000/svg\" height=\"24px\"viewBox=\"0 0 24 24\"\n",
              "       width=\"24px\">\n",
              "    <path d=\"M0 0h24v24H0V0z\" fill=\"none\"/>\n",
              "    <path d=\"M18.56 5.44l.94 2.06.94-2.06 2.06-.94-2.06-.94-.94-2.06-.94 2.06-2.06.94zm-11 1L8.5 8.5l.94-2.06 2.06-.94-2.06-.94L8.5 2.5l-.94 2.06-2.06.94zm10 10l.94 2.06.94-2.06 2.06-.94-2.06-.94-.94-2.06-.94 2.06-2.06.94z\"/><path d=\"M17.41 7.96l-1.37-1.37c-.4-.4-.92-.59-1.43-.59-.52 0-1.04.2-1.43.59L10.3 9.45l-7.72 7.72c-.78.78-.78 2.05 0 2.83L4 21.41c.39.39.9.59 1.41.59.51 0 1.02-.2 1.41-.59l7.78-7.78 2.81-2.81c.8-.78.8-2.07 0-2.86zM5.41 20L4 18.59l7.72-7.72 1.47 1.35L5.41 20z\"/>\n",
              "  </svg>\n",
              "      </button>\n",
              "      \n",
              "  <style>\n",
              "    .colab-df-container {\n",
              "      display:flex;\n",
              "      flex-wrap:wrap;\n",
              "      gap: 12px;\n",
              "    }\n",
              "\n",
              "    .colab-df-convert {\n",
              "      background-color: #E8F0FE;\n",
              "      border: none;\n",
              "      border-radius: 50%;\n",
              "      cursor: pointer;\n",
              "      display: none;\n",
              "      fill: #1967D2;\n",
              "      height: 32px;\n",
              "      padding: 0 0 0 0;\n",
              "      width: 32px;\n",
              "    }\n",
              "\n",
              "    .colab-df-convert:hover {\n",
              "      background-color: #E2EBFA;\n",
              "      box-shadow: 0px 1px 2px rgba(60, 64, 67, 0.3), 0px 1px 3px 1px rgba(60, 64, 67, 0.15);\n",
              "      fill: #174EA6;\n",
              "    }\n",
              "\n",
              "    [theme=dark] .colab-df-convert {\n",
              "      background-color: #3B4455;\n",
              "      fill: #D2E3FC;\n",
              "    }\n",
              "\n",
              "    [theme=dark] .colab-df-convert:hover {\n",
              "      background-color: #434B5C;\n",
              "      box-shadow: 0px 1px 3px 1px rgba(0, 0, 0, 0.15);\n",
              "      filter: drop-shadow(0px 1px 2px rgba(0, 0, 0, 0.3));\n",
              "      fill: #FFFFFF;\n",
              "    }\n",
              "  </style>\n",
              "\n",
              "      <script>\n",
              "        const buttonEl =\n",
              "          document.querySelector('#df-a124ac03-a644-4f23-88ce-88215b4c2bbd button.colab-df-convert');\n",
              "        buttonEl.style.display =\n",
              "          google.colab.kernel.accessAllowed ? 'block' : 'none';\n",
              "\n",
              "        async function convertToInteractive(key) {\n",
              "          const element = document.querySelector('#df-a124ac03-a644-4f23-88ce-88215b4c2bbd');\n",
              "          const dataTable =\n",
              "            await google.colab.kernel.invokeFunction('convertToInteractive',\n",
              "                                                     [key], {});\n",
              "          if (!dataTable) return;\n",
              "\n",
              "          const docLinkHtml = 'Like what you see? Visit the ' +\n",
              "            '<a target=\"_blank\" href=https://colab.research.google.com/notebooks/data_table.ipynb>data table notebook</a>'\n",
              "            + ' to learn more about interactive tables.';\n",
              "          element.innerHTML = '';\n",
              "          dataTable['output_type'] = 'display_data';\n",
              "          await google.colab.output.renderOutput(dataTable, element);\n",
              "          const docLink = document.createElement('div');\n",
              "          docLink.innerHTML = docLinkHtml;\n",
              "          element.appendChild(docLink);\n",
              "        }\n",
              "      </script>\n",
              "    </div>\n",
              "  </div>\n",
              "  "
            ]
          },
          "metadata": {},
          "execution_count": 9
        }
      ]
    },
    {
      "cell_type": "code",
      "source": [
        "btc = btc.fillna(method = \"bfill\")\n",
        "btc.head()"
      ],
      "metadata": {
        "colab": {
          "base_uri": "https://localhost:8080/",
          "height": 235
        },
        "id": "VWmV5o6Mpx4e",
        "outputId": "adff9360-2ab2-47f3-d63b-5dec166a5a72"
      },
      "execution_count": null,
      "outputs": [
        {
          "output_type": "execute_result",
          "data": {
            "text/plain": [
              "                           close_chg\n",
              "Datetime                            \n",
              "2022-04-29 00:00:00+00:00  -0.040716\n",
              "2022-04-29 00:05:00+00:00  -0.040716\n",
              "2022-04-29 00:10:00+00:00   0.174312\n",
              "2022-04-29 00:15:00+00:00   0.022720\n",
              "2022-04-29 00:20:00+00:00   0.005424"
            ],
            "text/html": [
              "\n",
              "  <div id=\"df-f0b26e65-d111-4585-85cf-71a3de1a8443\">\n",
              "    <div class=\"colab-df-container\">\n",
              "      <div>\n",
              "<style scoped>\n",
              "    .dataframe tbody tr th:only-of-type {\n",
              "        vertical-align: middle;\n",
              "    }\n",
              "\n",
              "    .dataframe tbody tr th {\n",
              "        vertical-align: top;\n",
              "    }\n",
              "\n",
              "    .dataframe thead th {\n",
              "        text-align: right;\n",
              "    }\n",
              "</style>\n",
              "<table border=\"1\" class=\"dataframe\">\n",
              "  <thead>\n",
              "    <tr style=\"text-align: right;\">\n",
              "      <th></th>\n",
              "      <th>close_chg</th>\n",
              "    </tr>\n",
              "    <tr>\n",
              "      <th>Datetime</th>\n",
              "      <th></th>\n",
              "    </tr>\n",
              "  </thead>\n",
              "  <tbody>\n",
              "    <tr>\n",
              "      <th>2022-04-29 00:00:00+00:00</th>\n",
              "      <td>-0.040716</td>\n",
              "    </tr>\n",
              "    <tr>\n",
              "      <th>2022-04-29 00:05:00+00:00</th>\n",
              "      <td>-0.040716</td>\n",
              "    </tr>\n",
              "    <tr>\n",
              "      <th>2022-04-29 00:10:00+00:00</th>\n",
              "      <td>0.174312</td>\n",
              "    </tr>\n",
              "    <tr>\n",
              "      <th>2022-04-29 00:15:00+00:00</th>\n",
              "      <td>0.022720</td>\n",
              "    </tr>\n",
              "    <tr>\n",
              "      <th>2022-04-29 00:20:00+00:00</th>\n",
              "      <td>0.005424</td>\n",
              "    </tr>\n",
              "  </tbody>\n",
              "</table>\n",
              "</div>\n",
              "      <button class=\"colab-df-convert\" onclick=\"convertToInteractive('df-f0b26e65-d111-4585-85cf-71a3de1a8443')\"\n",
              "              title=\"Convert this dataframe to an interactive table.\"\n",
              "              style=\"display:none;\">\n",
              "        \n",
              "  <svg xmlns=\"http://www.w3.org/2000/svg\" height=\"24px\"viewBox=\"0 0 24 24\"\n",
              "       width=\"24px\">\n",
              "    <path d=\"M0 0h24v24H0V0z\" fill=\"none\"/>\n",
              "    <path d=\"M18.56 5.44l.94 2.06.94-2.06 2.06-.94-2.06-.94-.94-2.06-.94 2.06-2.06.94zm-11 1L8.5 8.5l.94-2.06 2.06-.94-2.06-.94L8.5 2.5l-.94 2.06-2.06.94zm10 10l.94 2.06.94-2.06 2.06-.94-2.06-.94-.94-2.06-.94 2.06-2.06.94z\"/><path d=\"M17.41 7.96l-1.37-1.37c-.4-.4-.92-.59-1.43-.59-.52 0-1.04.2-1.43.59L10.3 9.45l-7.72 7.72c-.78.78-.78 2.05 0 2.83L4 21.41c.39.39.9.59 1.41.59.51 0 1.02-.2 1.41-.59l7.78-7.78 2.81-2.81c.8-.78.8-2.07 0-2.86zM5.41 20L4 18.59l7.72-7.72 1.47 1.35L5.41 20z\"/>\n",
              "  </svg>\n",
              "      </button>\n",
              "      \n",
              "  <style>\n",
              "    .colab-df-container {\n",
              "      display:flex;\n",
              "      flex-wrap:wrap;\n",
              "      gap: 12px;\n",
              "    }\n",
              "\n",
              "    .colab-df-convert {\n",
              "      background-color: #E8F0FE;\n",
              "      border: none;\n",
              "      border-radius: 50%;\n",
              "      cursor: pointer;\n",
              "      display: none;\n",
              "      fill: #1967D2;\n",
              "      height: 32px;\n",
              "      padding: 0 0 0 0;\n",
              "      width: 32px;\n",
              "    }\n",
              "\n",
              "    .colab-df-convert:hover {\n",
              "      background-color: #E2EBFA;\n",
              "      box-shadow: 0px 1px 2px rgba(60, 64, 67, 0.3), 0px 1px 3px 1px rgba(60, 64, 67, 0.15);\n",
              "      fill: #174EA6;\n",
              "    }\n",
              "\n",
              "    [theme=dark] .colab-df-convert {\n",
              "      background-color: #3B4455;\n",
              "      fill: #D2E3FC;\n",
              "    }\n",
              "\n",
              "    [theme=dark] .colab-df-convert:hover {\n",
              "      background-color: #434B5C;\n",
              "      box-shadow: 0px 1px 3px 1px rgba(0, 0, 0, 0.15);\n",
              "      filter: drop-shadow(0px 1px 2px rgba(0, 0, 0, 0.3));\n",
              "      fill: #FFFFFF;\n",
              "    }\n",
              "  </style>\n",
              "\n",
              "      <script>\n",
              "        const buttonEl =\n",
              "          document.querySelector('#df-f0b26e65-d111-4585-85cf-71a3de1a8443 button.colab-df-convert');\n",
              "        buttonEl.style.display =\n",
              "          google.colab.kernel.accessAllowed ? 'block' : 'none';\n",
              "\n",
              "        async function convertToInteractive(key) {\n",
              "          const element = document.querySelector('#df-f0b26e65-d111-4585-85cf-71a3de1a8443');\n",
              "          const dataTable =\n",
              "            await google.colab.kernel.invokeFunction('convertToInteractive',\n",
              "                                                     [key], {});\n",
              "          if (!dataTable) return;\n",
              "\n",
              "          const docLinkHtml = 'Like what you see? Visit the ' +\n",
              "            '<a target=\"_blank\" href=https://colab.research.google.com/notebooks/data_table.ipynb>data table notebook</a>'\n",
              "            + ' to learn more about interactive tables.';\n",
              "          element.innerHTML = '';\n",
              "          dataTable['output_type'] = 'display_data';\n",
              "          await google.colab.output.renderOutput(dataTable, element);\n",
              "          const docLink = document.createElement('div');\n",
              "          docLink.innerHTML = docLinkHtml;\n",
              "          element.appendChild(docLink);\n",
              "        }\n",
              "      </script>\n",
              "    </div>\n",
              "  </div>\n",
              "  "
            ]
          },
          "metadata": {},
          "execution_count": 10
        }
      ]
    },
    {
      "cell_type": "markdown",
      "metadata": {
        "id": "D_gY8FYeimWV"
      },
      "source": [
        "## Quick look at the data"
      ]
    },
    {
      "cell_type": "code",
      "execution_count": null,
      "metadata": {
        "id": "-D4wHWTNimWV"
      },
      "outputs": [],
      "source": [
        "# print(df_small_noise.head())\n",
        "\n",
        "# print(df_daily_jumpsup.head())"
      ]
    },
    {
      "cell_type": "code",
      "source": [
        "print(luna.head())\n",
        "print(btc.head())"
      ],
      "metadata": {
        "colab": {
          "base_uri": "https://localhost:8080/"
        },
        "id": "WSv5SmLjln1U",
        "outputId": "0f4abac3-9b11-4a23-e5e4-0abdecbaa24d"
      },
      "execution_count": null,
      "outputs": [
        {
          "output_type": "stream",
          "name": "stdout",
          "text": [
            "                           close_chg\n",
            "Datetime                            \n",
            "2022-04-29 00:00:00+00:00  -0.040314\n",
            "2022-04-29 00:05:00+00:00  -0.040314\n",
            "2022-04-29 00:10:00+00:00   0.099108\n",
            "2022-04-29 00:15:00+00:00   0.116167\n",
            "2022-04-29 00:20:00+00:00  -0.054653\n",
            "                           close_chg\n",
            "Datetime                            \n",
            "2022-04-29 00:00:00+00:00  -0.040716\n",
            "2022-04-29 00:05:00+00:00  -0.040716\n",
            "2022-04-29 00:10:00+00:00   0.174312\n",
            "2022-04-29 00:15:00+00:00   0.022720\n",
            "2022-04-29 00:20:00+00:00   0.005424\n"
          ]
        }
      ]
    },
    {
      "cell_type": "code",
      "source": [
        "df_small_noise = btc # 정상\n",
        "df_daily_jumpsup = luna # 비정상"
      ],
      "metadata": {
        "id": "qgr5T884txdx"
      },
      "execution_count": null,
      "outputs": []
    },
    {
      "cell_type": "markdown",
      "metadata": {
        "id": "JPoqP6G7imWV"
      },
      "source": [
        "## Visualize the data\n",
        "### Timeseries data without anomalies\n",
        "\n",
        "We will use the following data for training."
      ]
    },
    {
      "cell_type": "code",
      "execution_count": null,
      "metadata": {
        "id": "TnwjN8bFimWW"
      },
      "outputs": [],
      "source": [
        "# # 정상 데이터(비트코인)\n",
        "# fig, ax = plt.subplots()\n",
        "# df_small_noise.plot(legend=False, ax=ax)\n",
        "# plt.show()"
      ]
    },
    {
      "cell_type": "markdown",
      "metadata": {
        "id": "u29gF6mbimWW"
      },
      "source": [
        "### Timeseries data with anomalies\n",
        "\n",
        "We will use the following data for testing and see if the sudden jump up in the\n",
        "data is detected as an anomaly."
      ]
    },
    {
      "cell_type": "code",
      "execution_count": null,
      "metadata": {
        "id": "Qd3FbCBkimWW"
      },
      "outputs": [],
      "source": [
        "# # 비정상 데이터(루나코인)\n",
        "# fig, ax = plt.subplots()\n",
        "# df_daily_jumpsup.plot(legend=False, ax=ax)\n",
        "# plt.show()"
      ]
    },
    {
      "cell_type": "markdown",
      "source": [
        "##비트코인(주황) & 루나코인(파랑)"
      ],
      "metadata": {
        "id": "Iiqmqe6MrTSX"
      }
    },
    {
      "cell_type": "code",
      "source": [
        "fig, ax = plt.subplots()\n",
        "df_daily_jumpsup.plot(legend=False, ax=ax)\n",
        "df_small_noise.plot(legend=False, ax=ax)\n",
        "plt.show()"
      ],
      "metadata": {
        "colab": {
          "base_uri": "https://localhost:8080/",
          "height": 303
        },
        "id": "-CdQLU8QrElu",
        "outputId": "15f3f1e3-50f2-4fec-b9bb-41591def4999"
      },
      "execution_count": null,
      "outputs": [
        {
          "output_type": "display_data",
          "data": {
            "text/plain": [
              "<Figure size 432x288 with 1 Axes>"
            ],
            "image/png": "[encoded data removed]"
          },
          "metadata": {
            "needs_background": "light"
          }
        }
      ]
    },
    {
      "cell_type": "markdown",
      "metadata": {
        "id": "Zvy-xgMiimWW"
      },
      "source": [
        "## Prepare training data\n",
        "\n",
        "Get data values from the training timeseries data file and normalize the\n",
        "`value` data. We have a `value` for every 5 mins for 14 days.\n",
        "\n",
        "-   24 * 60 / 5 = **288 timesteps per day**\n",
        "-   288 * 14 = **4032 data points** in total"
      ]
    },
    {
      "cell_type": "code",
      "execution_count": null,
      "metadata": {
        "id": "eazG2zQzimWX",
        "outputId": "795a57ca-b57a-4123-8d60-2beb92414721",
        "colab": {
          "base_uri": "https://localhost:8080/"
        }
      },
      "outputs": [
        {
          "output_type": "stream",
          "name": "stdout",
          "text": [
            "Number of training samples: 4032\n"
          ]
        }
      ],
      "source": [
        "# Normalize and save the mean and std we get,\n",
        "# for normalizing test data.\n",
        "training_mean = df_small_noise.mean()\n",
        "training_std = df_small_noise.std()\n",
        "df_training_value = (df_small_noise - training_mean) / training_std\n",
        "print(\"Number of training samples:\", len(df_training_value))"
      ]
    },
    {
      "cell_type": "markdown",
      "metadata": {
        "id": "Hyd339b9imWX"
      },
      "source": [
        "### Create sequences\n",
        "Create sequences combining `TIME_STEPS` contiguous data values from the\n",
        "training data."
      ]
    },
    {
      "cell_type": "code",
      "execution_count": null,
      "metadata": {
        "id": "EILejBUAimWX",
        "outputId": "9ed4ec2e-2da2-41ad-c5fb-452490ff7008",
        "colab": {
          "base_uri": "https://localhost:8080/"
        }
      },
      "outputs": [
        {
          "output_type": "stream",
          "name": "stdout",
          "text": [
            "Training input shape:  (3745, 288, 1)\n"
          ]
        }
      ],
      "source": [
        "TIME_STEPS = 288\n",
        "\n",
        "# Generated training sequences for use in the model.\n",
        "def create_sequences(values, time_steps=TIME_STEPS):\n",
        "    output = []\n",
        "    for i in range(len(values) - time_steps + 1):\n",
        "        output.append(values[i : (i + time_steps)])\n",
        "    return np.stack(output)\n",
        "\n",
        "\n",
        "x_train = create_sequences(df_training_value.values)\n",
        "print(\"Training input shape: \", x_train.shape)"
      ]
    },
    {
      "cell_type": "markdown",
      "metadata": {
        "id": "6TtL0swsimWX"
      },
      "source": [
        "## Build a model\n",
        "\n",
        "We will build a convolutional reconstruction autoencoder model. The model will\n",
        "take input of shape `(batch_size, sequence_length, num_features)` and return\n",
        "output of the same shape. In this case, `sequence_length` is 288 and\n",
        "`num_features` is 1."
      ]
    },
    {
      "cell_type": "code",
      "execution_count": null,
      "metadata": {
        "id": "XXmWGSjximWY",
        "outputId": "7c63fefd-8956-4150-a1b7-c0942e523d61",
        "colab": {
          "base_uri": "https://localhost:8080/"
        }
      },
      "outputs": [
        {
          "output_type": "stream",
          "name": "stdout",
          "text": [
            "Model: \"sequential\"\n",
            "_________________________________________________________________\n",
            " Layer (type)                Output Shape              Param #   \n",
            "=================================================================\n",
            " conv1d (Conv1D)             (None, 144, 32)           256       \n",
            "                                                                 \n",
            " dropout (Dropout)           (None, 144, 32)           0         \n",
            "                                                                 \n",
            " conv1d_1 (Conv1D)           (None, 72, 16)            3600      \n",
            "                                                                 \n",
            " conv1d_transpose (Conv1DTra  (None, 144, 16)          1808      \n",
            " nspose)                                                         \n",
            "                                                                 \n",
            " dropout_1 (Dropout)         (None, 144, 16)           0         \n",
            "                                                                 \n",
            " conv1d_transpose_1 (Conv1DT  (None, 288, 32)          3616      \n",
            " ranspose)                                                       \n",
            "                                                                 \n",
            " conv1d_transpose_2 (Conv1DT  (None, 288, 1)           225       \n",
            " ranspose)                                                       \n",
            "                                                                 \n",
            "=================================================================\n",
            "Total params: 9,505\n",
            "Trainable params: 9,505\n",
            "Non-trainable params: 0\n",
            "_________________________________________________________________\n"
          ]
        }
      ],
      "source": [
        "model = keras.Sequential(\n",
        "    [\n",
        "        layers.Input(shape=(x_train.shape[1], x_train.shape[2])),\n",
        "        layers.Conv1D(\n",
        "            filters=32, kernel_size=7, padding=\"same\", strides=2, activation=\"relu\"\n",
        "        ),\n",
        "        layers.Dropout(rate=0.2),\n",
        "        layers.Conv1D(\n",
        "            filters=16, kernel_size=7, padding=\"same\", strides=2, activation=\"relu\"\n",
        "        ),\n",
        "        layers.Conv1DTranspose(\n",
        "            filters=16, kernel_size=7, padding=\"same\", strides=2, activation=\"relu\"\n",
        "        ),\n",
        "        layers.Dropout(rate=0.2),\n",
        "        layers.Conv1DTranspose(\n",
        "            filters=32, kernel_size=7, padding=\"same\", strides=2, activation=\"relu\"\n",
        "        ),\n",
        "        layers.Conv1DTranspose(filters=1, kernel_size=7, padding=\"same\"),\n",
        "    ]\n",
        ")\n",
        "model.compile(optimizer=keras.optimizers.Adam(learning_rate=0.001), loss=\"mse\")\n",
        "model.summary()"
      ]
    },
    {
      "cell_type": "markdown",
      "metadata": {
        "id": "-4obxtQiimWY"
      },
      "source": [
        "## Train the model\n",
        "\n",
        "Please note that we are using `x_train` as both the input and the target\n",
        "since this is a reconstruction model."
      ]
    },
    {
      "cell_type": "code",
      "execution_count": null,
      "metadata": {
        "id": "runHIqWximWY",
        "outputId": "dab08b59-92d6-4558-c45b-5787e3d5a4c3",
        "colab": {
          "base_uri": "https://localhost:8080/"
        }
      },
      "outputs": [
        {
          "output_type": "stream",
          "name": "stdout",
          "text": [
            "Epoch 1/50\n",
            "27/27 [==============================] - 4s 101ms/step - loss: 0.4601 - val_loss: 2.6800\n",
            "Epoch 2/50\n",
            "27/27 [==============================] - 3s 115ms/step - loss: 0.2369 - val_loss: 0.8392\n",
            "Epoch 3/50\n",
            "27/27 [==============================] - 4s 143ms/step - loss: 0.1200 - val_loss: 0.3299\n",
            "Epoch 4/50\n",
            "27/27 [==============================] - 4s 153ms/step - loss: 0.0887 - val_loss: 0.2053\n",
            "Epoch 5/50\n",
            "27/27 [==============================] - 4s 159ms/step - loss: 0.0770 - val_loss: 0.1799\n",
            "Epoch 6/50\n",
            "27/27 [==============================] - 5s 179ms/step - loss: 0.0701 - val_loss: 0.1598\n",
            "Epoch 7/50\n",
            "27/27 [==============================] - 5s 170ms/step - loss: 0.0659 - val_loss: 0.1516\n",
            "Epoch 8/50\n",
            "27/27 [==============================] - 5s 188ms/step - loss: 0.0630 - val_loss: 0.1359\n",
            "Epoch 9/50\n",
            "27/27 [==============================] - 6s 212ms/step - loss: 0.0600 - val_loss: 0.1293\n",
            "Epoch 10/50\n",
            "27/27 [==============================] - 5s 196ms/step - loss: 0.0585 - val_loss: 0.1228\n",
            "Epoch 11/50\n",
            "27/27 [==============================] - 4s 161ms/step - loss: 0.0568 - val_loss: 0.1311\n",
            "Epoch 12/50\n",
            "27/27 [==============================] - 4s 167ms/step - loss: 0.0551 - val_loss: 0.1270\n",
            "Epoch 13/50\n",
            "27/27 [==============================] - 5s 171ms/step - loss: 0.0536 - val_loss: 0.1372\n",
            "Epoch 14/50\n",
            "27/27 [==============================] - 2s 86ms/step - loss: 0.0521 - val_loss: 0.1347\n",
            "Epoch 15/50\n",
            "27/27 [==============================] - 2s 87ms/step - loss: 0.0506 - val_loss: 0.1289\n"
          ]
        }
      ],
      "source": [
        "history = model.fit(\n",
        "    x_train,\n",
        "    x_train,\n",
        "    epochs=5,\n",
        "    batch_size=128,\n",
        "    validation_split=0.1,\n",
        "    callbacks=[\n",
        "        keras.callbacks.EarlyStopping(monitor=\"val_loss\", patience=5, mode=\"min\")\n",
        "    ],\n",
        ")"
      ]
    },
    {
      "cell_type": "markdown",
      "metadata": {
        "id": "8EctiKVeimWY"
      },
      "source": [
        "Let's plot training and validation loss to see how the training went."
      ]
    },
    {
      "cell_type": "code",
      "execution_count": null,
      "metadata": {
        "id": "VCKsZDTZimWZ",
        "outputId": "77a33eec-c411-4b63-8239-1ea9f6456eb2",
        "colab": {
          "base_uri": "https://localhost:8080/",
          "height": 265
        }
      },
      "outputs": [
        {
          "output_type": "display_data",
          "data": {
            "text/plain": [
              "<Figure size 432x288 with 1 Axes>"
            ],
            "image/png": "[encoded data removed]"
          },
          "metadata": {
            "needs_background": "light"
          }
        }
      ],
      "source": [
        "plt.plot(history.history[\"loss\"], label=\"Training Loss\")\n",
        "plt.plot(history.history[\"val_loss\"], label=\"Validation Loss\")\n",
        "plt.legend()\n",
        "plt.show()"
      ]
    },
    {
      "cell_type": "markdown",
      "metadata": {
        "id": "9THFSv42imWZ"
      },
      "source": [
        "## Detecting anomalies\n",
        "\n",
        "We will detect anomalies by determining how well our model can reconstruct\n",
        "the input data.\n",
        "\n",
        "\n",
        "1.   Find MAE loss on training samples.\n",
        "2.   Find max MAE loss value. This is the worst our model has performed trying\n",
        "to reconstruct a sample. We will make this the `threshold` for anomaly\n",
        "detection.\n",
        "3.   If the reconstruction loss for a sample is greater than this `threshold`\n",
        "value then we can infer that the model is seeing a pattern that it isn't\n",
        "familiar with. We will label this sample as an `anomaly`.\n"
      ]
    },
    {
      "cell_type": "markdown",
      "source": [
        "#Threshold 설정"
      ],
      "metadata": {
        "id": "oBjBZbh9pdLF"
      }
    },
    {
      "cell_type": "code",
      "execution_count": null,
      "metadata": {
        "id": "M4JqrSLiimWZ",
        "outputId": "6dd574dd-9f97-4407-f7da-b36ba268b6ef",
        "colab": {
          "base_uri": "https://localhost:8080/",
          "height": 296
        }
      },
      "outputs": [
        {
          "output_type": "display_data",
          "data": {
            "text/plain": [
              "<Figure size 432x288 with 1 Axes>"
            ],
            "image/png": "[encoded data removed]"
          },
          "metadata": {
            "needs_background": "light"
          }
        },
        {
          "output_type": "stream",
          "name": "stdout",
          "text": [
            "Reconstruction error threshold:  0.329198042110585\n"
          ]
        }
      ],
      "source": [
        "# Get train MAE loss.\n",
        "x_train_pred = model.predict(x_train)\n",
        "train_mae_loss = np.mean(np.abs(x_train_pred - x_train), axis=1)\n",
        "\n",
        "plt.hist(train_mae_loss, bins=50)\n",
        "plt.xlabel(\"Train MAE loss\")\n",
        "plt.ylabel(\"No of samples\")\n",
        "plt.show()\n",
        "\n",
        "# Get reconstruction loss threshold.\n",
        "threshold = np.max(train_mae_loss)\n",
        "print(\"Reconstruction error threshold: \", threshold)"
      ]
    },
    {
      "cell_type": "markdown",
      "metadata": {
        "id": "7Zdf__jdimWZ"
      },
      "source": [
        "### Compare recontruction\n",
        "\n",
        "Just for fun, let's see how our model has recontructed the first sample.\n",
        "This is the 288 timesteps from day 1 of our training dataset."
      ]
    },
    {
      "cell_type": "code",
      "execution_count": null,
      "metadata": {
        "id": "kOG_SAFbimWa",
        "outputId": "3d04f0c0-9699-438a-e52d-269f629435c7",
        "colab": {
          "base_uri": "https://localhost:8080/",
          "height": 265
        }
      },
      "outputs": [
        {
          "output_type": "display_data",
          "data": {
            "text/plain": [
              "<Figure size 432x288 with 1 Axes>"
            ],
            "image/png": "[encoded data removed]"
          },
          "metadata": {
            "needs_background": "light"
          }
        }
      ],
      "source": [
        "# Checking how the first sequence is learnt\n",
        "plt.plot(x_train[0])\n",
        "plt.plot(x_train_pred[0])\n",
        "plt.show()"
      ]
    },
    {
      "cell_type": "markdown",
      "metadata": {
        "id": "2FHoQXrOimWa"
      },
      "source": [
        "### Prepare test data"
      ]
    },
    {
      "cell_type": "code",
      "execution_count": null,
      "metadata": {
        "id": "-UUG5W6WimWa",
        "outputId": "4995c103-6ea8-4a49-9339-662243622971",
        "colab": {
          "base_uri": "https://localhost:8080/",
          "height": 1000
        }
      },
      "outputs": [
        {
          "output_type": "display_data",
          "data": {
            "text/plain": [
              "<Figure size 432x288 with 1 Axes>"
            ],
            "image/png": "[encoded data removed]"
          },
          "metadata": {
            "needs_background": "light"
          }
        },
        {
          "output_type": "stream",
          "name": "stdout",
          "text": [
            "Test input shape:  (3745, 288, 1)\n"
          ]
        },
        {
          "output_type": "display_data",
          "data": {
            "text/plain": [
              "<Figure size 432x288 with 1 Axes>"
            ],
            "image/png": "[encoded data removed]"
          },
          "metadata": {
            "needs_background": "light"
          }
        },
        {
          "output_type": "stream",
          "name": "stdout",
          "text": [
            "Number of anomaly samples:  915\n",
            "Indices of anomaly samples:  (array([2818, 2824, 2826, 2830, 2831, 2832, 2833, 2834, 2835, 2836, 2838,\n",
            "       2839, 2840, 2842, 2843, 2844, 2845, 2846, 2847, 2848, 2850, 2851,\n",
            "       2852, 2853, 2854, 2855, 2856, 2857, 2858, 2859, 2860, 2861, 2862,\n",
            "       2863, 2864, 2865, 2866, 2867, 2868, 2869, 2870, 2871, 2872, 2873,\n",
            "       2874, 2875, 2876, 2877, 2878, 2879, 2880, 2881, 2882, 2883, 2884,\n",
            "       2885, 2886, 2887, 2888, 2889, 2890, 2891, 2892, 2893, 2894, 2895,\n",
            "       2896, 2897, 2898, 2899, 2900, 2901, 2902, 2903, 2904, 2905, 2906,\n",
            "       2907, 2908, 2909, 2910, 2911, 2912, 2913, 2914, 2915, 2916, 2917,\n",
            "       2918, 2919, 2920, 2921, 2922, 2923, 2924, 2925, 2926, 2927, 2928,\n",
            "       2929, 2930, 2931, 2932, 2933, 2934, 2935, 2936, 2937, 2938, 2939,\n",
            "       2940, 2941, 2942, 2943, 2944, 2945, 2946, 2947, 2948, 2949, 2950,\n",
            "       2951, 2952, 2953, 2954, 2955, 2956, 2957, 2958, 2959, 2960, 2961,\n",
            "       2962, 2963, 2964, 2965, 2966, 2967, 2968, 2969, 2970, 2971, 2972,\n",
            "       2973, 2974, 2975, 2976, 2977, 2978, 2979, 2980, 2981, 2982, 2983,\n",
            "       2984, 2985, 2986, 2987, 2988, 2989, 2990, 2991, 2992, 2993, 2994,\n",
            "       2995, 2996, 2997, 2998, 2999, 3000, 3001, 3002, 3003, 3004, 3005,\n",
            "       3006, 3007, 3008, 3009, 3010, 3011, 3012, 3013, 3014, 3015, 3016,\n",
            "       3017, 3018, 3019, 3020, 3021, 3022, 3023, 3024, 3025, 3026, 3027,\n",
            "       3028, 3029, 3030, 3031, 3032, 3033, 3034, 3035, 3036, 3037, 3038,\n",
            "       3039, 3040, 3041, 3042, 3043, 3044, 3045, 3046, 3047, 3048, 3049,\n",
            "       3050, 3051, 3052, 3053, 3054, 3055, 3056, 3057, 3058, 3059, 3060,\n",
            "       3061, 3062, 3063, 3064, 3065, 3066, 3067, 3068, 3069, 3070, 3071,\n",
            "       3072, 3073, 3074, 3075, 3076, 3077, 3078, 3079, 3080, 3081, 3082,\n",
            "       3083, 3084, 3085, 3086, 3087, 3088, 3089, 3090, 3091, 3092, 3093,\n",
            "       3094, 3095, 3096, 3097, 3098, 3099, 3100, 3101, 3102, 3103, 3104,\n",
            "       3105, 3106, 3107, 3108, 3109, 3110, 3111, 3112, 3113, 3114, 3115,\n",
            "       3116, 3117, 3118, 3119, 3120, 3121, 3122, 3123, 3124, 3125, 3126,\n",
            "       3127, 3128, 3129, 3130, 3131, 3132, 3133, 3134, 3135, 3136, 3137,\n",
            "       3138, 3139, 3140, 3141, 3142, 3143, 3144, 3145, 3146, 3147, 3148,\n",
            "       3149, 3150, 3151, 3152, 3153, 3154, 3155, 3156, 3157, 3158, 3159,\n",
            "       3160, 3161, 3162, 3163, 3164, 3165, 3166, 3167, 3168, 3169, 3170,\n",
            "       3171, 3172, 3173, 3174, 3175, 3176, 3177, 3178, 3179, 3180, 3181,\n",
            "       3182, 3183, 3184, 3185, 3186, 3187, 3188, 3189, 3190, 3191, 3192,\n",
            "       3193, 3194, 3195, 3196, 3197, 3198, 3199, 3200, 3201, 3202, 3203,\n",
            "       3204, 3205, 3206, 3207, 3208, 3209, 3210, 3211, 3212, 3213, 3214,\n",
            "       3215, 3216, 3217, 3218, 3219, 3220, 3221, 3222, 3223, 3224, 3225,\n",
            "       3226, 3227, 3228, 3229, 3230, 3231, 3232, 3233, 3234, 3235, 3236,\n",
            "       3237, 3238, 3239, 3240, 3241, 3242, 3243, 3244, 3245, 3246, 3247,\n",
            "       3248, 3249, 3250, 3251, 3252, 3253, 3254, 3255, 3256, 3257, 3258,\n",
            "       3259, 3260, 3261, 3262, 3263, 3264, 3265, 3266, 3267, 3268, 3269,\n",
            "       3270, 3271, 3272, 3273, 3274, 3275, 3276, 3277, 3278, 3279, 3280,\n",
            "       3281, 3282, 3283, 3284, 3285, 3286, 3287, 3288, 3289, 3290, 3291,\n",
            "       3292, 3293, 3294, 3295, 3296, 3297, 3298, 3299, 3300, 3301, 3302,\n",
            "       3303, 3304, 3305, 3306, 3307, 3308, 3309, 3310, 3311, 3312, 3313,\n",
            "       3314, 3315, 3316, 3317, 3318, 3319, 3320, 3321, 3322, 3323, 3324,\n",
            "       3325, 3326, 3327, 3328, 3329, 3330, 3331, 3332, 3333, 3334, 3335,\n",
            "       3336, 3337, 3338, 3339, 3340, 3341, 3342, 3343, 3344, 3345, 3346,\n",
            "       3347, 3348, 3349, 3350, 3351, 3352, 3353, 3354, 3355, 3356, 3357,\n",
            "       3358, 3359, 3360, 3361, 3362, 3363, 3364, 3365, 3366, 3367, 3368,\n",
            "       3369, 3370, 3371, 3372, 3373, 3374, 3375, 3376, 3377, 3378, 3379,\n",
            "       3380, 3381, 3382, 3383, 3384, 3385, 3386, 3387, 3388, 3389, 3390,\n",
            "       3391, 3392, 3393, 3394, 3395, 3396, 3397, 3398, 3399, 3400, 3401,\n",
            "       3402, 3403, 3404, 3405, 3406, 3407, 3408, 3409, 3410, 3411, 3412,\n",
            "       3413, 3414, 3415, 3416, 3417, 3418, 3419, 3420, 3421, 3422, 3423,\n",
            "       3424, 3425, 3426, 3427, 3428, 3429, 3430, 3431, 3432, 3433, 3434,\n",
            "       3435, 3436, 3437, 3438, 3439, 3440, 3441, 3442, 3443, 3444, 3445,\n",
            "       3446, 3447, 3448, 3449, 3450, 3451, 3452, 3453, 3454, 3455, 3456,\n",
            "       3457, 3458, 3459, 3460, 3461, 3462, 3463, 3464, 3465, 3466, 3467,\n",
            "       3468, 3469, 3470, 3471, 3472, 3473, 3474, 3475, 3476, 3477, 3478,\n",
            "       3479, 3480, 3481, 3482, 3483, 3484, 3485, 3486, 3487, 3488, 3489,\n",
            "       3490, 3491, 3492, 3493, 3494, 3495, 3496, 3497, 3498, 3499, 3500,\n",
            "       3501, 3502, 3503, 3504, 3505, 3506, 3507, 3508, 3509, 3510, 3511,\n",
            "       3512, 3513, 3514, 3515, 3516, 3517, 3518, 3519, 3520, 3521, 3522,\n",
            "       3523, 3524, 3525, 3526, 3527, 3528, 3529, 3530, 3531, 3532, 3533,\n",
            "       3534, 3535, 3536, 3537, 3538, 3539, 3540, 3541, 3542, 3543, 3544,\n",
            "       3545, 3546, 3547, 3548, 3549, 3550, 3551, 3552, 3553, 3554, 3555,\n",
            "       3556, 3557, 3558, 3559, 3560, 3561, 3562, 3563, 3564, 3565, 3566,\n",
            "       3567, 3568, 3569, 3570, 3571, 3572, 3573, 3574, 3575, 3576, 3577,\n",
            "       3578, 3579, 3580, 3581, 3582, 3583, 3584, 3585, 3586, 3587, 3588,\n",
            "       3589, 3590, 3591, 3592, 3593, 3594, 3595, 3596, 3597, 3598, 3599,\n",
            "       3600, 3601, 3602, 3603, 3604, 3605, 3606, 3607, 3608, 3609, 3610,\n",
            "       3611, 3612, 3613, 3614, 3615, 3616, 3617, 3618, 3619, 3620, 3621,\n",
            "       3622, 3623, 3624, 3625, 3626, 3627, 3628, 3629, 3630, 3631, 3632,\n",
            "       3633, 3634, 3635, 3636, 3637, 3638, 3639, 3640, 3641, 3642, 3643,\n",
            "       3644, 3645, 3646, 3647, 3648, 3649, 3650, 3651, 3652, 3653, 3654,\n",
            "       3655, 3656, 3657, 3658, 3659, 3660, 3661, 3662, 3663, 3664, 3665,\n",
            "       3666, 3667, 3668, 3669, 3670, 3671, 3672, 3673, 3674, 3675, 3676,\n",
            "       3677, 3678, 3679, 3680, 3681, 3682, 3683, 3684, 3685, 3686, 3687,\n",
            "       3688, 3689, 3690, 3691, 3692, 3693, 3694, 3695, 3696, 3697, 3698,\n",
            "       3699, 3700, 3701, 3702, 3703, 3704, 3705, 3706, 3707, 3708, 3709,\n",
            "       3710, 3711, 3712, 3713, 3714, 3715, 3716, 3717, 3718, 3719, 3720,\n",
            "       3721, 3722, 3723, 3724, 3725, 3726, 3727, 3728, 3729, 3730, 3731,\n",
            "       3732, 3733, 3734, 3735, 3736, 3737, 3738, 3739, 3740, 3741, 3742,\n",
            "       3743, 3744]),)\n"
          ]
        }
      ],
      "source": [
        "\n",
        "df_test_value = (df_daily_jumpsup - training_mean) / training_std\n",
        "fig, ax = plt.subplots()\n",
        "df_test_value.plot(legend=False, ax=ax)\n",
        "plt.show()\n",
        "\n",
        "# Create sequences from test values.\n",
        "x_test = create_sequences(df_test_value.values)\n",
        "print(\"Test input shape: \", x_test.shape)\n",
        "\n",
        "# Get test MAE loss.\n",
        "x_test_pred = model.predict(x_test)\n",
        "test_mae_loss = np.mean(np.abs(x_test_pred - x_test), axis=1)\n",
        "test_mae_loss = test_mae_loss.reshape((-1))\n",
        "\n",
        "plt.hist(test_mae_loss, bins=50)\n",
        "plt.xlabel(\"test MAE loss\")\n",
        "plt.ylabel(\"No of samples\")\n",
        "plt.show()\n",
        "\n",
        "# Detect all the samples which are anomalies.\n",
        "anomalies = test_mae_loss > threshold\n",
        "print(\"Number of anomaly samples: \", np.sum(anomalies))\n",
        "print(\"Indices of anomaly samples: \", np.where(anomalies))"
      ]
    },
    {
      "cell_type": "markdown",
      "metadata": {
        "id": "ualalyjjimWa"
      },
      "source": [
        "## Plot anomalies\n",
        "\n",
        "We now know the samples of the data which are anomalies. With this, we will\n",
        "find the corresponding `timestamps` from the original test data. We will be\n",
        "using the following method to do that:\n",
        "\n",
        "Let's say time_steps = 3 and we have 10 training values. Our `x_train` will\n",
        "look like this:\n",
        "\n",
        "- 0, 1, 2\n",
        "- 1, 2, 3\n",
        "- 2, 3, 4\n",
        "- 3, 4, 5\n",
        "- 4, 5, 6\n",
        "- 5, 6, 7\n",
        "- 6, 7, 8\n",
        "- 7, 8, 9\n",
        "\n",
        "All except the initial and the final time_steps-1 data values, will appear in\n",
        "`time_steps` number of samples. So, if we know that the samples\n",
        "[(3, 4, 5), (4, 5, 6), (5, 6, 7)] are anomalies, we can say that the data point\n",
        "5 is an anomaly."
      ]
    },
    {
      "cell_type": "code",
      "execution_count": null,
      "metadata": {
        "id": "L-_l4C6EimWa",
        "colab": {
          "base_uri": "https://localhost:8080/"
        },
        "outputId": "d1d1a4b1-aff3-4a6d-e0f6-8ac9766b5080"
      },
      "outputs": [
        {
          "output_type": "execute_result",
          "data": {
            "text/plain": [
              "[3137,\n",
              " 3138,\n",
              " 3139,\n",
              " 3140,\n",
              " 3141,\n",
              " 3142,\n",
              " 3143,\n",
              " 3144,\n",
              " 3145,\n",
              " 3146,\n",
              " 3147,\n",
              " 3148,\n",
              " 3149,\n",
              " 3150,\n",
              " 3151,\n",
              " 3152,\n",
              " 3153,\n",
              " 3154,\n",
              " 3155,\n",
              " 3156,\n",
              " 3157,\n",
              " 3158,\n",
              " 3159,\n",
              " 3160,\n",
              " 3161,\n",
              " 3162,\n",
              " 3163,\n",
              " 3164,\n",
              " 3165,\n",
              " 3166,\n",
              " 3167,\n",
              " 3168,\n",
              " 3169,\n",
              " 3170,\n",
              " 3171,\n",
              " 3172,\n",
              " 3173,\n",
              " 3174,\n",
              " 3175,\n",
              " 3176,\n",
              " 3177,\n",
              " 3178,\n",
              " 3179,\n",
              " 3180,\n",
              " 3181,\n",
              " 3182,\n",
              " 3183,\n",
              " 3184,\n",
              " 3185,\n",
              " 3186,\n",
              " 3187,\n",
              " 3188,\n",
              " 3189,\n",
              " 3190,\n",
              " 3191,\n",
              " 3192,\n",
              " 3193,\n",
              " 3194,\n",
              " 3195,\n",
              " 3196,\n",
              " 3197,\n",
              " 3198,\n",
              " 3199,\n",
              " 3200,\n",
              " 3201,\n",
              " 3202,\n",
              " 3203,\n",
              " 3204,\n",
              " 3205,\n",
              " 3206,\n",
              " 3207,\n",
              " 3208,\n",
              " 3209,\n",
              " 3210,\n",
              " 3211,\n",
              " 3212,\n",
              " 3213,\n",
              " 3214,\n",
              " 3215,\n",
              " 3216,\n",
              " 3217,\n",
              " 3218,\n",
              " 3219,\n",
              " 3220,\n",
              " 3221,\n",
              " 3222,\n",
              " 3223,\n",
              " 3224,\n",
              " 3225,\n",
              " 3226,\n",
              " 3227,\n",
              " 3228,\n",
              " 3229,\n",
              " 3230,\n",
              " 3231,\n",
              " 3232,\n",
              " 3233,\n",
              " 3234,\n",
              " 3235,\n",
              " 3236,\n",
              " 3237,\n",
              " 3238,\n",
              " 3239,\n",
              " 3240,\n",
              " 3241,\n",
              " 3242,\n",
              " 3243,\n",
              " 3244,\n",
              " 3245,\n",
              " 3246,\n",
              " 3247,\n",
              " 3248,\n",
              " 3249,\n",
              " 3250,\n",
              " 3251,\n",
              " 3252,\n",
              " 3253,\n",
              " 3254,\n",
              " 3255,\n",
              " 3256,\n",
              " 3257,\n",
              " 3258,\n",
              " 3259,\n",
              " 3260,\n",
              " 3261,\n",
              " 3262,\n",
              " 3263,\n",
              " 3264,\n",
              " 3265,\n",
              " 3266,\n",
              " 3267,\n",
              " 3268,\n",
              " 3269,\n",
              " 3270,\n",
              " 3271,\n",
              " 3272,\n",
              " 3273,\n",
              " 3274,\n",
              " 3275,\n",
              " 3276,\n",
              " 3277,\n",
              " 3278,\n",
              " 3279,\n",
              " 3280,\n",
              " 3281,\n",
              " 3282,\n",
              " 3283,\n",
              " 3284,\n",
              " 3285,\n",
              " 3286,\n",
              " 3287,\n",
              " 3288,\n",
              " 3289,\n",
              " 3290,\n",
              " 3291,\n",
              " 3292,\n",
              " 3293,\n",
              " 3294,\n",
              " 3295,\n",
              " 3296,\n",
              " 3297,\n",
              " 3298,\n",
              " 3299,\n",
              " 3300,\n",
              " 3301,\n",
              " 3302,\n",
              " 3303,\n",
              " 3304,\n",
              " 3305,\n",
              " 3306,\n",
              " 3307,\n",
              " 3308,\n",
              " 3309,\n",
              " 3310,\n",
              " 3311,\n",
              " 3312,\n",
              " 3313,\n",
              " 3314,\n",
              " 3315,\n",
              " 3316,\n",
              " 3317,\n",
              " 3318,\n",
              " 3319,\n",
              " 3320,\n",
              " 3321,\n",
              " 3322,\n",
              " 3323,\n",
              " 3324,\n",
              " 3325,\n",
              " 3326,\n",
              " 3327,\n",
              " 3328,\n",
              " 3329,\n",
              " 3330,\n",
              " 3331,\n",
              " 3332,\n",
              " 3333,\n",
              " 3334,\n",
              " 3335,\n",
              " 3336,\n",
              " 3337,\n",
              " 3338,\n",
              " 3339,\n",
              " 3340,\n",
              " 3341,\n",
              " 3342,\n",
              " 3343,\n",
              " 3344,\n",
              " 3345,\n",
              " 3346,\n",
              " 3347,\n",
              " 3348,\n",
              " 3349,\n",
              " 3350,\n",
              " 3351,\n",
              " 3352,\n",
              " 3353,\n",
              " 3354,\n",
              " 3355,\n",
              " 3356,\n",
              " 3357,\n",
              " 3358,\n",
              " 3359,\n",
              " 3360,\n",
              " 3361,\n",
              " 3362,\n",
              " 3363,\n",
              " 3364,\n",
              " 3365,\n",
              " 3366,\n",
              " 3367,\n",
              " 3368,\n",
              " 3369,\n",
              " 3370,\n",
              " 3371,\n",
              " 3372,\n",
              " 3373,\n",
              " 3374,\n",
              " 3375,\n",
              " 3376,\n",
              " 3377,\n",
              " 3378,\n",
              " 3379,\n",
              " 3380,\n",
              " 3381,\n",
              " 3382,\n",
              " 3383,\n",
              " 3384,\n",
              " 3385,\n",
              " 3386,\n",
              " 3387,\n",
              " 3388,\n",
              " 3389,\n",
              " 3390,\n",
              " 3391,\n",
              " 3392,\n",
              " 3393,\n",
              " 3394,\n",
              " 3395,\n",
              " 3396,\n",
              " 3397,\n",
              " 3398,\n",
              " 3399,\n",
              " 3400,\n",
              " 3401,\n",
              " 3402,\n",
              " 3403,\n",
              " 3404,\n",
              " 3405,\n",
              " 3406,\n",
              " 3407,\n",
              " 3408,\n",
              " 3409,\n",
              " 3410,\n",
              " 3411,\n",
              " 3412,\n",
              " 3413,\n",
              " 3414,\n",
              " 3415,\n",
              " 3416,\n",
              " 3417,\n",
              " 3418,\n",
              " 3419,\n",
              " 3420,\n",
              " 3421,\n",
              " 3422,\n",
              " 3423,\n",
              " 3424,\n",
              " 3425,\n",
              " 3426,\n",
              " 3427,\n",
              " 3428,\n",
              " 3429,\n",
              " 3430,\n",
              " 3431,\n",
              " 3432,\n",
              " 3433,\n",
              " 3434,\n",
              " 3435,\n",
              " 3436,\n",
              " 3437,\n",
              " 3438,\n",
              " 3439,\n",
              " 3440,\n",
              " 3441,\n",
              " 3442,\n",
              " 3443,\n",
              " 3444,\n",
              " 3445,\n",
              " 3446,\n",
              " 3447,\n",
              " 3448,\n",
              " 3449,\n",
              " 3450,\n",
              " 3451,\n",
              " 3452,\n",
              " 3453,\n",
              " 3454,\n",
              " 3455,\n",
              " 3456,\n",
              " 3457,\n",
              " 3458,\n",
              " 3459,\n",
              " 3460,\n",
              " 3461,\n",
              " 3462,\n",
              " 3463,\n",
              " 3464,\n",
              " 3465,\n",
              " 3466,\n",
              " 3467,\n",
              " 3468,\n",
              " 3469,\n",
              " 3470,\n",
              " 3471,\n",
              " 3472,\n",
              " 3473,\n",
              " 3474,\n",
              " 3475,\n",
              " 3476,\n",
              " 3477,\n",
              " 3478,\n",
              " 3479,\n",
              " 3480,\n",
              " 3481,\n",
              " 3482,\n",
              " 3483,\n",
              " 3484,\n",
              " 3485,\n",
              " 3486,\n",
              " 3487,\n",
              " 3488,\n",
              " 3489,\n",
              " 3490,\n",
              " 3491,\n",
              " 3492,\n",
              " 3493,\n",
              " 3494,\n",
              " 3495,\n",
              " 3496,\n",
              " 3497,\n",
              " 3498,\n",
              " 3499,\n",
              " 3500,\n",
              " 3501,\n",
              " 3502,\n",
              " 3503,\n",
              " 3504,\n",
              " 3505,\n",
              " 3506,\n",
              " 3507,\n",
              " 3508,\n",
              " 3509,\n",
              " 3510,\n",
              " 3511,\n",
              " 3512,\n",
              " 3513,\n",
              " 3514,\n",
              " 3515,\n",
              " 3516,\n",
              " 3517,\n",
              " 3518,\n",
              " 3519,\n",
              " 3520,\n",
              " 3521,\n",
              " 3522,\n",
              " 3523,\n",
              " 3524,\n",
              " 3525,\n",
              " 3526,\n",
              " 3527,\n",
              " 3528,\n",
              " 3529,\n",
              " 3530,\n",
              " 3531,\n",
              " 3532,\n",
              " 3533,\n",
              " 3534,\n",
              " 3535,\n",
              " 3536,\n",
              " 3537,\n",
              " 3538,\n",
              " 3539,\n",
              " 3540,\n",
              " 3541,\n",
              " 3542,\n",
              " 3543,\n",
              " 3544,\n",
              " 3545,\n",
              " 3546,\n",
              " 3547,\n",
              " 3548,\n",
              " 3549,\n",
              " 3550,\n",
              " 3551,\n",
              " 3552,\n",
              " 3553,\n",
              " 3554,\n",
              " 3555,\n",
              " 3556,\n",
              " 3557,\n",
              " 3558,\n",
              " 3559,\n",
              " 3560,\n",
              " 3561,\n",
              " 3562,\n",
              " 3563,\n",
              " 3564,\n",
              " 3565,\n",
              " 3566,\n",
              " 3567,\n",
              " 3568,\n",
              " 3569,\n",
              " 3570,\n",
              " 3571,\n",
              " 3572,\n",
              " 3573,\n",
              " 3574,\n",
              " 3575,\n",
              " 3576,\n",
              " 3577,\n",
              " 3578,\n",
              " 3579,\n",
              " 3580,\n",
              " 3581,\n",
              " 3582,\n",
              " 3583,\n",
              " 3584,\n",
              " 3585,\n",
              " 3586,\n",
              " 3587,\n",
              " 3588,\n",
              " 3589,\n",
              " 3590,\n",
              " 3591,\n",
              " 3592,\n",
              " 3593,\n",
              " 3594,\n",
              " 3595,\n",
              " 3596,\n",
              " 3597,\n",
              " 3598,\n",
              " 3599,\n",
              " 3600,\n",
              " 3601,\n",
              " 3602,\n",
              " 3603,\n",
              " 3604,\n",
              " 3605,\n",
              " 3606,\n",
              " 3607,\n",
              " 3608,\n",
              " 3609,\n",
              " 3610,\n",
              " 3611,\n",
              " 3612,\n",
              " 3613,\n",
              " 3614,\n",
              " 3615,\n",
              " 3616,\n",
              " 3617,\n",
              " 3618,\n",
              " 3619,\n",
              " 3620,\n",
              " 3621,\n",
              " 3622,\n",
              " 3623,\n",
              " 3624,\n",
              " 3625,\n",
              " 3626,\n",
              " 3627,\n",
              " 3628,\n",
              " 3629,\n",
              " 3630,\n",
              " 3631,\n",
              " 3632,\n",
              " 3633,\n",
              " 3634,\n",
              " 3635,\n",
              " 3636,\n",
              " 3637,\n",
              " 3638,\n",
              " 3639,\n",
              " 3640,\n",
              " 3641,\n",
              " 3642,\n",
              " 3643,\n",
              " 3644,\n",
              " 3645,\n",
              " 3646,\n",
              " 3647,\n",
              " 3648,\n",
              " 3649,\n",
              " 3650,\n",
              " 3651,\n",
              " 3652,\n",
              " 3653,\n",
              " 3654,\n",
              " 3655,\n",
              " 3656,\n",
              " 3657,\n",
              " 3658,\n",
              " 3659,\n",
              " 3660,\n",
              " 3661,\n",
              " 3662,\n",
              " 3663,\n",
              " 3664,\n",
              " 3665,\n",
              " 3666,\n",
              " 3667,\n",
              " 3668,\n",
              " 3669,\n",
              " 3670,\n",
              " 3671,\n",
              " 3672,\n",
              " 3673,\n",
              " 3674,\n",
              " 3675,\n",
              " 3676,\n",
              " 3677,\n",
              " 3678,\n",
              " 3679,\n",
              " 3680,\n",
              " 3681,\n",
              " 3682,\n",
              " 3683,\n",
              " 3684,\n",
              " 3685,\n",
              " 3686,\n",
              " 3687,\n",
              " 3688,\n",
              " 3689,\n",
              " 3690,\n",
              " 3691,\n",
              " 3692,\n",
              " 3693,\n",
              " 3694,\n",
              " 3695,\n",
              " 3696,\n",
              " 3697,\n",
              " 3698,\n",
              " 3699,\n",
              " 3700,\n",
              " 3701,\n",
              " 3702,\n",
              " 3703,\n",
              " 3704,\n",
              " 3705,\n",
              " 3706,\n",
              " 3707,\n",
              " 3708,\n",
              " 3709,\n",
              " 3710,\n",
              " 3711,\n",
              " 3712,\n",
              " 3713,\n",
              " 3714,\n",
              " 3715,\n",
              " 3716,\n",
              " 3717,\n",
              " 3718,\n",
              " 3719,\n",
              " 3720,\n",
              " 3721,\n",
              " 3722,\n",
              " 3723,\n",
              " 3724,\n",
              " 3725,\n",
              " 3726,\n",
              " 3727,\n",
              " 3728,\n",
              " 3729,\n",
              " 3730,\n",
              " 3731,\n",
              " 3732,\n",
              " 3733,\n",
              " 3734,\n",
              " 3735,\n",
              " 3736,\n",
              " 3737,\n",
              " 3738,\n",
              " 3739,\n",
              " 3740,\n",
              " 3741,\n",
              " 3742,\n",
              " 3743,\n",
              " 3744]"
            ]
          },
          "metadata": {},
          "execution_count": 27
        }
      ],
      "source": [
        "# data i is an anomaly if samples [(i - timesteps + 1) to (i)] are anomalies\n",
        "anomalous_data_indices = []\n",
        "for data_idx in range(TIME_STEPS - 1, len(df_test_value) - TIME_STEPS + 1):\n",
        "    if np.all(anomalies[data_idx - TIME_STEPS + 1 : data_idx]):\n",
        "        anomalous_data_indices.append(data_idx)\n",
        "# anomalous_data_indices"
      ]
    },
    {
      "cell_type": "markdown",
      "metadata": {
        "id": "WsvlZdr3imWa"
      },
      "source": [
        "Let's overlay the anomalies on the original test data plot."
      ]
    },
    {
      "cell_type": "code",
      "execution_count": null,
      "metadata": {
        "id": "EQ1j7IvpimWa",
        "outputId": "000d7510-4aa7-440f-e460-adb7ab9becea",
        "colab": {
          "base_uri": "https://localhost:8080/",
          "height": 303
        }
      },
      "outputs": [
        {
          "output_type": "display_data",
          "data": {
            "text/plain": [
              "<Figure size 432x288 with 1 Axes>"
            ],
            "image/png": "[encoded data removed]"
          },
          "metadata": {
            "needs_background": "light"
          }
        }
      ],
      "source": [
        "df_subset = df_daily_jumpsup.iloc[anomalous_data_indices]\n",
        "fig, ax = plt.subplots()\n",
        "df_daily_jumpsup.plot(legend=False, ax=ax)\n",
        "if anomalous_data_indices:\n",
        "  df_subset.plot(legend=False, ax=ax, color=\"r\")\n",
        "plt.show()"
      ]
    },
    {
      "cell_type": "code",
      "source": [
        ""
      ],
      "metadata": {
        "id": "ntyCUwudvjA9"
      },
      "execution_count": null,
      "outputs": []
    }
  ],
  "metadata": {
    "colab": {
      "collapsed_sections": [],
      "name": "06-03 lunacoin_anomaly_detection",
      "provenance": [],
      "include_colab_link": true
    },
    "kernelspec": {
      "display_name": "Python 3",
      "language": "python",
      "name": "python3"
    },
    "language_info": {
      "codemirror_mode": {
        "name": "ipython",
        "version": 3
      },
      "file_extension": ".py",
      "mimetype": "text/x-python",
      "name": "python",
      "nbconvert_exporter": "python",
      "pygments_lexer": "ipython3",
      "version": "3.7.0"
    }
  },
  "nbformat": 4,
  "nbformat_minor": 0
}