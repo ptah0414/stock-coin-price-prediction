{
  "cells": [
    {
      "cell_type": "markdown",
      "metadata": {
        "id": "Slgc7SsuimWR"
      },
      "source": [
        "# Timeseries anomaly detection using an Autoencoder\n",
        "\n",
        "**Author:** [pavithrasv](https://github.com/pavithrasv)<br>\n",
        "**Date created:** 2020/05/31<br>\n",
        "**Last modified:** 2020/05/31<br>\n",
        "**Description:** Detect anomalies in a timeseries using an Autoencoder."
      ]
    },
    {
      "cell_type": "markdown",
      "metadata": {
        "id": "ojKTfP8XimWT"
      },
      "source": [
        "## Introduction\n",
        "\n",
        "This script demonstrates how you can use a reconstruction convolutional\n",
        "autoencoder model to detect anomalies in timeseries data."
      ]
    },
    {
      "cell_type": "code",
      "source": [
        "# !pip install yfinance"
      ],
      "metadata": {
        "id": "OMpudy3tj9OY"
      },
      "execution_count": 290,
      "outputs": []
    },
    {
      "cell_type": "code",
      "source": [
        "import yfinance as yf"
      ],
      "metadata": {
        "id": "N6KxDKYOlZNs"
      },
      "execution_count": 291,
      "outputs": []
    },
    {
      "cell_type": "code",
      "source": [
        "interval = \"5m\"\n",
        "# valid intervals: 1m,2m,5m,15m,30m,60m,90m,1h,1d,5d,1wk,1mo,3mo"
      ],
      "metadata": {
        "id": "nWjxvtY29Nyt"
      },
      "execution_count": 292,
      "outputs": []
    },
    {
      "cell_type": "code",
      "source": [
        "# 9일부터 12일 폭락함\n",
        "start = \"2022-04-29\"\n",
        "end = \"2022-05-13\""
      ],
      "metadata": {
        "id": "89MxQ3v5CMS2"
      },
      "execution_count": 293,
      "outputs": []
    },
    {
      "cell_type": "code",
      "source": [
        "df = yf.download(\"LUNA1-USD\", start=start, end=end, interval=interval)\n",
        "df[\"close_chg\"] = (df[\"Close\"] - df[\"Close\"].shift(1)) / df[\"Close\"].shift(1) * 100\n",
        "luna = df[[\"close_chg\"]]\n",
        "luna"
      ],
      "metadata": {
        "colab": {
          "base_uri": "https://localhost:8080/",
          "height": 467
        },
        "id": "fyeTh6Dbj96U",
        "outputId": "4d301398-fe60-4406-8088-824274dbe2c1"
      },
      "execution_count": 294,
      "outputs": [
        {
          "output_type": "stream",
          "name": "stdout",
          "text": [
            "\r[*********************100%***********************]  1 of 1 completed\n"
          ]
        },
        {
          "output_type": "execute_result",
          "data": {
            "text/plain": [
              "                           close_chg\n",
              "Datetime                            \n",
              "2022-04-29 00:00:00+00:00        NaN\n",
              "2022-04-29 00:05:00+00:00  -0.040314\n",
              "2022-04-29 00:10:00+00:00   0.099108\n",
              "2022-04-29 00:15:00+00:00   0.116167\n",
              "2022-04-29 00:20:00+00:00  -0.054653\n",
              "...                              ...\n",
              "2022-05-12 23:35:00+00:00   2.303633\n",
              "2022-05-12 23:40:00+00:00 -11.332991\n",
              "2022-05-12 23:45:00+00:00   2.043528\n",
              "2022-05-12 23:50:00+00:00  -3.548905\n",
              "2022-05-12 23:55:00+00:00 -17.571902\n",
              "\n",
              "[4032 rows x 1 columns]"
            ],
            "text/html": [
              "\n",
              "  <div id=\"df-f9f3c8de-6964-4885-a461-18dd5e390adb\">\n",
              "    <div class=\"colab-df-container\">\n",
              "      <div>\n",
              "<style scoped>\n",
              "    .dataframe tbody tr th:only-of-type {\n",
              "        vertical-align: middle;\n",
              "    }\n",
              "\n",
              "    .dataframe tbody tr th {\n",
              "        vertical-align: top;\n",
              "    }\n",
              "\n",
              "    .dataframe thead th {\n",
              "        text-align: right;\n",
              "    }\n",
              "</style>\n",
              "<table border=\"1\" class=\"dataframe\">\n",
              "  <thead>\n",
              "    <tr style=\"text-align: right;\">\n",
              "      <th></th>\n",
              "      <th>close_chg</th>\n",
              "    </tr>\n",
              "    <tr>\n",
              "      <th>Datetime</th>\n",
              "      <th></th>\n",
              "    </tr>\n",
              "  </thead>\n",
              "  <tbody>\n",
              "    <tr>\n",
              "      <th>2022-04-29 00:00:00+00:00</th>\n",
              "      <td>NaN</td>\n",
              "    </tr>\n",
              "    <tr>\n",
              "      <th>2022-04-29 00:05:00+00:00</th>\n",
              "      <td>-0.040314</td>\n",
              "    </tr>\n",
              "    <tr>\n",
              "      <th>2022-04-29 00:10:00+00:00</th>\n",
              "      <td>0.099108</td>\n",
              "    </tr>\n",
              "    <tr>\n",
              "      <th>2022-04-29 00:15:00+00:00</th>\n",
              "      <td>0.116167</td>\n",
              "    </tr>\n",
              "    <tr>\n",
              "      <th>2022-04-29 00:20:00+00:00</th>\n",
              "      <td>-0.054653</td>\n",
              "    </tr>\n",
              "    <tr>\n",
              "      <th>...</th>\n",
              "      <td>...</td>\n",
              "    </tr>\n",
              "    <tr>\n",
              "      <th>2022-05-12 23:35:00+00:00</th>\n",
              "      <td>2.303633</td>\n",
              "    </tr>\n",
              "    <tr>\n",
              "      <th>2022-05-12 23:40:00+00:00</th>\n",
              "      <td>-11.332991</td>\n",
              "    </tr>\n",
              "    <tr>\n",
              "      <th>2022-05-12 23:45:00+00:00</th>\n",
              "      <td>2.043528</td>\n",
              "    </tr>\n",
              "    <tr>\n",
              "      <th>2022-05-12 23:50:00+00:00</th>\n",
              "      <td>-3.548905</td>\n",
              "    </tr>\n",
              "    <tr>\n",
              "      <th>2022-05-12 23:55:00+00:00</th>\n",
              "      <td>-17.571902</td>\n",
              "    </tr>\n",
              "  </tbody>\n",
              "</table>\n",
              "<p>4032 rows × 1 columns</p>\n",
              "</div>\n",
              "      <button class=\"colab-df-convert\" onclick=\"convertToInteractive('df-f9f3c8de-6964-4885-a461-18dd5e390adb')\"\n",
              "              title=\"Convert this dataframe to an interactive table.\"\n",
              "              style=\"display:none;\">\n",
              "        \n",
              "  <svg xmlns=\"http://www.w3.org/2000/svg\" height=\"24px\"viewBox=\"0 0 24 24\"\n",
              "       width=\"24px\">\n",
              "    <path d=\"M0 0h24v24H0V0z\" fill=\"none\"/>\n",
              "    <path d=\"M18.56 5.44l.94 2.06.94-2.06 2.06-.94-2.06-.94-.94-2.06-.94 2.06-2.06.94zm-11 1L8.5 8.5l.94-2.06 2.06-.94-2.06-.94L8.5 2.5l-.94 2.06-2.06.94zm10 10l.94 2.06.94-2.06 2.06-.94-2.06-.94-.94-2.06-.94 2.06-2.06.94z\"/><path d=\"M17.41 7.96l-1.37-1.37c-.4-.4-.92-.59-1.43-.59-.52 0-1.04.2-1.43.59L10.3 9.45l-7.72 7.72c-.78.78-.78 2.05 0 2.83L4 21.41c.39.39.9.59 1.41.59.51 0 1.02-.2 1.41-.59l7.78-7.78 2.81-2.81c.8-.78.8-2.07 0-2.86zM5.41 20L4 18.59l7.72-7.72 1.47 1.35L5.41 20z\"/>\n",
              "  </svg>\n",
              "      </button>\n",
              "      \n",
              "  <style>\n",
              "    .colab-df-container {\n",
              "      display:flex;\n",
              "      flex-wrap:wrap;\n",
              "      gap: 12px;\n",
              "    }\n",
              "\n",
              "    .colab-df-convert {\n",
              "      background-color: #E8F0FE;\n",
              "      border: none;\n",
              "      border-radius: 50%;\n",
              "      cursor: pointer;\n",
              "      display: none;\n",
              "      fill: #1967D2;\n",
              "      height: 32px;\n",
              "      padding: 0 0 0 0;\n",
              "      width: 32px;\n",
              "    }\n",
              "\n",
              "    .colab-df-convert:hover {\n",
              "      background-color: #E2EBFA;\n",
              "      box-shadow: 0px 1px 2px rgba(60, 64, 67, 0.3), 0px 1px 3px 1px rgba(60, 64, 67, 0.15);\n",
              "      fill: #174EA6;\n",
              "    }\n",
              "\n",
              "    [theme=dark] .colab-df-convert {\n",
              "      background-color: #3B4455;\n",
              "      fill: #D2E3FC;\n",
              "    }\n",
              "\n",
              "    [theme=dark] .colab-df-convert:hover {\n",
              "      background-color: #434B5C;\n",
              "      box-shadow: 0px 1px 3px 1px rgba(0, 0, 0, 0.15);\n",
              "      filter: drop-shadow(0px 1px 2px rgba(0, 0, 0, 0.3));\n",
              "      fill: #FFFFFF;\n",
              "    }\n",
              "  </style>\n",
              "\n",
              "      <script>\n",
              "        const buttonEl =\n",
              "          document.querySelector('#df-f9f3c8de-6964-4885-a461-18dd5e390adb button.colab-df-convert');\n",
              "        buttonEl.style.display =\n",
              "          google.colab.kernel.accessAllowed ? 'block' : 'none';\n",
              "\n",
              "        async function convertToInteractive(key) {\n",
              "          const element = document.querySelector('#df-f9f3c8de-6964-4885-a461-18dd5e390adb');\n",
              "          const dataTable =\n",
              "            await google.colab.kernel.invokeFunction('convertToInteractive',\n",
              "                                                     [key], {});\n",
              "          if (!dataTable) return;\n",
              "\n",
              "          const docLinkHtml = 'Like what you see? Visit the ' +\n",
              "            '<a target=\"_blank\" href=https://colab.research.google.com/notebooks/data_table.ipynb>data table notebook</a>'\n",
              "            + ' to learn more about interactive tables.';\n",
              "          element.innerHTML = '';\n",
              "          dataTable['output_type'] = 'display_data';\n",
              "          await google.colab.output.renderOutput(dataTable, element);\n",
              "          const docLink = document.createElement('div');\n",
              "          docLink.innerHTML = docLinkHtml;\n",
              "          element.appendChild(docLink);\n",
              "        }\n",
              "      </script>\n",
              "    </div>\n",
              "  </div>\n",
              "  "
            ]
          },
          "metadata": {},
          "execution_count": 294
        }
      ]
    },
    {
      "cell_type": "code",
      "source": [
        "luna = luna.fillna(method = \"bfill\")\n",
        "luna"
      ],
      "metadata": {
        "colab": {
          "base_uri": "https://localhost:8080/",
          "height": 450
        },
        "id": "_WMyarFGpzOn",
        "outputId": "65d56d63-2abc-4ff4-d6a3-112b554a0b7e"
      },
      "execution_count": 295,
      "outputs": [
        {
          "output_type": "execute_result",
          "data": {
            "text/plain": [
              "                           close_chg\n",
              "Datetime                            \n",
              "2022-04-29 00:00:00+00:00  -0.040314\n",
              "2022-04-29 00:05:00+00:00  -0.040314\n",
              "2022-04-29 00:10:00+00:00   0.099108\n",
              "2022-04-29 00:15:00+00:00   0.116167\n",
              "2022-04-29 00:20:00+00:00  -0.054653\n",
              "...                              ...\n",
              "2022-05-12 23:35:00+00:00   2.303633\n",
              "2022-05-12 23:40:00+00:00 -11.332991\n",
              "2022-05-12 23:45:00+00:00   2.043528\n",
              "2022-05-12 23:50:00+00:00  -3.548905\n",
              "2022-05-12 23:55:00+00:00 -17.571902\n",
              "\n",
              "[4032 rows x 1 columns]"
            ],
            "text/html": [
              "\n",
              "  <div id=\"df-b7c85099-ce27-4b8c-ac2c-0d0a97118ca7\">\n",
              "    <div class=\"colab-df-container\">\n",
              "      <div>\n",
              "<style scoped>\n",
              "    .dataframe tbody tr th:only-of-type {\n",
              "        vertical-align: middle;\n",
              "    }\n",
              "\n",
              "    .dataframe tbody tr th {\n",
              "        vertical-align: top;\n",
              "    }\n",
              "\n",
              "    .dataframe thead th {\n",
              "        text-align: right;\n",
              "    }\n",
              "</style>\n",
              "<table border=\"1\" class=\"dataframe\">\n",
              "  <thead>\n",
              "    <tr style=\"text-align: right;\">\n",
              "      <th></th>\n",
              "      <th>close_chg</th>\n",
              "    </tr>\n",
              "    <tr>\n",
              "      <th>Datetime</th>\n",
              "      <th></th>\n",
              "    </tr>\n",
              "  </thead>\n",
              "  <tbody>\n",
              "    <tr>\n",
              "      <th>2022-04-29 00:00:00+00:00</th>\n",
              "      <td>-0.040314</td>\n",
              "    </tr>\n",
              "    <tr>\n",
              "      <th>2022-04-29 00:05:00+00:00</th>\n",
              "      <td>-0.040314</td>\n",
              "    </tr>\n",
              "    <tr>\n",
              "      <th>2022-04-29 00:10:00+00:00</th>\n",
              "      <td>0.099108</td>\n",
              "    </tr>\n",
              "    <tr>\n",
              "      <th>2022-04-29 00:15:00+00:00</th>\n",
              "      <td>0.116167</td>\n",
              "    </tr>\n",
              "    <tr>\n",
              "      <th>2022-04-29 00:20:00+00:00</th>\n",
              "      <td>-0.054653</td>\n",
              "    </tr>\n",
              "    <tr>\n",
              "      <th>...</th>\n",
              "      <td>...</td>\n",
              "    </tr>\n",
              "    <tr>\n",
              "      <th>2022-05-12 23:35:00+00:00</th>\n",
              "      <td>2.303633</td>\n",
              "    </tr>\n",
              "    <tr>\n",
              "      <th>2022-05-12 23:40:00+00:00</th>\n",
              "      <td>-11.332991</td>\n",
              "    </tr>\n",
              "    <tr>\n",
              "      <th>2022-05-12 23:45:00+00:00</th>\n",
              "      <td>2.043528</td>\n",
              "    </tr>\n",
              "    <tr>\n",
              "      <th>2022-05-12 23:50:00+00:00</th>\n",
              "      <td>-3.548905</td>\n",
              "    </tr>\n",
              "    <tr>\n",
              "      <th>2022-05-12 23:55:00+00:00</th>\n",
              "      <td>-17.571902</td>\n",
              "    </tr>\n",
              "  </tbody>\n",
              "</table>\n",
              "<p>4032 rows × 1 columns</p>\n",
              "</div>\n",
              "      <button class=\"colab-df-convert\" onclick=\"convertToInteractive('df-b7c85099-ce27-4b8c-ac2c-0d0a97118ca7')\"\n",
              "              title=\"Convert this dataframe to an interactive table.\"\n",
              "              style=\"display:none;\">\n",
              "        \n",
              "  <svg xmlns=\"http://www.w3.org/2000/svg\" height=\"24px\"viewBox=\"0 0 24 24\"\n",
              "       width=\"24px\">\n",
              "    <path d=\"M0 0h24v24H0V0z\" fill=\"none\"/>\n",
              "    <path d=\"M18.56 5.44l.94 2.06.94-2.06 2.06-.94-2.06-.94-.94-2.06-.94 2.06-2.06.94zm-11 1L8.5 8.5l.94-2.06 2.06-.94-2.06-.94L8.5 2.5l-.94 2.06-2.06.94zm10 10l.94 2.06.94-2.06 2.06-.94-2.06-.94-.94-2.06-.94 2.06-2.06.94z\"/><path d=\"M17.41 7.96l-1.37-1.37c-.4-.4-.92-.59-1.43-.59-.52 0-1.04.2-1.43.59L10.3 9.45l-7.72 7.72c-.78.78-.78 2.05 0 2.83L4 21.41c.39.39.9.59 1.41.59.51 0 1.02-.2 1.41-.59l7.78-7.78 2.81-2.81c.8-.78.8-2.07 0-2.86zM5.41 20L4 18.59l7.72-7.72 1.47 1.35L5.41 20z\"/>\n",
              "  </svg>\n",
              "      </button>\n",
              "      \n",
              "  <style>\n",
              "    .colab-df-container {\n",
              "      display:flex;\n",
              "      flex-wrap:wrap;\n",
              "      gap: 12px;\n",
              "    }\n",
              "\n",
              "    .colab-df-convert {\n",
              "      background-color: #E8F0FE;\n",
              "      border: none;\n",
              "      border-radius: 50%;\n",
              "      cursor: pointer;\n",
              "      display: none;\n",
              "      fill: #1967D2;\n",
              "      height: 32px;\n",
              "      padding: 0 0 0 0;\n",
              "      width: 32px;\n",
              "    }\n",
              "\n",
              "    .colab-df-convert:hover {\n",
              "      background-color: #E2EBFA;\n",
              "      box-shadow: 0px 1px 2px rgba(60, 64, 67, 0.3), 0px 1px 3px 1px rgba(60, 64, 67, 0.15);\n",
              "      fill: #174EA6;\n",
              "    }\n",
              "\n",
              "    [theme=dark] .colab-df-convert {\n",
              "      background-color: #3B4455;\n",
              "      fill: #D2E3FC;\n",
              "    }\n",
              "\n",
              "    [theme=dark] .colab-df-convert:hover {\n",
              "      background-color: #434B5C;\n",
              "      box-shadow: 0px 1px 3px 1px rgba(0, 0, 0, 0.15);\n",
              "      filter: drop-shadow(0px 1px 2px rgba(0, 0, 0, 0.3));\n",
              "      fill: #FFFFFF;\n",
              "    }\n",
              "  </style>\n",
              "\n",
              "      <script>\n",
              "        const buttonEl =\n",
              "          document.querySelector('#df-b7c85099-ce27-4b8c-ac2c-0d0a97118ca7 button.colab-df-convert');\n",
              "        buttonEl.style.display =\n",
              "          google.colab.kernel.accessAllowed ? 'block' : 'none';\n",
              "\n",
              "        async function convertToInteractive(key) {\n",
              "          const element = document.querySelector('#df-b7c85099-ce27-4b8c-ac2c-0d0a97118ca7');\n",
              "          const dataTable =\n",
              "            await google.colab.kernel.invokeFunction('convertToInteractive',\n",
              "                                                     [key], {});\n",
              "          if (!dataTable) return;\n",
              "\n",
              "          const docLinkHtml = 'Like what you see? Visit the ' +\n",
              "            '<a target=\"_blank\" href=https://colab.research.google.com/notebooks/data_table.ipynb>data table notebook</a>'\n",
              "            + ' to learn more about interactive tables.';\n",
              "          element.innerHTML = '';\n",
              "          dataTable['output_type'] = 'display_data';\n",
              "          await google.colab.output.renderOutput(dataTable, element);\n",
              "          const docLink = document.createElement('div');\n",
              "          docLink.innerHTML = docLinkHtml;\n",
              "          element.appendChild(docLink);\n",
              "        }\n",
              "      </script>\n",
              "    </div>\n",
              "  </div>\n",
              "  "
            ]
          },
          "metadata": {},
          "execution_count": 295
        }
      ]
    },
    {
      "cell_type": "code",
      "source": [
        "df = yf.download(\"BTC-USD\", start=start, end=end, interval=interval)\n",
        "df[\"close_chg\"] = (df[\"Close\"] - df[\"Close\"].shift(1)) / df[\"Close\"].shift(1) * 100\n",
        "btc = df[[\"close_chg\"]]\n",
        "btc.head()"
      ],
      "metadata": {
        "colab": {
          "base_uri": "https://localhost:8080/",
          "height": 467
        },
        "id": "WkxYwnn9j93v",
        "outputId": "1d79039a-6af8-48e3-cc2f-e991d95c0ebd"
      },
      "execution_count": 296,
      "outputs": [
        {
          "output_type": "stream",
          "name": "stdout",
          "text": [
            "\r[*********************100%***********************]  1 of 1 completed\n"
          ]
        },
        {
          "output_type": "execute_result",
          "data": {
            "text/plain": [
              "                           close_chg\n",
              "Datetime                            \n",
              "2022-04-29 00:00:00+00:00        NaN\n",
              "2022-04-29 00:05:00+00:00  -0.040716\n",
              "2022-04-29 00:10:00+00:00   0.174312\n",
              "2022-04-29 00:15:00+00:00   0.022720\n",
              "2022-04-29 00:20:00+00:00   0.005424\n",
              "...                              ...\n",
              "2022-05-12 23:35:00+00:00   0.457139\n",
              "2022-05-12 23:40:00+00:00   0.092091\n",
              "2022-05-12 23:45:00+00:00   0.080943\n",
              "2022-05-12 23:50:00+00:00  -0.051969\n",
              "2022-05-12 23:55:00+00:00  -0.255427\n",
              "\n",
              "[4032 rows x 1 columns]"
            ],
            "text/html": [
              "\n",
              "  <div id=\"df-01269e39-d1fd-4e5f-992e-738697595778\">\n",
              "    <div class=\"colab-df-container\">\n",
              "      <div>\n",
              "<style scoped>\n",
              "    .dataframe tbody tr th:only-of-type {\n",
              "        vertical-align: middle;\n",
              "    }\n",
              "\n",
              "    .dataframe tbody tr th {\n",
              "        vertical-align: top;\n",
              "    }\n",
              "\n",
              "    .dataframe thead th {\n",
              "        text-align: right;\n",
              "    }\n",
              "</style>\n",
              "<table border=\"1\" class=\"dataframe\">\n",
              "  <thead>\n",
              "    <tr style=\"text-align: right;\">\n",
              "      <th></th>\n",
              "      <th>close_chg</th>\n",
              "    </tr>\n",
              "    <tr>\n",
              "      <th>Datetime</th>\n",
              "      <th></th>\n",
              "    </tr>\n",
              "  </thead>\n",
              "  <tbody>\n",
              "    <tr>\n",
              "      <th>2022-04-29 00:00:00+00:00</th>\n",
              "      <td>NaN</td>\n",
              "    </tr>\n",
              "    <tr>\n",
              "      <th>2022-04-29 00:05:00+00:00</th>\n",
              "      <td>-0.040716</td>\n",
              "    </tr>\n",
              "    <tr>\n",
              "      <th>2022-04-29 00:10:00+00:00</th>\n",
              "      <td>0.174312</td>\n",
              "    </tr>\n",
              "    <tr>\n",
              "      <th>2022-04-29 00:15:00+00:00</th>\n",
              "      <td>0.022720</td>\n",
              "    </tr>\n",
              "    <tr>\n",
              "      <th>2022-04-29 00:20:00+00:00</th>\n",
              "      <td>0.005424</td>\n",
              "    </tr>\n",
              "    <tr>\n",
              "      <th>...</th>\n",
              "      <td>...</td>\n",
              "    </tr>\n",
              "    <tr>\n",
              "      <th>2022-05-12 23:35:00+00:00</th>\n",
              "      <td>0.457139</td>\n",
              "    </tr>\n",
              "    <tr>\n",
              "      <th>2022-05-12 23:40:00+00:00</th>\n",
              "      <td>0.092091</td>\n",
              "    </tr>\n",
              "    <tr>\n",
              "      <th>2022-05-12 23:45:00+00:00</th>\n",
              "      <td>0.080943</td>\n",
              "    </tr>\n",
              "    <tr>\n",
              "      <th>2022-05-12 23:50:00+00:00</th>\n",
              "      <td>-0.051969</td>\n",
              "    </tr>\n",
              "    <tr>\n",
              "      <th>2022-05-12 23:55:00+00:00</th>\n",
              "      <td>-0.255427</td>\n",
              "    </tr>\n",
              "  </tbody>\n",
              "</table>\n",
              "<p>4032 rows × 1 columns</p>\n",
              "</div>\n",
              "      <button class=\"colab-df-convert\" onclick=\"convertToInteractive('df-01269e39-d1fd-4e5f-992e-738697595778')\"\n",
              "              title=\"Convert this dataframe to an interactive table.\"\n",
              "              style=\"display:none;\">\n",
              "        \n",
              "  <svg xmlns=\"http://www.w3.org/2000/svg\" height=\"24px\"viewBox=\"0 0 24 24\"\n",
              "       width=\"24px\">\n",
              "    <path d=\"M0 0h24v24H0V0z\" fill=\"none\"/>\n",
              "    <path d=\"M18.56 5.44l.94 2.06.94-2.06 2.06-.94-2.06-.94-.94-2.06-.94 2.06-2.06.94zm-11 1L8.5 8.5l.94-2.06 2.06-.94-2.06-.94L8.5 2.5l-.94 2.06-2.06.94zm10 10l.94 2.06.94-2.06 2.06-.94-2.06-.94-.94-2.06-.94 2.06-2.06.94z\"/><path d=\"M17.41 7.96l-1.37-1.37c-.4-.4-.92-.59-1.43-.59-.52 0-1.04.2-1.43.59L10.3 9.45l-7.72 7.72c-.78.78-.78 2.05 0 2.83L4 21.41c.39.39.9.59 1.41.59.51 0 1.02-.2 1.41-.59l7.78-7.78 2.81-2.81c.8-.78.8-2.07 0-2.86zM5.41 20L4 18.59l7.72-7.72 1.47 1.35L5.41 20z\"/>\n",
              "  </svg>\n",
              "      </button>\n",
              "      \n",
              "  <style>\n",
              "    .colab-df-container {\n",
              "      display:flex;\n",
              "      flex-wrap:wrap;\n",
              "      gap: 12px;\n",
              "    }\n",
              "\n",
              "    .colab-df-convert {\n",
              "      background-color: #E8F0FE;\n",
              "      border: none;\n",
              "      border-radius: 50%;\n",
              "      cursor: pointer;\n",
              "      display: none;\n",
              "      fill: #1967D2;\n",
              "      height: 32px;\n",
              "      padding: 0 0 0 0;\n",
              "      width: 32px;\n",
              "    }\n",
              "\n",
              "    .colab-df-convert:hover {\n",
              "      background-color: #E2EBFA;\n",
              "      box-shadow: 0px 1px 2px rgba(60, 64, 67, 0.3), 0px 1px 3px 1px rgba(60, 64, 67, 0.15);\n",
              "      fill: #174EA6;\n",
              "    }\n",
              "\n",
              "    [theme=dark] .colab-df-convert {\n",
              "      background-color: #3B4455;\n",
              "      fill: #D2E3FC;\n",
              "    }\n",
              "\n",
              "    [theme=dark] .colab-df-convert:hover {\n",
              "      background-color: #434B5C;\n",
              "      box-shadow: 0px 1px 3px 1px rgba(0, 0, 0, 0.15);\n",
              "      filter: drop-shadow(0px 1px 2px rgba(0, 0, 0, 0.3));\n",
              "      fill: #FFFFFF;\n",
              "    }\n",
              "  </style>\n",
              "\n",
              "      <script>\n",
              "        const buttonEl =\n",
              "          document.querySelector('#df-01269e39-d1fd-4e5f-992e-738697595778 button.colab-df-convert');\n",
              "        buttonEl.style.display =\n",
              "          google.colab.kernel.accessAllowed ? 'block' : 'none';\n",
              "\n",
              "        async function convertToInteractive(key) {\n",
              "          const element = document.querySelector('#df-01269e39-d1fd-4e5f-992e-738697595778');\n",
              "          const dataTable =\n",
              "            await google.colab.kernel.invokeFunction('convertToInteractive',\n",
              "                                                     [key], {});\n",
              "          if (!dataTable) return;\n",
              "\n",
              "          const docLinkHtml = 'Like what you see? Visit the ' +\n",
              "            '<a target=\"_blank\" href=https://colab.research.google.com/notebooks/data_table.ipynb>data table notebook</a>'\n",
              "            + ' to learn more about interactive tables.';\n",
              "          element.innerHTML = '';\n",
              "          dataTable['output_type'] = 'display_data';\n",
              "          await google.colab.output.renderOutput(dataTable, element);\n",
              "          const docLink = document.createElement('div');\n",
              "          docLink.innerHTML = docLinkHtml;\n",
              "          element.appendChild(docLink);\n",
              "        }\n",
              "      </script>\n",
              "    </div>\n",
              "  </div>\n",
              "  "
            ]
          },
          "metadata": {},
          "execution_count": 296
        }
      ]
    },
    {
      "cell_type": "code",
      "source": [
        "btc = btc.fillna(method = \"bfill\")\n",
        "btc.head()"
      ],
      "metadata": {
        "colab": {
          "base_uri": "https://localhost:8080/",
          "height": 450
        },
        "id": "VWmV5o6Mpx4e",
        "outputId": "1580c82d-b42c-4aee-b26b-66f90d2bfefc"
      },
      "execution_count": 297,
      "outputs": [
        {
          "output_type": "execute_result",
          "data": {
            "text/plain": [
              "                           close_chg\n",
              "Datetime                            \n",
              "2022-04-29 00:00:00+00:00  -0.040716\n",
              "2022-04-29 00:05:00+00:00  -0.040716\n",
              "2022-04-29 00:10:00+00:00   0.174312\n",
              "2022-04-29 00:15:00+00:00   0.022720\n",
              "2022-04-29 00:20:00+00:00   0.005424\n",
              "...                              ...\n",
              "2022-05-12 23:35:00+00:00   0.457139\n",
              "2022-05-12 23:40:00+00:00   0.092091\n",
              "2022-05-12 23:45:00+00:00   0.080943\n",
              "2022-05-12 23:50:00+00:00  -0.051969\n",
              "2022-05-12 23:55:00+00:00  -0.255427\n",
              "\n",
              "[4032 rows x 1 columns]"
            ],
            "text/html": [
              "\n",
              "  <div id=\"df-7f943024-8d5f-4c44-a5a1-515f1b11d729\">\n",
              "    <div class=\"colab-df-container\">\n",
              "      <div>\n",
              "<style scoped>\n",
              "    .dataframe tbody tr th:only-of-type {\n",
              "        vertical-align: middle;\n",
              "    }\n",
              "\n",
              "    .dataframe tbody tr th {\n",
              "        vertical-align: top;\n",
              "    }\n",
              "\n",
              "    .dataframe thead th {\n",
              "        text-align: right;\n",
              "    }\n",
              "</style>\n",
              "<table border=\"1\" class=\"dataframe\">\n",
              "  <thead>\n",
              "    <tr style=\"text-align: right;\">\n",
              "      <th></th>\n",
              "      <th>close_chg</th>\n",
              "    </tr>\n",
              "    <tr>\n",
              "      <th>Datetime</th>\n",
              "      <th></th>\n",
              "    </tr>\n",
              "  </thead>\n",
              "  <tbody>\n",
              "    <tr>\n",
              "      <th>2022-04-29 00:00:00+00:00</th>\n",
              "      <td>-0.040716</td>\n",
              "    </tr>\n",
              "    <tr>\n",
              "      <th>2022-04-29 00:05:00+00:00</th>\n",
              "      <td>-0.040716</td>\n",
              "    </tr>\n",
              "    <tr>\n",
              "      <th>2022-04-29 00:10:00+00:00</th>\n",
              "      <td>0.174312</td>\n",
              "    </tr>\n",
              "    <tr>\n",
              "      <th>2022-04-29 00:15:00+00:00</th>\n",
              "      <td>0.022720</td>\n",
              "    </tr>\n",
              "    <tr>\n",
              "      <th>2022-04-29 00:20:00+00:00</th>\n",
              "      <td>0.005424</td>\n",
              "    </tr>\n",
              "    <tr>\n",
              "      <th>...</th>\n",
              "      <td>...</td>\n",
              "    </tr>\n",
              "    <tr>\n",
              "      <th>2022-05-12 23:35:00+00:00</th>\n",
              "      <td>0.457139</td>\n",
              "    </tr>\n",
              "    <tr>\n",
              "      <th>2022-05-12 23:40:00+00:00</th>\n",
              "      <td>0.092091</td>\n",
              "    </tr>\n",
              "    <tr>\n",
              "      <th>2022-05-12 23:45:00+00:00</th>\n",
              "      <td>0.080943</td>\n",
              "    </tr>\n",
              "    <tr>\n",
              "      <th>2022-05-12 23:50:00+00:00</th>\n",
              "      <td>-0.051969</td>\n",
              "    </tr>\n",
              "    <tr>\n",
              "      <th>2022-05-12 23:55:00+00:00</th>\n",
              "      <td>-0.255427</td>\n",
              "    </tr>\n",
              "  </tbody>\n",
              "</table>\n",
              "<p>4032 rows × 1 columns</p>\n",
              "</div>\n",
              "      <button class=\"colab-df-convert\" onclick=\"convertToInteractive('df-7f943024-8d5f-4c44-a5a1-515f1b11d729')\"\n",
              "              title=\"Convert this dataframe to an interactive table.\"\n",
              "              style=\"display:none;\">\n",
              "        \n",
              "  <svg xmlns=\"http://www.w3.org/2000/svg\" height=\"24px\"viewBox=\"0 0 24 24\"\n",
              "       width=\"24px\">\n",
              "    <path d=\"M0 0h24v24H0V0z\" fill=\"none\"/>\n",
              "    <path d=\"M18.56 5.44l.94 2.06.94-2.06 2.06-.94-2.06-.94-.94-2.06-.94 2.06-2.06.94zm-11 1L8.5 8.5l.94-2.06 2.06-.94-2.06-.94L8.5 2.5l-.94 2.06-2.06.94zm10 10l.94 2.06.94-2.06 2.06-.94-2.06-.94-.94-2.06-.94 2.06-2.06.94z\"/><path d=\"M17.41 7.96l-1.37-1.37c-.4-.4-.92-.59-1.43-.59-.52 0-1.04.2-1.43.59L10.3 9.45l-7.72 7.72c-.78.78-.78 2.05 0 2.83L4 21.41c.39.39.9.59 1.41.59.51 0 1.02-.2 1.41-.59l7.78-7.78 2.81-2.81c.8-.78.8-2.07 0-2.86zM5.41 20L4 18.59l7.72-7.72 1.47 1.35L5.41 20z\"/>\n",
              "  </svg>\n",
              "      </button>\n",
              "      \n",
              "  <style>\n",
              "    .colab-df-container {\n",
              "      display:flex;\n",
              "      flex-wrap:wrap;\n",
              "      gap: 12px;\n",
              "    }\n",
              "\n",
              "    .colab-df-convert {\n",
              "      background-color: #E8F0FE;\n",
              "      border: none;\n",
              "      border-radius: 50%;\n",
              "      cursor: pointer;\n",
              "      display: none;\n",
              "      fill: #1967D2;\n",
              "      height: 32px;\n",
              "      padding: 0 0 0 0;\n",
              "      width: 32px;\n",
              "    }\n",
              "\n",
              "    .colab-df-convert:hover {\n",
              "      background-color: #E2EBFA;\n",
              "      box-shadow: 0px 1px 2px rgba(60, 64, 67, 0.3), 0px 1px 3px 1px rgba(60, 64, 67, 0.15);\n",
              "      fill: #174EA6;\n",
              "    }\n",
              "\n",
              "    [theme=dark] .colab-df-convert {\n",
              "      background-color: #3B4455;\n",
              "      fill: #D2E3FC;\n",
              "    }\n",
              "\n",
              "    [theme=dark] .colab-df-convert:hover {\n",
              "      background-color: #434B5C;\n",
              "      box-shadow: 0px 1px 3px 1px rgba(0, 0, 0, 0.15);\n",
              "      filter: drop-shadow(0px 1px 2px rgba(0, 0, 0, 0.3));\n",
              "      fill: #FFFFFF;\n",
              "    }\n",
              "  </style>\n",
              "\n",
              "      <script>\n",
              "        const buttonEl =\n",
              "          document.querySelector('#df-7f943024-8d5f-4c44-a5a1-515f1b11d729 button.colab-df-convert');\n",
              "        buttonEl.style.display =\n",
              "          google.colab.kernel.accessAllowed ? 'block' : 'none';\n",
              "\n",
              "        async function convertToInteractive(key) {\n",
              "          const element = document.querySelector('#df-7f943024-8d5f-4c44-a5a1-515f1b11d729');\n",
              "          const dataTable =\n",
              "            await google.colab.kernel.invokeFunction('convertToInteractive',\n",
              "                                                     [key], {});\n",
              "          if (!dataTable) return;\n",
              "\n",
              "          const docLinkHtml = 'Like what you see? Visit the ' +\n",
              "            '<a target=\"_blank\" href=https://colab.research.google.com/notebooks/data_table.ipynb>data table notebook</a>'\n",
              "            + ' to learn more about interactive tables.';\n",
              "          element.innerHTML = '';\n",
              "          dataTable['output_type'] = 'display_data';\n",
              "          await google.colab.output.renderOutput(dataTable, element);\n",
              "          const docLink = document.createElement('div');\n",
              "          docLink.innerHTML = docLinkHtml;\n",
              "          element.appendChild(docLink);\n",
              "        }\n",
              "      </script>\n",
              "    </div>\n",
              "  </div>\n",
              "  "
            ]
          },
          "metadata": {},
          "execution_count": 297
        }
      ]
    },
    {
      "cell_type": "markdown",
      "metadata": {
        "id": "lMjCCAW9imWT"
      },
      "source": [
        "## Setup"
      ]
    },
    {
      "cell_type": "code",
      "execution_count": 298,
      "metadata": {
        "id": "fD27mLsdimWU"
      },
      "outputs": [],
      "source": [
        "import numpy as np\n",
        "import pandas as pd\n",
        "from tensorflow import keras\n",
        "from tensorflow.keras import layers\n",
        "from matplotlib import pyplot as plt"
      ]
    },
    {
      "cell_type": "markdown",
      "metadata": {
        "id": "XC8iz5K_imWU"
      },
      "source": [
        "## Load the data\n",
        "\n",
        "We will use the [Numenta Anomaly Benchmark(NAB)](\n",
        "https://www.kaggle.com/boltzmannbrain/nab) dataset. It provides artifical\n",
        "timeseries data containing labeled anomalous periods of behavior. Data are\n",
        "ordered, timestamped, single-valued metrics.\n",
        "\n",
        "We will use the `art_daily_small_noise.csv` file for training and the\n",
        "`art_daily_jumpsup.csv` file for testing. The simplicity of this dataset\n",
        "allows us to demonstrate anomaly detection effectively."
      ]
    },
    {
      "cell_type": "code",
      "execution_count": 299,
      "metadata": {
        "id": "GHvrEUoXimWV"
      },
      "outputs": [],
      "source": [
        "master_url_root = \"https://raw.githubusercontent.com/numenta/NAB/master/data/\"\n",
        "\n",
        "df_small_noise_url_suffix = \"artificialNoAnomaly/art_daily_small_noise.csv\"\n",
        "df_small_noise_url = master_url_root + df_small_noise_url_suffix\n",
        "df_small_noise = pd.read_csv(\n",
        "    df_small_noise_url, parse_dates=True, index_col=\"timestamp\"\n",
        ")\n",
        "\n",
        "df_daily_jumpsup_url_suffix = \"artificialWithAnomaly/art_daily_jumpsup.csv\"\n",
        "df_daily_jumpsup_url = master_url_root + df_daily_jumpsup_url_suffix\n",
        "df_daily_jumpsup = pd.read_csv(\n",
        "    df_daily_jumpsup_url, parse_dates=True, index_col=\"timestamp\"\n",
        ")"
      ]
    },
    {
      "cell_type": "markdown",
      "metadata": {
        "id": "D_gY8FYeimWV"
      },
      "source": [
        "## Quick look at the data"
      ]
    },
    {
      "cell_type": "code",
      "execution_count": 300,
      "metadata": {
        "id": "-D4wHWTNimWV"
      },
      "outputs": [],
      "source": [
        "# print(df_small_noise.head())\n",
        "\n",
        "# print(df_daily_jumpsup.head())"
      ]
    },
    {
      "cell_type": "code",
      "source": [
        "print(luna.head())\n",
        "print(btc.head())"
      ],
      "metadata": {
        "colab": {
          "base_uri": "https://localhost:8080/"
        },
        "id": "WSv5SmLjln1U",
        "outputId": "fdecddbe-1ae1-498b-b2a0-7602d7fe07fd"
      },
      "execution_count": 301,
      "outputs": [
        {
          "output_type": "stream",
          "name": "stdout",
          "text": [
            "                           close_chg\n",
            "Datetime                            \n",
            "2022-04-29 00:00:00+00:00  -0.040314\n",
            "2022-04-29 00:05:00+00:00  -0.040314\n",
            "2022-04-29 00:10:00+00:00   0.099108\n",
            "2022-04-29 00:15:00+00:00   0.116167\n",
            "2022-04-29 00:20:00+00:00  -0.054653\n",
            "                           close_chg\n",
            "Datetime                            \n",
            "2022-04-29 00:00:00+00:00  -0.040716\n",
            "2022-04-29 00:05:00+00:00  -0.040716\n",
            "2022-04-29 00:10:00+00:00   0.174312\n",
            "2022-04-29 00:15:00+00:00   0.022720\n",
            "2022-04-29 00:20:00+00:00   0.005424\n"
          ]
        }
      ]
    },
    {
      "cell_type": "code",
      "source": [
        "df_small_noise = btc # 정상\n",
        "df_daily_jumpsup = luna # 비정상"
      ],
      "metadata": {
        "id": "qgr5T884txdx"
      },
      "execution_count": 302,
      "outputs": []
    },
    {
      "cell_type": "markdown",
      "metadata": {
        "id": "JPoqP6G7imWV"
      },
      "source": [
        "## Visualize the data\n",
        "### Timeseries data without anomalies\n",
        "\n",
        "We will use the following data for training."
      ]
    },
    {
      "cell_type": "code",
      "execution_count": 303,
      "metadata": {
        "id": "TnwjN8bFimWW"
      },
      "outputs": [],
      "source": [
        "# # 정상 데이터(비트코인)\n",
        "# fig, ax = plt.subplots()\n",
        "# df_small_noise.plot(legend=False, ax=ax)\n",
        "# plt.show()"
      ]
    },
    {
      "cell_type": "markdown",
      "metadata": {
        "id": "u29gF6mbimWW"
      },
      "source": [
        "### Timeseries data with anomalies\n",
        "\n",
        "We will use the following data for testing and see if the sudden jump up in the\n",
        "data is detected as an anomaly."
      ]
    },
    {
      "cell_type": "code",
      "execution_count": 304,
      "metadata": {
        "id": "Qd3FbCBkimWW"
      },
      "outputs": [],
      "source": [
        "# # 비정상 데이터(루나코인)\n",
        "# fig, ax = plt.subplots()\n",
        "# df_daily_jumpsup.plot(legend=False, ax=ax)\n",
        "# plt.show()"
      ]
    },
    {
      "cell_type": "markdown",
      "source": [
        "##비트코인(주황) & 루나코인(파랑)"
      ],
      "metadata": {
        "id": "Iiqmqe6MrTSX"
      }
    },
    {
      "cell_type": "code",
      "source": [
        "fig, ax = plt.subplots()\n",
        "df_daily_jumpsup.plot(legend=False, ax=ax)\n",
        "df_small_noise.plot(legend=False, ax=ax)\n",
        "plt.show()"
      ],
      "metadata": {
        "colab": {
          "base_uri": "https://localhost:8080/",
          "height": 303
        },
        "id": "-CdQLU8QrElu",
        "outputId": "55f36d21-085b-48e7-b3b3-b174aa9eee95"
      },
      "execution_count": 305,
      "outputs": [
        {
          "output_type": "display_data",
          "data": {
            "text/plain": [
              "<Figure size 432x288 with 1 Axes>"
            ],
            "image/png": "[encoded data removed]"
          },
          "metadata": {
            "needs_background": "light"
          }
        }
      ]
    },
    {
      "cell_type": "markdown",
      "metadata": {
        "id": "Zvy-xgMiimWW"
      },
      "source": [
        "## Prepare training data\n",
        "\n",
        "Get data values from the training timeseries data file and normalize the\n",
        "`value` data. We have a `value` for every 5 mins for 14 days.\n",
        "\n",
        "-   24 * 60 / 5 = **288 timesteps per day**\n",
        "-   288 * 14 = **4032 data points** in total"
      ]
    },
    {
      "cell_type": "code",
      "execution_count": 306,
      "metadata": {
        "id": "eazG2zQzimWX",
        "outputId": "6bbc4a1a-8c3f-4af2-d80a-16e3c75fea34",
        "colab": {
          "base_uri": "https://localhost:8080/"
        }
      },
      "outputs": [
        {
          "output_type": "stream",
          "name": "stdout",
          "text": [
            "Number of training samples: 4032\n"
          ]
        }
      ],
      "source": [
        "\n",
        "# Normalize and save the mean and std we get,\n",
        "# for normalizing test data.\n",
        "training_mean = df_small_noise.mean()\n",
        "training_std = df_small_noise.std()\n",
        "df_training_value = (df_small_noise - training_mean) / training_std\n",
        "print(\"Number of training samples:\", len(df_training_value))"
      ]
    },
    {
      "cell_type": "markdown",
      "metadata": {
        "id": "Hyd339b9imWX"
      },
      "source": [
        "### Create sequences\n",
        "Create sequences combining `TIME_STEPS` contiguous data values from the\n",
        "training data."
      ]
    },
    {
      "cell_type": "code",
      "execution_count": 307,
      "metadata": {
        "id": "EILejBUAimWX",
        "outputId": "3518d4c7-645d-401b-cf20-49f8bd7568c2",
        "colab": {
          "base_uri": "https://localhost:8080/"
        }
      },
      "outputs": [
        {
          "output_type": "stream",
          "name": "stdout",
          "text": [
            "Training input shape:  (3745, 288, 1)\n"
          ]
        }
      ],
      "source": [
        "TIME_STEPS = 288\n",
        "\n",
        "# Generated training sequences for use in the model.\n",
        "def create_sequences(values, time_steps=TIME_STEPS):\n",
        "    output = []\n",
        "    for i in range(len(values) - time_steps + 1):\n",
        "        output.append(values[i : (i + time_steps)])\n",
        "    return np.stack(output)\n",
        "\n",
        "\n",
        "x_train = create_sequences(df_training_value.values)\n",
        "print(\"Training input shape: \", x_train.shape)"
      ]
    },
    {
      "cell_type": "markdown",
      "metadata": {
        "id": "6TtL0swsimWX"
      },
      "source": [
        "## Build a model\n",
        "\n",
        "We will build a convolutional reconstruction autoencoder model. The model will\n",
        "take input of shape `(batch_size, sequence_length, num_features)` and return\n",
        "output of the same shape. In this case, `sequence_length` is 288 and\n",
        "`num_features` is 1."
      ]
    },
    {
      "cell_type": "code",
      "execution_count": 308,
      "metadata": {
        "id": "XXmWGSjximWY",
        "outputId": "afee489c-0e35-442d-c956-8c93af40116c",
        "colab": {
          "base_uri": "https://localhost:8080/"
        }
      },
      "outputs": [
        {
          "output_type": "stream",
          "name": "stdout",
          "text": [
            "Model: \"sequential_10\"\n",
            "_________________________________________________________________\n",
            " Layer (type)                Output Shape              Param #   \n",
            "=================================================================\n",
            " conv1d_20 (Conv1D)          (None, 144, 32)           256       \n",
            "                                                                 \n",
            " dropout_20 (Dropout)        (None, 144, 32)           0         \n",
            "                                                                 \n",
            " conv1d_21 (Conv1D)          (None, 72, 16)            3600      \n",
            "                                                                 \n",
            " conv1d_transpose_30 (Conv1D  (None, 144, 16)          1808      \n",
            " Transpose)                                                      \n",
            "                                                                 \n",
            " dropout_21 (Dropout)        (None, 144, 16)           0         \n",
            "                                                                 \n",
            " conv1d_transpose_31 (Conv1D  (None, 288, 32)          3616      \n",
            " Transpose)                                                      \n",
            "                                                                 \n",
            " conv1d_transpose_32 (Conv1D  (None, 288, 1)           225       \n",
            " Transpose)                                                      \n",
            "                                                                 \n",
            "=================================================================\n",
            "Total params: 9,505\n",
            "Trainable params: 9,505\n",
            "Non-trainable params: 0\n",
            "_________________________________________________________________\n"
          ]
        }
      ],
      "source": [
        "model = keras.Sequential(\n",
        "    [\n",
        "        layers.Input(shape=(x_train.shape[1], x_train.shape[2])),\n",
        "        layers.Conv1D(\n",
        "            filters=32, kernel_size=7, padding=\"same\", strides=2, activation=\"relu\"\n",
        "        ),\n",
        "        layers.Dropout(rate=0.2),\n",
        "        layers.Conv1D(\n",
        "            filters=16, kernel_size=7, padding=\"same\", strides=2, activation=\"relu\"\n",
        "        ),\n",
        "        layers.Conv1DTranspose(\n",
        "            filters=16, kernel_size=7, padding=\"same\", strides=2, activation=\"relu\"\n",
        "        ),\n",
        "        layers.Dropout(rate=0.2),\n",
        "        layers.Conv1DTranspose(\n",
        "            filters=32, kernel_size=7, padding=\"same\", strides=2, activation=\"relu\"\n",
        "        ),\n",
        "        layers.Conv1DTranspose(filters=1, kernel_size=7, padding=\"same\"),\n",
        "    ]\n",
        ")\n",
        "model.compile(optimizer=keras.optimizers.Adam(learning_rate=0.001), loss=\"mse\")\n",
        "model.summary()"
      ]
    },
    {
      "cell_type": "markdown",
      "metadata": {
        "id": "-4obxtQiimWY"
      },
      "source": [
        "## Train the model\n",
        "\n",
        "Please note that we are using `x_train` as both the input and the target\n",
        "since this is a reconstruction model."
      ]
    },
    {
      "cell_type": "code",
      "execution_count": 309,
      "metadata": {
        "id": "runHIqWximWY",
        "outputId": "38c8903f-21e6-4b3a-e186-efac7869dd24",
        "colab": {
          "base_uri": "https://localhost:8080/"
        }
      },
      "outputs": [
        {
          "output_type": "stream",
          "name": "stdout",
          "text": [
            "Epoch 1/50\n",
            "27/27 [==============================] - 3s 84ms/step - loss: 0.4336 - val_loss: 1.7017\n",
            "Epoch 2/50\n",
            "27/27 [==============================] - 2s 75ms/step - loss: 0.1883 - val_loss: 0.5600\n",
            "Epoch 3/50\n",
            "27/27 [==============================] - 2s 76ms/step - loss: 0.1099 - val_loss: 0.2757\n",
            "Epoch 4/50\n",
            "27/27 [==============================] - 2s 76ms/step - loss: 0.0873 - val_loss: 0.1978\n",
            "Epoch 5/50\n",
            "27/27 [==============================] - 2s 75ms/step - loss: 0.0772 - val_loss: 0.1726\n",
            "Epoch 6/50\n",
            "27/27 [==============================] - 2s 75ms/step - loss: 0.0719 - val_loss: 0.1545\n",
            "Epoch 7/50\n",
            "27/27 [==============================] - 2s 76ms/step - loss: 0.0675 - val_loss: 0.1482\n",
            "Epoch 8/50\n",
            "27/27 [==============================] - 2s 76ms/step - loss: 0.0653 - val_loss: 0.1435\n",
            "Epoch 9/50\n",
            "27/27 [==============================] - 2s 75ms/step - loss: 0.0627 - val_loss: 0.1329\n",
            "Epoch 10/50\n",
            "27/27 [==============================] - 2s 76ms/step - loss: 0.0608 - val_loss: 0.1252\n",
            "Epoch 11/50\n",
            "27/27 [==============================] - 4s 158ms/step - loss: 0.0592 - val_loss: 0.1235\n",
            "Epoch 12/50\n",
            "27/27 [==============================] - 5s 168ms/step - loss: 0.0573 - val_loss: 0.1317\n",
            "Epoch 13/50\n",
            "27/27 [==============================] - 4s 141ms/step - loss: 0.0562 - val_loss: 0.1226\n",
            "Epoch 14/50\n",
            "27/27 [==============================] - 3s 120ms/step - loss: 0.0548 - val_loss: 0.1188\n",
            "Epoch 15/50\n",
            "27/27 [==============================] - 3s 104ms/step - loss: 0.0539 - val_loss: 0.1187\n",
            "Epoch 16/50\n",
            "27/27 [==============================] - 2s 76ms/step - loss: 0.0530 - val_loss: 0.1247\n",
            "Epoch 17/50\n",
            "27/27 [==============================] - 2s 76ms/step - loss: 0.0521 - val_loss: 0.1164\n",
            "Epoch 18/50\n",
            "27/27 [==============================] - 2s 90ms/step - loss: 0.0511 - val_loss: 0.1268\n",
            "Epoch 19/50\n",
            "27/27 [==============================] - 3s 105ms/step - loss: 0.0502 - val_loss: 0.1307\n",
            "Epoch 20/50\n",
            "27/27 [==============================] - 2s 76ms/step - loss: 0.0493 - val_loss: 0.1275\n",
            "Epoch 21/50\n",
            "27/27 [==============================] - 2s 76ms/step - loss: 0.0481 - val_loss: 0.1402\n",
            "Epoch 22/50\n",
            "27/27 [==============================] - 2s 75ms/step - loss: 0.0472 - val_loss: 0.1438\n"
          ]
        }
      ],
      "source": [
        "history = model.fit(\n",
        "    x_train,\n",
        "    x_train,\n",
        "    epochs=50,\n",
        "    batch_size=128,\n",
        "    validation_split=0.1,\n",
        "    callbacks=[\n",
        "        keras.callbacks.EarlyStopping(monitor=\"val_loss\", patience=5, mode=\"min\")\n",
        "    ],\n",
        ")"
      ]
    },
    {
      "cell_type": "markdown",
      "metadata": {
        "id": "8EctiKVeimWY"
      },
      "source": [
        "Let's plot training and validation loss to see how the training went."
      ]
    },
    {
      "cell_type": "code",
      "execution_count": 310,
      "metadata": {
        "id": "VCKsZDTZimWZ",
        "outputId": "390db4d9-8277-48b8-e391-7c7577b0bb2b",
        "colab": {
          "base_uri": "https://localhost:8080/",
          "height": 265
        }
      },
      "outputs": [
        {
          "output_type": "display_data",
          "data": {
            "text/plain": [
              "<Figure size 432x288 with 1 Axes>"
            ],
            "image/png": "[encoded data removed]"
          },
          "metadata": {
            "needs_background": "light"
          }
        }
      ],
      "source": [
        "plt.plot(history.history[\"loss\"], label=\"Training Loss\")\n",
        "plt.plot(history.history[\"val_loss\"], label=\"Validation Loss\")\n",
        "plt.legend()\n",
        "plt.show()"
      ]
    },
    {
      "cell_type": "markdown",
      "metadata": {
        "id": "9THFSv42imWZ"
      },
      "source": [
        "## Detecting anomalies\n",
        "\n",
        "We will detect anomalies by determining how well our model can reconstruct\n",
        "the input data.\n",
        "\n",
        "\n",
        "1.   Find MAE loss on training samples.\n",
        "2.   Find max MAE loss value. This is the worst our model has performed trying\n",
        "to reconstruct a sample. We will make this the `threshold` for anomaly\n",
        "detection.\n",
        "3.   If the reconstruction loss for a sample is greater than this `threshold`\n",
        "value then we can infer that the model is seeing a pattern that it isn't\n",
        "familiar with. We will label this sample as an `anomaly`.\n"
      ]
    },
    {
      "cell_type": "markdown",
      "source": [
        "#Threshold 설정"
      ],
      "metadata": {
        "id": "oBjBZbh9pdLF"
      }
    },
    {
      "cell_type": "code",
      "execution_count": 311,
      "metadata": {
        "id": "M4JqrSLiimWZ",
        "outputId": "9a8fb329-6319-4ead-faa9-76389d4357d5",
        "colab": {
          "base_uri": "https://localhost:8080/",
          "height": 296
        }
      },
      "outputs": [
        {
          "output_type": "display_data",
          "data": {
            "text/plain": [
              "<Figure size 432x288 with 1 Axes>"
            ],
            "image/png": "[encoded data removed]"
          },
          "metadata": {
            "needs_background": "light"
          }
        },
        {
          "output_type": "stream",
          "name": "stdout",
          "text": [
            "Reconstruction error threshold:  0.3463612994175247\n"
          ]
        }
      ],
      "source": [
        "# Get train MAE loss.\n",
        "x_train_pred = model.predict(x_train)\n",
        "train_mae_loss = np.mean(np.abs(x_train_pred - x_train), axis=1)\n",
        "\n",
        "plt.hist(train_mae_loss, bins=50)\n",
        "plt.xlabel(\"Train MAE loss\")\n",
        "plt.ylabel(\"No of samples\")\n",
        "plt.show()\n",
        "\n",
        "# Get reconstruction loss threshold.\n",
        "threshold = np.max(train_mae_loss)\n",
        "print(\"Reconstruction error threshold: \", threshold)"
      ]
    },
    {
      "cell_type": "markdown",
      "metadata": {
        "id": "7Zdf__jdimWZ"
      },
      "source": [
        "### Compare recontruction\n",
        "\n",
        "Just for fun, let's see how our model has recontructed the first sample.\n",
        "This is the 288 timesteps from day 1 of our training dataset."
      ]
    },
    {
      "cell_type": "code",
      "execution_count": 312,
      "metadata": {
        "id": "kOG_SAFbimWa",
        "outputId": "98e16525-4fdc-43b7-ffdb-ac9aa2fbd875",
        "colab": {
          "base_uri": "https://localhost:8080/",
          "height": 265
        }
      },
      "outputs": [
        {
          "output_type": "display_data",
          "data": {
            "text/plain": [
              "<Figure size 432x288 with 1 Axes>"
            ],
            "image/png": "[encoded data removed]"
          },
          "metadata": {
            "needs_background": "light"
          }
        }
      ],
      "source": [
        "# Checking how the first sequence is learnt\n",
        "plt.plot(x_train[0])\n",
        "plt.plot(x_train_pred[0])\n",
        "plt.show()"
      ]
    },
    {
      "cell_type": "markdown",
      "metadata": {
        "id": "2FHoQXrOimWa"
      },
      "source": [
        "### Prepare test data"
      ]
    },
    {
      "cell_type": "code",
      "execution_count": 313,
      "metadata": {
        "id": "-UUG5W6WimWa",
        "outputId": "f2cf2062-f67c-4fb4-f440-1b5c358593b0",
        "colab": {
          "base_uri": "https://localhost:8080/",
          "height": 1000
        }
      },
      "outputs": [
        {
          "output_type": "display_data",
          "data": {
            "text/plain": [
              "<Figure size 432x288 with 1 Axes>"
            ],
            "image/png": "[encoded data removed]"
          },
          "metadata": {
            "needs_background": "light"
          }
        },
        {
          "output_type": "stream",
          "name": "stdout",
          "text": [
            "Test input shape:  (3745, 288, 1)\n"
          ]
        },
        {
          "output_type": "display_data",
          "data": {
            "text/plain": [
              "<Figure size 432x288 with 1 Axes>"
            ],
            "image/png": "[encoded data removed]"
          },
          "metadata": {
            "needs_background": "light"
          }
        },
        {
          "output_type": "stream",
          "name": "stdout",
          "text": [
            "Number of anomaly samples:  924\n",
            "Indices of anomaly samples:  (array([2564, 2576, 2580, 2818, 2822, 2823, 2824, 2826, 2828, 2830, 2831,\n",
            "       2832, 2833, 2834, 2835, 2836, 2837, 2838, 2839, 2840, 2841, 2842,\n",
            "       2843, 2844, 2845, 2846, 2847, 2848, 2849, 2850, 2851, 2852, 2853,\n",
            "       2854, 2855, 2856, 2857, 2858, 2859, 2860, 2861, 2862, 2863, 2864,\n",
            "       2865, 2866, 2867, 2868, 2869, 2870, 2871, 2872, 2873, 2874, 2875,\n",
            "       2876, 2877, 2878, 2879, 2880, 2881, 2882, 2883, 2884, 2885, 2886,\n",
            "       2887, 2888, 2889, 2890, 2891, 2892, 2893, 2894, 2895, 2896, 2897,\n",
            "       2898, 2899, 2900, 2901, 2902, 2903, 2904, 2905, 2906, 2907, 2908,\n",
            "       2909, 2910, 2911, 2912, 2913, 2914, 2915, 2916, 2917, 2918, 2919,\n",
            "       2920, 2921, 2922, 2923, 2924, 2925, 2926, 2927, 2928, 2929, 2930,\n",
            "       2931, 2932, 2933, 2934, 2935, 2936, 2937, 2938, 2939, 2940, 2941,\n",
            "       2942, 2943, 2944, 2945, 2946, 2947, 2948, 2949, 2950, 2951, 2952,\n",
            "       2953, 2954, 2955, 2956, 2957, 2958, 2959, 2960, 2961, 2962, 2963,\n",
            "       2964, 2965, 2966, 2967, 2968, 2969, 2970, 2971, 2972, 2973, 2974,\n",
            "       2975, 2976, 2977, 2978, 2979, 2980, 2981, 2982, 2983, 2984, 2985,\n",
            "       2986, 2987, 2988, 2989, 2990, 2991, 2992, 2993, 2994, 2995, 2996,\n",
            "       2997, 2998, 2999, 3000, 3001, 3002, 3003, 3004, 3005, 3006, 3007,\n",
            "       3008, 3009, 3010, 3011, 3012, 3013, 3014, 3015, 3016, 3017, 3018,\n",
            "       3019, 3020, 3021, 3022, 3023, 3024, 3025, 3026, 3027, 3028, 3029,\n",
            "       3030, 3031, 3032, 3033, 3034, 3035, 3036, 3037, 3038, 3039, 3040,\n",
            "       3041, 3042, 3043, 3044, 3045, 3046, 3047, 3048, 3049, 3050, 3051,\n",
            "       3052, 3053, 3054, 3055, 3056, 3057, 3058, 3059, 3060, 3061, 3062,\n",
            "       3063, 3064, 3065, 3066, 3067, 3068, 3069, 3070, 3071, 3072, 3073,\n",
            "       3074, 3075, 3076, 3077, 3078, 3079, 3080, 3081, 3082, 3083, 3084,\n",
            "       3085, 3086, 3087, 3088, 3089, 3090, 3091, 3092, 3093, 3094, 3095,\n",
            "       3096, 3097, 3098, 3099, 3100, 3101, 3102, 3103, 3104, 3105, 3106,\n",
            "       3107, 3108, 3109, 3110, 3111, 3112, 3113, 3114, 3115, 3116, 3117,\n",
            "       3118, 3119, 3120, 3121, 3122, 3123, 3124, 3125, 3126, 3127, 3128,\n",
            "       3129, 3130, 3131, 3132, 3133, 3134, 3135, 3136, 3137, 3138, 3139,\n",
            "       3140, 3141, 3142, 3143, 3144, 3145, 3146, 3147, 3148, 3149, 3150,\n",
            "       3151, 3152, 3153, 3154, 3155, 3156, 3157, 3158, 3159, 3160, 3161,\n",
            "       3162, 3163, 3164, 3165, 3166, 3167, 3168, 3169, 3170, 3171, 3172,\n",
            "       3173, 3174, 3175, 3176, 3177, 3178, 3179, 3180, 3181, 3182, 3183,\n",
            "       3184, 3185, 3186, 3187, 3188, 3189, 3190, 3191, 3192, 3193, 3194,\n",
            "       3195, 3196, 3197, 3198, 3199, 3200, 3201, 3202, 3203, 3204, 3205,\n",
            "       3206, 3207, 3208, 3209, 3210, 3211, 3212, 3213, 3214, 3215, 3216,\n",
            "       3217, 3218, 3219, 3220, 3221, 3222, 3223, 3224, 3225, 3226, 3227,\n",
            "       3228, 3229, 3230, 3231, 3232, 3233, 3234, 3235, 3236, 3237, 3238,\n",
            "       3239, 3240, 3241, 3242, 3243, 3244, 3245, 3246, 3247, 3248, 3249,\n",
            "       3250, 3251, 3252, 3253, 3254, 3255, 3256, 3257, 3258, 3259, 3260,\n",
            "       3261, 3262, 3263, 3264, 3265, 3266, 3267, 3268, 3269, 3270, 3271,\n",
            "       3272, 3273, 3274, 3275, 3276, 3277, 3278, 3279, 3280, 3281, 3282,\n",
            "       3283, 3284, 3285, 3286, 3287, 3288, 3289, 3290, 3291, 3292, 3293,\n",
            "       3294, 3295, 3296, 3297, 3298, 3299, 3300, 3301, 3302, 3303, 3304,\n",
            "       3305, 3306, 3307, 3308, 3309, 3310, 3311, 3312, 3313, 3314, 3315,\n",
            "       3316, 3317, 3318, 3319, 3320, 3321, 3322, 3323, 3324, 3325, 3326,\n",
            "       3327, 3328, 3329, 3330, 3331, 3332, 3333, 3334, 3335, 3336, 3337,\n",
            "       3338, 3339, 3340, 3341, 3342, 3343, 3344, 3345, 3346, 3347, 3348,\n",
            "       3349, 3350, 3351, 3352, 3353, 3354, 3355, 3356, 3357, 3358, 3359,\n",
            "       3360, 3361, 3362, 3363, 3364, 3365, 3366, 3367, 3368, 3369, 3370,\n",
            "       3371, 3372, 3373, 3374, 3375, 3376, 3377, 3378, 3379, 3380, 3381,\n",
            "       3382, 3383, 3384, 3385, 3386, 3387, 3388, 3389, 3390, 3391, 3392,\n",
            "       3393, 3394, 3395, 3396, 3397, 3398, 3399, 3400, 3401, 3402, 3403,\n",
            "       3404, 3405, 3406, 3407, 3408, 3409, 3410, 3411, 3412, 3413, 3414,\n",
            "       3415, 3416, 3417, 3418, 3419, 3420, 3421, 3422, 3423, 3424, 3425,\n",
            "       3426, 3427, 3428, 3429, 3430, 3431, 3432, 3433, 3434, 3435, 3436,\n",
            "       3437, 3438, 3439, 3440, 3441, 3442, 3443, 3444, 3445, 3446, 3447,\n",
            "       3448, 3449, 3450, 3451, 3452, 3453, 3454, 3455, 3456, 3457, 3458,\n",
            "       3459, 3460, 3461, 3462, 3463, 3464, 3465, 3466, 3467, 3468, 3469,\n",
            "       3470, 3471, 3472, 3473, 3474, 3475, 3476, 3477, 3478, 3479, 3480,\n",
            "       3481, 3482, 3483, 3484, 3485, 3486, 3487, 3488, 3489, 3490, 3491,\n",
            "       3492, 3493, 3494, 3495, 3496, 3497, 3498, 3499, 3500, 3501, 3502,\n",
            "       3503, 3504, 3505, 3506, 3507, 3508, 3509, 3510, 3511, 3512, 3513,\n",
            "       3514, 3515, 3516, 3517, 3518, 3519, 3520, 3521, 3522, 3523, 3524,\n",
            "       3525, 3526, 3527, 3528, 3529, 3530, 3531, 3532, 3533, 3534, 3535,\n",
            "       3536, 3537, 3538, 3539, 3540, 3541, 3542, 3543, 3544, 3545, 3546,\n",
            "       3547, 3548, 3549, 3550, 3551, 3552, 3553, 3554, 3555, 3556, 3557,\n",
            "       3558, 3559, 3560, 3561, 3562, 3563, 3564, 3565, 3566, 3567, 3568,\n",
            "       3569, 3570, 3571, 3572, 3573, 3574, 3575, 3576, 3577, 3578, 3579,\n",
            "       3580, 3581, 3582, 3583, 3584, 3585, 3586, 3587, 3588, 3589, 3590,\n",
            "       3591, 3592, 3593, 3594, 3595, 3596, 3597, 3598, 3599, 3600, 3601,\n",
            "       3602, 3603, 3604, 3605, 3606, 3607, 3608, 3609, 3610, 3611, 3612,\n",
            "       3613, 3614, 3615, 3616, 3617, 3618, 3619, 3620, 3621, 3622, 3623,\n",
            "       3624, 3625, 3626, 3627, 3628, 3629, 3630, 3631, 3632, 3633, 3634,\n",
            "       3635, 3636, 3637, 3638, 3639, 3640, 3641, 3642, 3643, 3644, 3645,\n",
            "       3646, 3647, 3648, 3649, 3650, 3651, 3652, 3653, 3654, 3655, 3656,\n",
            "       3657, 3658, 3659, 3660, 3661, 3662, 3663, 3664, 3665, 3666, 3667,\n",
            "       3668, 3669, 3670, 3671, 3672, 3673, 3674, 3675, 3676, 3677, 3678,\n",
            "       3679, 3680, 3681, 3682, 3683, 3684, 3685, 3686, 3687, 3688, 3689,\n",
            "       3690, 3691, 3692, 3693, 3694, 3695, 3696, 3697, 3698, 3699, 3700,\n",
            "       3701, 3702, 3703, 3704, 3705, 3706, 3707, 3708, 3709, 3710, 3711,\n",
            "       3712, 3713, 3714, 3715, 3716, 3717, 3718, 3719, 3720, 3721, 3722,\n",
            "       3723, 3724, 3725, 3726, 3727, 3728, 3729, 3730, 3731, 3732, 3733,\n",
            "       3734, 3735, 3736, 3737, 3738, 3739, 3740, 3741, 3742, 3743, 3744]),)\n"
          ]
        }
      ],
      "source": [
        "\n",
        "df_test_value = (df_daily_jumpsup - training_mean) / training_std\n",
        "fig, ax = plt.subplots()\n",
        "df_test_value.plot(legend=False, ax=ax)\n",
        "plt.show()\n",
        "\n",
        "# Create sequences from test values.\n",
        "x_test = create_sequences(df_test_value.values)\n",
        "print(\"Test input shape: \", x_test.shape)\n",
        "\n",
        "# Get test MAE loss.\n",
        "x_test_pred = model.predict(x_test)\n",
        "test_mae_loss = np.mean(np.abs(x_test_pred - x_test), axis=1)\n",
        "test_mae_loss = test_mae_loss.reshape((-1))\n",
        "\n",
        "plt.hist(test_mae_loss, bins=50)\n",
        "plt.xlabel(\"test MAE loss\")\n",
        "plt.ylabel(\"No of samples\")\n",
        "plt.show()\n",
        "\n",
        "# Detect all the samples which are anomalies.\n",
        "anomalies = test_mae_loss > threshold\n",
        "print(\"Number of anomaly samples: \", np.sum(anomalies))\n",
        "print(\"Indices of anomaly samples: \", np.where(anomalies))"
      ]
    },
    {
      "cell_type": "markdown",
      "metadata": {
        "id": "ualalyjjimWa"
      },
      "source": [
        "## Plot anomalies\n",
        "\n",
        "We now know the samples of the data which are anomalies. With this, we will\n",
        "find the corresponding `timestamps` from the original test data. We will be\n",
        "using the following method to do that:\n",
        "\n",
        "Let's say time_steps = 3 and we have 10 training values. Our `x_train` will\n",
        "look like this:\n",
        "\n",
        "- 0, 1, 2\n",
        "- 1, 2, 3\n",
        "- 2, 3, 4\n",
        "- 3, 4, 5\n",
        "- 4, 5, 6\n",
        "- 5, 6, 7\n",
        "- 6, 7, 8\n",
        "- 7, 8, 9\n",
        "\n",
        "All except the initial and the final time_steps-1 data values, will appear in\n",
        "`time_steps` number of samples. So, if we know that the samples\n",
        "[(3, 4, 5), (4, 5, 6), (5, 6, 7)] are anomalies, we can say that the data point\n",
        "5 is an anomaly."
      ]
    },
    {
      "cell_type": "code",
      "execution_count": 314,
      "metadata": {
        "id": "L-_l4C6EimWa"
      },
      "outputs": [],
      "source": [
        "# data i is an anomaly if samples [(i - timesteps + 1) to (i)] are anomalies\n",
        "anomalous_data_indices = []\n",
        "for data_idx in range(TIME_STEPS - 1, len(df_test_value) - TIME_STEPS + 1):\n",
        "    if np.all(anomalies[data_idx - TIME_STEPS + 1 : data_idx]):\n",
        "        anomalous_data_indices.append(data_idx)"
      ]
    },
    {
      "cell_type": "markdown",
      "metadata": {
        "id": "WsvlZdr3imWa"
      },
      "source": [
        "Let's overlay the anomalies on the original test data plot."
      ]
    },
    {
      "cell_type": "code",
      "execution_count": 315,
      "metadata": {
        "id": "EQ1j7IvpimWa",
        "outputId": "916457b2-5f7e-46da-9b16-013c990d6682",
        "colab": {
          "base_uri": "https://localhost:8080/",
          "height": 303
        }
      },
      "outputs": [
        {
          "output_type": "display_data",
          "data": {
            "text/plain": [
              "<Figure size 432x288 with 1 Axes>"
            ],
            "image/png": "[encoded data removed]"
          },
          "metadata": {
            "needs_background": "light"
          }
        }
      ],
      "source": [
        "df_subset = df_daily_jumpsup.iloc[anomalous_data_indices]\n",
        "fig, ax = plt.subplots()\n",
        "df_daily_jumpsup.plot(legend=False, ax=ax)\n",
        "df_subset.plot(legend=False, ax=ax, color=\"r\")\n",
        "plt.show()"
      ]
    },
    {
      "cell_type": "code",
      "source": [
        ""
      ],
      "metadata": {
        "id": "ntyCUwudvjA9"
      },
      "execution_count": 315,
      "outputs": []
    }
  ],
  "metadata": {
    "colab": {
      "collapsed_sections": [],
      "name": "06-03 lunacoin_anomaly_detection",
      "provenance": []
    },
    "kernelspec": {
      "display_name": "Python 3",
      "language": "python",
      "name": "python3"
    },
    "language_info": {
      "codemirror_mode": {
        "name": "ipython",
        "version": 3
      },
      "file_extension": ".py",
      "mimetype": "text/x-python",
      "name": "python",
      "nbconvert_exporter": "python",
      "pygments_lexer": "ipython3",
      "version": "3.7.0"
    }
  },
  "nbformat": 4,
  "nbformat_minor": 0
}