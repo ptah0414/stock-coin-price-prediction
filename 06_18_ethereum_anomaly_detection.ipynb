{
  "cells": [
    {
      "cell_type": "markdown",
      "metadata": {
        "id": "view-in-github",
        "colab_type": "text"
      },
      "source": [
        "<a href=\"https://colab.research.google.com/github/ptah0414/stock-coin-price-prediction/blob/main/06_18_ethereum_anomaly_detection.ipynb\" target=\"_parent\"><img src=\"https://colab.research.google.com/assets/colab-badge.svg\" alt=\"Open In Colab\"/></a>"
      ]
    },
    {
      "cell_type": "markdown",
      "metadata": {
        "id": "Slgc7SsuimWR"
      },
      "source": [
        "# Timeseries anomaly detection using an Autoencoder\n",
        "\n"
      ]
    },
    {
      "cell_type": "markdown",
      "metadata": {
        "id": "ojKTfP8XimWT"
      },
      "source": [
        "## Introduction\n",
        "\n",
        "This script demonstrates how you can use a reconstruction convolutional\n",
        "autoencoder model to detect anomalies in timeseries data."
      ]
    },
    {
      "cell_type": "markdown",
      "metadata": {
        "id": "-v9qte4cspND"
      },
      "source": [
        ""
      ]
    },
    {
      "cell_type": "markdown",
      "metadata": {
        "id": "lMjCCAW9imWT"
      },
      "source": [
        "## Setup"
      ]
    },
    {
      "cell_type": "code",
      "execution_count": null,
      "metadata": {
        "id": "fD27mLsdimWU"
      },
      "outputs": [],
      "source": [
        "import numpy as np\n",
        "import pandas as pd\n",
        "from tensorflow import keras\n",
        "from tensorflow.keras import layers\n",
        "from matplotlib import pyplot as plt"
      ]
    },
    {
      "cell_type": "markdown",
      "metadata": {
        "id": "XC8iz5K_imWU"
      },
      "source": [
        "## Load the data\n"
      ]
    },
    {
      "cell_type": "code",
      "execution_count": null,
      "metadata": {
        "colab": {
          "base_uri": "https://localhost:8080/"
        },
        "id": "OMpudy3tj9OY",
        "outputId": "1991fc3f-9404-40f4-c357-c1aae7f2c97a"
      },
      "outputs": [
        {
          "output_type": "stream",
          "name": "stdout",
          "text": [
            "Looking in indexes: https://pypi.org/simple, https://us-python.pkg.dev/colab-wheels/public/simple/\n",
            "Collecting pyupbit\n",
            "  Downloading pyupbit-0.2.31-py3-none-any.whl (24 kB)\n",
            "Requirement already satisfied: pandas in /usr/local/lib/python3.7/dist-packages (from pyupbit) (1.3.5)\n",
            "Collecting pyjwt>=2.0.0\n",
            "  Downloading PyJWT-2.4.0-py3-none-any.whl (18 kB)\n",
            "Requirement already satisfied: requests in /usr/local/lib/python3.7/dist-packages (from pyupbit) (2.23.0)\n",
            "Collecting websockets\n",
            "  Downloading websockets-10.3-cp37-cp37m-manylinux_2_5_x86_64.manylinux1_x86_64.manylinux_2_12_x86_64.manylinux2010_x86_64.whl (112 kB)\n",
            "\u001b[K     |████████████████████████████████| 112 kB 8.4 MB/s \n",
            "\u001b[?25hRequirement already satisfied: python-dateutil>=2.7.3 in /usr/local/lib/python3.7/dist-packages (from pandas->pyupbit) (2.8.2)\n",
            "Requirement already satisfied: pytz>=2017.3 in /usr/local/lib/python3.7/dist-packages (from pandas->pyupbit) (2022.1)\n",
            "Requirement already satisfied: numpy>=1.17.3 in /usr/local/lib/python3.7/dist-packages (from pandas->pyupbit) (1.21.6)\n",
            "Requirement already satisfied: six>=1.5 in /usr/local/lib/python3.7/dist-packages (from python-dateutil>=2.7.3->pandas->pyupbit) (1.15.0)\n",
            "Requirement already satisfied: urllib3!=1.25.0,!=1.25.1,<1.26,>=1.21.1 in /usr/local/lib/python3.7/dist-packages (from requests->pyupbit) (1.24.3)\n",
            "Requirement already satisfied: idna<3,>=2.5 in /usr/local/lib/python3.7/dist-packages (from requests->pyupbit) (2.10)\n",
            "Requirement already satisfied: chardet<4,>=3.0.2 in /usr/local/lib/python3.7/dist-packages (from requests->pyupbit) (3.0.4)\n",
            "Requirement already satisfied: certifi>=2017.4.17 in /usr/local/lib/python3.7/dist-packages (from requests->pyupbit) (2022.6.15)\n",
            "Installing collected packages: websockets, pyjwt, pyupbit\n",
            "Successfully installed pyjwt-2.4.0 pyupbit-0.2.31 websockets-10.3\n"
          ]
        }
      ],
      "source": [
        "# !pip install pyupbit"
      ]
    },
    {
      "cell_type": "code",
      "execution_count": null,
      "metadata": {
        "id": "N6KxDKYOlZNs"
      },
      "outputs": [],
      "source": [
        "import pyupbit"
      ]
    },
    {
      "cell_type": "code",
      "execution_count": null,
      "metadata": {
        "id": "CyxlQ0yK1m6u"
      },
      "outputs": [],
      "source": [
        ""
      ]
    },
    {
      "cell_type": "code",
      "execution_count": null,
      "metadata": {
        "id": "qcKo77Dt-tSu"
      },
      "outputs": [],
      "source": [
        "# day/minute1/minute3/minute5/minute10/minute15/minute30/minute60/minute240/week/month\n",
        "interval_upbit = \"minute5\"\n",
        "\n",
        "unit = 288 # 하루에 몇 개\n",
        "train_period = 160\n",
        "test_period = 40"
      ]
    },
    {
      "cell_type": "code",
      "execution_count": null,
      "metadata": {
        "id": "N3dpd1J11mof"
      },
      "outputs": [],
      "source": [
        "ticker = \"KRW-ETH\"\n",
        "df = pyupbit.get_ohlcv(ticker, interval=interval_upbit, count=unit*(train_period+test_period))"
      ]
    },
    {
      "cell_type": "code",
      "execution_count": null,
      "metadata": {
        "id": "HRaOZDZ_O3Ol"
      },
      "outputs": [],
      "source": [
        "df_plot = df[-unit*test_period:]\n",
        "# df_plot[\"close\"].plot()"
      ]
    },
    {
      "cell_type": "code",
      "execution_count": null,
      "metadata": {
        "colab": {
          "base_uri": "https://localhost:8080/",
          "height": 419
        },
        "id": "rQsYeGoJ2KqG",
        "outputId": "b3d49b3a-8975-4ad1-f437-6b16353c0ce0"
      },
      "outputs": [
        {
          "output_type": "execute_result",
          "data": {
            "text/plain": [
              "                     close_chg\n",
              "2021-11-30 03:30:00   0.090449\n",
              "2021-11-30 03:35:00   0.090449\n",
              "2021-11-30 03:40:00  -0.072294\n",
              "2021-11-30 03:45:00  -0.036173\n",
              "2021-11-30 03:50:00  -0.090465\n",
              "...                        ...\n",
              "2022-06-18 10:45:00   0.317237\n",
              "2022-06-18 10:50:00   0.140548\n",
              "2022-06-18 10:55:00  -0.245614\n",
              "2022-06-18 11:00:00  -0.246219\n",
              "2022-06-18 11:05:00   0.141044\n",
              "\n",
              "[57600 rows x 1 columns]"
            ],
            "text/html": [
              "\n",
              "  <div id=\"df-6e262b22-a75e-4336-8b5f-e9dbacae6c21\">\n",
              "    <div class=\"colab-df-container\">\n",
              "      <div>\n",
              "<style scoped>\n",
              "    .dataframe tbody tr th:only-of-type {\n",
              "        vertical-align: middle;\n",
              "    }\n",
              "\n",
              "    .dataframe tbody tr th {\n",
              "        vertical-align: top;\n",
              "    }\n",
              "\n",
              "    .dataframe thead th {\n",
              "        text-align: right;\n",
              "    }\n",
              "</style>\n",
              "<table border=\"1\" class=\"dataframe\">\n",
              "  <thead>\n",
              "    <tr style=\"text-align: right;\">\n",
              "      <th></th>\n",
              "      <th>close_chg</th>\n",
              "    </tr>\n",
              "  </thead>\n",
              "  <tbody>\n",
              "    <tr>\n",
              "      <th>2021-11-30 03:30:00</th>\n",
              "      <td>0.090449</td>\n",
              "    </tr>\n",
              "    <tr>\n",
              "      <th>2021-11-30 03:35:00</th>\n",
              "      <td>0.090449</td>\n",
              "    </tr>\n",
              "    <tr>\n",
              "      <th>2021-11-30 03:40:00</th>\n",
              "      <td>-0.072294</td>\n",
              "    </tr>\n",
              "    <tr>\n",
              "      <th>2021-11-30 03:45:00</th>\n",
              "      <td>-0.036173</td>\n",
              "    </tr>\n",
              "    <tr>\n",
              "      <th>2021-11-30 03:50:00</th>\n",
              "      <td>-0.090465</td>\n",
              "    </tr>\n",
              "    <tr>\n",
              "      <th>...</th>\n",
              "      <td>...</td>\n",
              "    </tr>\n",
              "    <tr>\n",
              "      <th>2022-06-18 10:45:00</th>\n",
              "      <td>0.317237</td>\n",
              "    </tr>\n",
              "    <tr>\n",
              "      <th>2022-06-18 10:50:00</th>\n",
              "      <td>0.140548</td>\n",
              "    </tr>\n",
              "    <tr>\n",
              "      <th>2022-06-18 10:55:00</th>\n",
              "      <td>-0.245614</td>\n",
              "    </tr>\n",
              "    <tr>\n",
              "      <th>2022-06-18 11:00:00</th>\n",
              "      <td>-0.246219</td>\n",
              "    </tr>\n",
              "    <tr>\n",
              "      <th>2022-06-18 11:05:00</th>\n",
              "      <td>0.141044</td>\n",
              "    </tr>\n",
              "  </tbody>\n",
              "</table>\n",
              "<p>57600 rows × 1 columns</p>\n",
              "</div>\n",
              "      <button class=\"colab-df-convert\" onclick=\"convertToInteractive('df-6e262b22-a75e-4336-8b5f-e9dbacae6c21')\"\n",
              "              title=\"Convert this dataframe to an interactive table.\"\n",
              "              style=\"display:none;\">\n",
              "        \n",
              "  <svg xmlns=\"http://www.w3.org/2000/svg\" height=\"24px\"viewBox=\"0 0 24 24\"\n",
              "       width=\"24px\">\n",
              "    <path d=\"M0 0h24v24H0V0z\" fill=\"none\"/>\n",
              "    <path d=\"M18.56 5.44l.94 2.06.94-2.06 2.06-.94-2.06-.94-.94-2.06-.94 2.06-2.06.94zm-11 1L8.5 8.5l.94-2.06 2.06-.94-2.06-.94L8.5 2.5l-.94 2.06-2.06.94zm10 10l.94 2.06.94-2.06 2.06-.94-2.06-.94-.94-2.06-.94 2.06-2.06.94z\"/><path d=\"M17.41 7.96l-1.37-1.37c-.4-.4-.92-.59-1.43-.59-.52 0-1.04.2-1.43.59L10.3 9.45l-7.72 7.72c-.78.78-.78 2.05 0 2.83L4 21.41c.39.39.9.59 1.41.59.51 0 1.02-.2 1.41-.59l7.78-7.78 2.81-2.81c.8-.78.8-2.07 0-2.86zM5.41 20L4 18.59l7.72-7.72 1.47 1.35L5.41 20z\"/>\n",
              "  </svg>\n",
              "      </button>\n",
              "      \n",
              "  <style>\n",
              "    .colab-df-container {\n",
              "      display:flex;\n",
              "      flex-wrap:wrap;\n",
              "      gap: 12px;\n",
              "    }\n",
              "\n",
              "    .colab-df-convert {\n",
              "      background-color: #E8F0FE;\n",
              "      border: none;\n",
              "      border-radius: 50%;\n",
              "      cursor: pointer;\n",
              "      display: none;\n",
              "      fill: #1967D2;\n",
              "      height: 32px;\n",
              "      padding: 0 0 0 0;\n",
              "      width: 32px;\n",
              "    }\n",
              "\n",
              "    .colab-df-convert:hover {\n",
              "      background-color: #E2EBFA;\n",
              "      box-shadow: 0px 1px 2px rgba(60, 64, 67, 0.3), 0px 1px 3px 1px rgba(60, 64, 67, 0.15);\n",
              "      fill: #174EA6;\n",
              "    }\n",
              "\n",
              "    [theme=dark] .colab-df-convert {\n",
              "      background-color: #3B4455;\n",
              "      fill: #D2E3FC;\n",
              "    }\n",
              "\n",
              "    [theme=dark] .colab-df-convert:hover {\n",
              "      background-color: #434B5C;\n",
              "      box-shadow: 0px 1px 3px 1px rgba(0, 0, 0, 0.15);\n",
              "      filter: drop-shadow(0px 1px 2px rgba(0, 0, 0, 0.3));\n",
              "      fill: #FFFFFF;\n",
              "    }\n",
              "  </style>\n",
              "\n",
              "      <script>\n",
              "        const buttonEl =\n",
              "          document.querySelector('#df-6e262b22-a75e-4336-8b5f-e9dbacae6c21 button.colab-df-convert');\n",
              "        buttonEl.style.display =\n",
              "          google.colab.kernel.accessAllowed ? 'block' : 'none';\n",
              "\n",
              "        async function convertToInteractive(key) {\n",
              "          const element = document.querySelector('#df-6e262b22-a75e-4336-8b5f-e9dbacae6c21');\n",
              "          const dataTable =\n",
              "            await google.colab.kernel.invokeFunction('convertToInteractive',\n",
              "                                                     [key], {});\n",
              "          if (!dataTable) return;\n",
              "\n",
              "          const docLinkHtml = 'Like what you see? Visit the ' +\n",
              "            '<a target=\"_blank\" href=https://colab.research.google.com/notebooks/data_table.ipynb>data table notebook</a>'\n",
              "            + ' to learn more about interactive tables.';\n",
              "          element.innerHTML = '';\n",
              "          dataTable['output_type'] = 'display_data';\n",
              "          await google.colab.output.renderOutput(dataTable, element);\n",
              "          const docLink = document.createElement('div');\n",
              "          docLink.innerHTML = docLinkHtml;\n",
              "          element.appendChild(docLink);\n",
              "        }\n",
              "      </script>\n",
              "    </div>\n",
              "  </div>\n",
              "  "
            ]
          },
          "metadata": {},
          "execution_count": 10
        }
      ],
      "source": [
        "df[\"close_chg\"] = (df[\"close\"] - df[\"close\"].shift(1)) / df[\"close\"].shift(1) * 100\n",
        "df = df.fillna(method = \"bfill\")\n",
        "df = df[[\"close_chg\"]]\n",
        "df"
      ]
    },
    {
      "cell_type": "code",
      "execution_count": null,
      "metadata": {
        "id": "Qn2n_h2qLCg8"
      },
      "outputs": [],
      "source": [
        "df_small_noise = df[:unit*train_period]\n",
        "df_daily_jumpsup = df[-unit*test_period:]"
      ]
    },
    {
      "cell_type": "code",
      "execution_count": null,
      "metadata": {
        "colab": {
          "base_uri": "https://localhost:8080/",
          "height": 419
        },
        "id": "IjK5xylzM03H",
        "outputId": "bfe78de7-1f93-48e3-d709-f2f6d5ee0473"
      },
      "outputs": [
        {
          "output_type": "execute_result",
          "data": {
            "text/plain": [
              "                     close_chg\n",
              "2021-11-30 03:30:00   0.090449\n",
              "2021-11-30 03:35:00   0.090449\n",
              "2021-11-30 03:40:00  -0.072294\n",
              "2021-11-30 03:45:00  -0.036173\n",
              "2021-11-30 03:50:00  -0.090465\n",
              "...                        ...\n",
              "2022-05-09 08:55:00   0.302939\n",
              "2022-05-09 09:00:00   0.000000\n",
              "2022-05-09 09:05:00   0.090607\n",
              "2022-05-09 09:10:00  -0.030175\n",
              "2022-05-09 09:15:00  -0.211289\n",
              "\n",
              "[46080 rows x 1 columns]"
            ],
            "text/html": [
              "\n",
              "  <div id=\"df-7e13762f-b3f2-4cbc-9637-e570295fb980\">\n",
              "    <div class=\"colab-df-container\">\n",
              "      <div>\n",
              "<style scoped>\n",
              "    .dataframe tbody tr th:only-of-type {\n",
              "        vertical-align: middle;\n",
              "    }\n",
              "\n",
              "    .dataframe tbody tr th {\n",
              "        vertical-align: top;\n",
              "    }\n",
              "\n",
              "    .dataframe thead th {\n",
              "        text-align: right;\n",
              "    }\n",
              "</style>\n",
              "<table border=\"1\" class=\"dataframe\">\n",
              "  <thead>\n",
              "    <tr style=\"text-align: right;\">\n",
              "      <th></th>\n",
              "      <th>close_chg</th>\n",
              "    </tr>\n",
              "  </thead>\n",
              "  <tbody>\n",
              "    <tr>\n",
              "      <th>2021-11-30 03:30:00</th>\n",
              "      <td>0.090449</td>\n",
              "    </tr>\n",
              "    <tr>\n",
              "      <th>2021-11-30 03:35:00</th>\n",
              "      <td>0.090449</td>\n",
              "    </tr>\n",
              "    <tr>\n",
              "      <th>2021-11-30 03:40:00</th>\n",
              "      <td>-0.072294</td>\n",
              "    </tr>\n",
              "    <tr>\n",
              "      <th>2021-11-30 03:45:00</th>\n",
              "      <td>-0.036173</td>\n",
              "    </tr>\n",
              "    <tr>\n",
              "      <th>2021-11-30 03:50:00</th>\n",
              "      <td>-0.090465</td>\n",
              "    </tr>\n",
              "    <tr>\n",
              "      <th>...</th>\n",
              "      <td>...</td>\n",
              "    </tr>\n",
              "    <tr>\n",
              "      <th>2022-05-09 08:55:00</th>\n",
              "      <td>0.302939</td>\n",
              "    </tr>\n",
              "    <tr>\n",
              "      <th>2022-05-09 09:00:00</th>\n",
              "      <td>0.000000</td>\n",
              "    </tr>\n",
              "    <tr>\n",
              "      <th>2022-05-09 09:05:00</th>\n",
              "      <td>0.090607</td>\n",
              "    </tr>\n",
              "    <tr>\n",
              "      <th>2022-05-09 09:10:00</th>\n",
              "      <td>-0.030175</td>\n",
              "    </tr>\n",
              "    <tr>\n",
              "      <th>2022-05-09 09:15:00</th>\n",
              "      <td>-0.211289</td>\n",
              "    </tr>\n",
              "  </tbody>\n",
              "</table>\n",
              "<p>46080 rows × 1 columns</p>\n",
              "</div>\n",
              "      <button class=\"colab-df-convert\" onclick=\"convertToInteractive('df-7e13762f-b3f2-4cbc-9637-e570295fb980')\"\n",
              "              title=\"Convert this dataframe to an interactive table.\"\n",
              "              style=\"display:none;\">\n",
              "        \n",
              "  <svg xmlns=\"http://www.w3.org/2000/svg\" height=\"24px\"viewBox=\"0 0 24 24\"\n",
              "       width=\"24px\">\n",
              "    <path d=\"M0 0h24v24H0V0z\" fill=\"none\"/>\n",
              "    <path d=\"M18.56 5.44l.94 2.06.94-2.06 2.06-.94-2.06-.94-.94-2.06-.94 2.06-2.06.94zm-11 1L8.5 8.5l.94-2.06 2.06-.94-2.06-.94L8.5 2.5l-.94 2.06-2.06.94zm10 10l.94 2.06.94-2.06 2.06-.94-2.06-.94-.94-2.06-.94 2.06-2.06.94z\"/><path d=\"M17.41 7.96l-1.37-1.37c-.4-.4-.92-.59-1.43-.59-.52 0-1.04.2-1.43.59L10.3 9.45l-7.72 7.72c-.78.78-.78 2.05 0 2.83L4 21.41c.39.39.9.59 1.41.59.51 0 1.02-.2 1.41-.59l7.78-7.78 2.81-2.81c.8-.78.8-2.07 0-2.86zM5.41 20L4 18.59l7.72-7.72 1.47 1.35L5.41 20z\"/>\n",
              "  </svg>\n",
              "      </button>\n",
              "      \n",
              "  <style>\n",
              "    .colab-df-container {\n",
              "      display:flex;\n",
              "      flex-wrap:wrap;\n",
              "      gap: 12px;\n",
              "    }\n",
              "\n",
              "    .colab-df-convert {\n",
              "      background-color: #E8F0FE;\n",
              "      border: none;\n",
              "      border-radius: 50%;\n",
              "      cursor: pointer;\n",
              "      display: none;\n",
              "      fill: #1967D2;\n",
              "      height: 32px;\n",
              "      padding: 0 0 0 0;\n",
              "      width: 32px;\n",
              "    }\n",
              "\n",
              "    .colab-df-convert:hover {\n",
              "      background-color: #E2EBFA;\n",
              "      box-shadow: 0px 1px 2px rgba(60, 64, 67, 0.3), 0px 1px 3px 1px rgba(60, 64, 67, 0.15);\n",
              "      fill: #174EA6;\n",
              "    }\n",
              "\n",
              "    [theme=dark] .colab-df-convert {\n",
              "      background-color: #3B4455;\n",
              "      fill: #D2E3FC;\n",
              "    }\n",
              "\n",
              "    [theme=dark] .colab-df-convert:hover {\n",
              "      background-color: #434B5C;\n",
              "      box-shadow: 0px 1px 3px 1px rgba(0, 0, 0, 0.15);\n",
              "      filter: drop-shadow(0px 1px 2px rgba(0, 0, 0, 0.3));\n",
              "      fill: #FFFFFF;\n",
              "    }\n",
              "  </style>\n",
              "\n",
              "      <script>\n",
              "        const buttonEl =\n",
              "          document.querySelector('#df-7e13762f-b3f2-4cbc-9637-e570295fb980 button.colab-df-convert');\n",
              "        buttonEl.style.display =\n",
              "          google.colab.kernel.accessAllowed ? 'block' : 'none';\n",
              "\n",
              "        async function convertToInteractive(key) {\n",
              "          const element = document.querySelector('#df-7e13762f-b3f2-4cbc-9637-e570295fb980');\n",
              "          const dataTable =\n",
              "            await google.colab.kernel.invokeFunction('convertToInteractive',\n",
              "                                                     [key], {});\n",
              "          if (!dataTable) return;\n",
              "\n",
              "          const docLinkHtml = 'Like what you see? Visit the ' +\n",
              "            '<a target=\"_blank\" href=https://colab.research.google.com/notebooks/data_table.ipynb>data table notebook</a>'\n",
              "            + ' to learn more about interactive tables.';\n",
              "          element.innerHTML = '';\n",
              "          dataTable['output_type'] = 'display_data';\n",
              "          await google.colab.output.renderOutput(dataTable, element);\n",
              "          const docLink = document.createElement('div');\n",
              "          docLink.innerHTML = docLinkHtml;\n",
              "          element.appendChild(docLink);\n",
              "        }\n",
              "      </script>\n",
              "    </div>\n",
              "  </div>\n",
              "  "
            ]
          },
          "metadata": {},
          "execution_count": 12
        }
      ],
      "source": [
        "df_small_noise"
      ]
    },
    {
      "cell_type": "code",
      "execution_count": null,
      "metadata": {
        "colab": {
          "base_uri": "https://localhost:8080/",
          "height": 419
        },
        "id": "6vGS050XM3it",
        "outputId": "ad084c43-f8eb-4e32-c4b4-7c0b676083cc"
      },
      "outputs": [
        {
          "output_type": "execute_result",
          "data": {
            "text/plain": [
              "                     close_chg\n",
              "2022-05-09 09:20:00   0.302480\n",
              "2022-05-09 09:25:00   0.180941\n",
              "2022-05-09 09:30:00  -0.030102\n",
              "2022-05-09 09:35:00   0.120446\n",
              "2022-05-09 09:40:00   0.060150\n",
              "...                        ...\n",
              "2022-06-18 10:45:00   0.317237\n",
              "2022-06-18 10:50:00   0.140548\n",
              "2022-06-18 10:55:00  -0.245614\n",
              "2022-06-18 11:00:00  -0.246219\n",
              "2022-06-18 11:05:00   0.141044\n",
              "\n",
              "[11520 rows x 1 columns]"
            ],
            "text/html": [
              "\n",
              "  <div id=\"df-243d81fa-fa5f-41b9-88f7-c13de3da049b\">\n",
              "    <div class=\"colab-df-container\">\n",
              "      <div>\n",
              "<style scoped>\n",
              "    .dataframe tbody tr th:only-of-type {\n",
              "        vertical-align: middle;\n",
              "    }\n",
              "\n",
              "    .dataframe tbody tr th {\n",
              "        vertical-align: top;\n",
              "    }\n",
              "\n",
              "    .dataframe thead th {\n",
              "        text-align: right;\n",
              "    }\n",
              "</style>\n",
              "<table border=\"1\" class=\"dataframe\">\n",
              "  <thead>\n",
              "    <tr style=\"text-align: right;\">\n",
              "      <th></th>\n",
              "      <th>close_chg</th>\n",
              "    </tr>\n",
              "  </thead>\n",
              "  <tbody>\n",
              "    <tr>\n",
              "      <th>2022-05-09 09:20:00</th>\n",
              "      <td>0.302480</td>\n",
              "    </tr>\n",
              "    <tr>\n",
              "      <th>2022-05-09 09:25:00</th>\n",
              "      <td>0.180941</td>\n",
              "    </tr>\n",
              "    <tr>\n",
              "      <th>2022-05-09 09:30:00</th>\n",
              "      <td>-0.030102</td>\n",
              "    </tr>\n",
              "    <tr>\n",
              "      <th>2022-05-09 09:35:00</th>\n",
              "      <td>0.120446</td>\n",
              "    </tr>\n",
              "    <tr>\n",
              "      <th>2022-05-09 09:40:00</th>\n",
              "      <td>0.060150</td>\n",
              "    </tr>\n",
              "    <tr>\n",
              "      <th>...</th>\n",
              "      <td>...</td>\n",
              "    </tr>\n",
              "    <tr>\n",
              "      <th>2022-06-18 10:45:00</th>\n",
              "      <td>0.317237</td>\n",
              "    </tr>\n",
              "    <tr>\n",
              "      <th>2022-06-18 10:50:00</th>\n",
              "      <td>0.140548</td>\n",
              "    </tr>\n",
              "    <tr>\n",
              "      <th>2022-06-18 10:55:00</th>\n",
              "      <td>-0.245614</td>\n",
              "    </tr>\n",
              "    <tr>\n",
              "      <th>2022-06-18 11:00:00</th>\n",
              "      <td>-0.246219</td>\n",
              "    </tr>\n",
              "    <tr>\n",
              "      <th>2022-06-18 11:05:00</th>\n",
              "      <td>0.141044</td>\n",
              "    </tr>\n",
              "  </tbody>\n",
              "</table>\n",
              "<p>11520 rows × 1 columns</p>\n",
              "</div>\n",
              "      <button class=\"colab-df-convert\" onclick=\"convertToInteractive('df-243d81fa-fa5f-41b9-88f7-c13de3da049b')\"\n",
              "              title=\"Convert this dataframe to an interactive table.\"\n",
              "              style=\"display:none;\">\n",
              "        \n",
              "  <svg xmlns=\"http://www.w3.org/2000/svg\" height=\"24px\"viewBox=\"0 0 24 24\"\n",
              "       width=\"24px\">\n",
              "    <path d=\"M0 0h24v24H0V0z\" fill=\"none\"/>\n",
              "    <path d=\"M18.56 5.44l.94 2.06.94-2.06 2.06-.94-2.06-.94-.94-2.06-.94 2.06-2.06.94zm-11 1L8.5 8.5l.94-2.06 2.06-.94-2.06-.94L8.5 2.5l-.94 2.06-2.06.94zm10 10l.94 2.06.94-2.06 2.06-.94-2.06-.94-.94-2.06-.94 2.06-2.06.94z\"/><path d=\"M17.41 7.96l-1.37-1.37c-.4-.4-.92-.59-1.43-.59-.52 0-1.04.2-1.43.59L10.3 9.45l-7.72 7.72c-.78.78-.78 2.05 0 2.83L4 21.41c.39.39.9.59 1.41.59.51 0 1.02-.2 1.41-.59l7.78-7.78 2.81-2.81c.8-.78.8-2.07 0-2.86zM5.41 20L4 18.59l7.72-7.72 1.47 1.35L5.41 20z\"/>\n",
              "  </svg>\n",
              "      </button>\n",
              "      \n",
              "  <style>\n",
              "    .colab-df-container {\n",
              "      display:flex;\n",
              "      flex-wrap:wrap;\n",
              "      gap: 12px;\n",
              "    }\n",
              "\n",
              "    .colab-df-convert {\n",
              "      background-color: #E8F0FE;\n",
              "      border: none;\n",
              "      border-radius: 50%;\n",
              "      cursor: pointer;\n",
              "      display: none;\n",
              "      fill: #1967D2;\n",
              "      height: 32px;\n",
              "      padding: 0 0 0 0;\n",
              "      width: 32px;\n",
              "    }\n",
              "\n",
              "    .colab-df-convert:hover {\n",
              "      background-color: #E2EBFA;\n",
              "      box-shadow: 0px 1px 2px rgba(60, 64, 67, 0.3), 0px 1px 3px 1px rgba(60, 64, 67, 0.15);\n",
              "      fill: #174EA6;\n",
              "    }\n",
              "\n",
              "    [theme=dark] .colab-df-convert {\n",
              "      background-color: #3B4455;\n",
              "      fill: #D2E3FC;\n",
              "    }\n",
              "\n",
              "    [theme=dark] .colab-df-convert:hover {\n",
              "      background-color: #434B5C;\n",
              "      box-shadow: 0px 1px 3px 1px rgba(0, 0, 0, 0.15);\n",
              "      filter: drop-shadow(0px 1px 2px rgba(0, 0, 0, 0.3));\n",
              "      fill: #FFFFFF;\n",
              "    }\n",
              "  </style>\n",
              "\n",
              "      <script>\n",
              "        const buttonEl =\n",
              "          document.querySelector('#df-243d81fa-fa5f-41b9-88f7-c13de3da049b button.colab-df-convert');\n",
              "        buttonEl.style.display =\n",
              "          google.colab.kernel.accessAllowed ? 'block' : 'none';\n",
              "\n",
              "        async function convertToInteractive(key) {\n",
              "          const element = document.querySelector('#df-243d81fa-fa5f-41b9-88f7-c13de3da049b');\n",
              "          const dataTable =\n",
              "            await google.colab.kernel.invokeFunction('convertToInteractive',\n",
              "                                                     [key], {});\n",
              "          if (!dataTable) return;\n",
              "\n",
              "          const docLinkHtml = 'Like what you see? Visit the ' +\n",
              "            '<a target=\"_blank\" href=https://colab.research.google.com/notebooks/data_table.ipynb>data table notebook</a>'\n",
              "            + ' to learn more about interactive tables.';\n",
              "          element.innerHTML = '';\n",
              "          dataTable['output_type'] = 'display_data';\n",
              "          await google.colab.output.renderOutput(dataTable, element);\n",
              "          const docLink = document.createElement('div');\n",
              "          docLink.innerHTML = docLinkHtml;\n",
              "          element.appendChild(docLink);\n",
              "        }\n",
              "      </script>\n",
              "    </div>\n",
              "  </div>\n",
              "  "
            ]
          },
          "metadata": {},
          "execution_count": 13
        }
      ],
      "source": [
        "df_daily_jumpsup"
      ]
    },
    {
      "cell_type": "markdown",
      "metadata": {
        "id": "D_gY8FYeimWV"
      },
      "source": [
        "## Quick look at the data"
      ]
    },
    {
      "cell_type": "markdown",
      "metadata": {
        "id": "JPoqP6G7imWV"
      },
      "source": [
        "## Visualize the data\n",
        "### Timeseries data without anomalies\n",
        "\n",
        "We will use the following data for training."
      ]
    },
    {
      "cell_type": "code",
      "execution_count": null,
      "metadata": {
        "id": "TnwjN8bFimWW"
      },
      "outputs": [],
      "source": [
        "# # 정상 데이터\n",
        "# fig, ax = plt.subplots()\n",
        "# df_small_noise.plot(legend=False, ax=ax)\n",
        "# plt.show()"
      ]
    },
    {
      "cell_type": "markdown",
      "metadata": {
        "id": "u29gF6mbimWW"
      },
      "source": [
        "### Timeseries data with anomalies\n",
        "\n",
        "We will use the following data for testing and see if the sudden jump up in the\n",
        "data is detected as an anomaly."
      ]
    },
    {
      "cell_type": "code",
      "execution_count": null,
      "metadata": {
        "id": "Qd3FbCBkimWW"
      },
      "outputs": [],
      "source": [
        "# # 테스트 데이터\n",
        "# fig, ax = plt.subplots()\n",
        "# df_daily_jumpsup.plot(legend=False, ax=ax)\n",
        "# plt.show()"
      ]
    },
    {
      "cell_type": "markdown",
      "metadata": {
        "id": "Iiqmqe6MrTSX"
      },
      "source": [
        "##정상 데이터(주황) & 테스트 데이터(파랑)"
      ]
    },
    {
      "cell_type": "code",
      "execution_count": null,
      "metadata": {
        "id": "-CdQLU8QrElu"
      },
      "outputs": [],
      "source": [
        "# fig, ax = plt.subplots()\n",
        "# df_daily_jumpsup.plot(legend=False, ax=ax)\n",
        "# df_small_noise.plot(legend=False, ax=ax)\n",
        "# plt.ylim([-50, 50])\n",
        "# plt.show()"
      ]
    },
    {
      "cell_type": "markdown",
      "metadata": {
        "id": "Zvy-xgMiimWW"
      },
      "source": [
        "## Prepare training data\n",
        "\n",
        "Get data values from the training timeseries data file and normalize the\n",
        "`value` data. We have a `value` for every 5 mins for 14 days.\n",
        "\n",
        "-   24 * 60 / 5 = **288 timesteps per day**\n",
        "-   288 * 14 = **4032 data points** in total"
      ]
    },
    {
      "cell_type": "code",
      "execution_count": null,
      "metadata": {
        "id": "3GhKtZd1Ju89"
      },
      "outputs": [],
      "source": [
        "# df_small_noise = df"
      ]
    },
    {
      "cell_type": "code",
      "execution_count": null,
      "metadata": {
        "colab": {
          "base_uri": "https://localhost:8080/"
        },
        "id": "eazG2zQzimWX",
        "outputId": "42b250c9-82e4-490e-991e-36ad27e37b3b"
      },
      "outputs": [
        {
          "output_type": "stream",
          "name": "stdout",
          "text": [
            "Number of training samples: 46080\n"
          ]
        }
      ],
      "source": [
        "# Normalize and save the mean and std we get,\n",
        "# for normalizing test data.\n",
        "training_mean = df_small_noise.mean()\n",
        "training_std = df_small_noise.std()\n",
        "df_training_value = (df_small_noise - training_mean) / training_std\n",
        "print(\"Number of training samples:\", len(df_training_value))"
      ]
    },
    {
      "cell_type": "markdown",
      "metadata": {
        "id": "Hyd339b9imWX"
      },
      "source": [
        "### Create sequences\n",
        "Create sequences combining `TIME_STEPS` contiguous data values from the\n",
        "training data."
      ]
    },
    {
      "cell_type": "code",
      "execution_count": null,
      "metadata": {
        "colab": {
          "base_uri": "https://localhost:8080/"
        },
        "id": "EILejBUAimWX",
        "outputId": "c7a50af6-e28f-4a9f-8385-e5a124bb0cf7"
      },
      "outputs": [
        {
          "output_type": "stream",
          "name": "stdout",
          "text": [
            "Training input shape:  (45793, 288, 1)\n"
          ]
        }
      ],
      "source": [
        "TIME_STEPS = unit\n",
        "\n",
        "# Generated training sequences for use in the model.\n",
        "def create_sequences(values, time_steps=TIME_STEPS):\n",
        "    output = []\n",
        "    for i in range(len(values) - time_steps + 1):\n",
        "        output.append(values[i : (i + time_steps)])\n",
        "    return np.stack(output)\n",
        "\n",
        "\n",
        "x_train = create_sequences(df_training_value.values)\n",
        "print(\"Training input shape: \", x_train.shape)"
      ]
    },
    {
      "cell_type": "markdown",
      "metadata": {
        "id": "6TtL0swsimWX"
      },
      "source": [
        "## Build a model\n",
        "\n",
        "We will build a convolutional reconstruction autoencoder model. The model will\n",
        "take input of shape `(batch_size, sequence_length, num_features)` and return\n",
        "output of the same shape. In this case, `sequence_length` is 288 and\n",
        "`num_features` is 1."
      ]
    },
    {
      "cell_type": "code",
      "execution_count": null,
      "metadata": {
        "colab": {
          "base_uri": "https://localhost:8080/"
        },
        "id": "XXmWGSjximWY",
        "outputId": "8aa03f43-ae2a-4142-8fb5-b1d48f710792"
      },
      "outputs": [
        {
          "output_type": "stream",
          "name": "stdout",
          "text": [
            "Model: \"sequential\"\n",
            "_________________________________________________________________\n",
            " Layer (type)                Output Shape              Param #   \n",
            "=================================================================\n",
            " conv1d (Conv1D)             (None, 144, 32)           256       \n",
            "                                                                 \n",
            " dropout (Dropout)           (None, 144, 32)           0         \n",
            "                                                                 \n",
            " conv1d_1 (Conv1D)           (None, 72, 16)            3600      \n",
            "                                                                 \n",
            " conv1d_transpose (Conv1DTra  (None, 144, 16)          1808      \n",
            " nspose)                                                         \n",
            "                                                                 \n",
            " dropout_1 (Dropout)         (None, 144, 16)           0         \n",
            "                                                                 \n",
            " conv1d_transpose_1 (Conv1DT  (None, 288, 32)          3616      \n",
            " ranspose)                                                       \n",
            "                                                                 \n",
            " conv1d_transpose_2 (Conv1DT  (None, 288, 1)           225       \n",
            " ranspose)                                                       \n",
            "                                                                 \n",
            "=================================================================\n",
            "Total params: 9,505\n",
            "Trainable params: 9,505\n",
            "Non-trainable params: 0\n",
            "_________________________________________________________________\n"
          ]
        }
      ],
      "source": [
        "model = keras.Sequential(\n",
        "    [\n",
        "        layers.Input(shape=(x_train.shape[1], x_train.shape[2])),\n",
        "        layers.Conv1D(\n",
        "            filters=32, kernel_size=7, padding=\"same\", strides=2, activation=\"relu\"\n",
        "        ),\n",
        "        layers.Dropout(rate=0.2),\n",
        "        layers.Conv1D(\n",
        "            filters=16, kernel_size=7, padding=\"same\", strides=2, activation=\"relu\"\n",
        "        ),\n",
        "        layers.Conv1DTranspose(\n",
        "            filters=16, kernel_size=7, padding=\"same\", strides=2, activation=\"relu\"\n",
        "        ),\n",
        "        layers.Dropout(rate=0.2),\n",
        "        layers.Conv1DTranspose(\n",
        "            filters=32, kernel_size=7, padding=\"same\", strides=2, activation=\"relu\"\n",
        "        ),\n",
        "        layers.Conv1DTranspose(filters=1, kernel_size=7, padding=\"same\"),\n",
        "    ]\n",
        ")\n",
        "model.compile(optimizer=keras.optimizers.Adam(learning_rate=0.001), loss=\"mse\")\n",
        "model.summary()"
      ]
    },
    {
      "cell_type": "markdown",
      "metadata": {
        "id": "-4obxtQiimWY"
      },
      "source": [
        "## Train the model\n",
        "\n",
        "Please note that we are using `x_train` as both the input and the target\n",
        "since this is a reconstruction model."
      ]
    },
    {
      "cell_type": "code",
      "execution_count": null,
      "metadata": {
        "colab": {
          "base_uri": "https://localhost:8080/"
        },
        "id": "runHIqWximWY",
        "outputId": "1956d86c-7008-4149-b226-f0d02c59cc6e"
      },
      "outputs": [
        {
          "output_type": "stream",
          "name": "stdout",
          "text": [
            "Epoch 1/50\n",
            "322/322 [==============================] - 39s 116ms/step - loss: 0.2211 - val_loss: 0.0133\n",
            "Epoch 2/50\n",
            "322/322 [==============================] - 27s 83ms/step - loss: 0.1006 - val_loss: 0.0155\n",
            "Epoch 3/50\n",
            "322/322 [==============================] - 27s 83ms/step - loss: 0.0747 - val_loss: 0.0241\n",
            "Epoch 4/50\n",
            "322/322 [==============================] - 27s 84ms/step - loss: 0.0570 - val_loss: 0.0305\n",
            "Epoch 5/50\n",
            "322/322 [==============================] - 27s 84ms/step - loss: 0.0497 - val_loss: 0.0292\n",
            "Epoch 6/50\n",
            "322/322 [==============================] - 27s 84ms/step - loss: 0.0457 - val_loss: 0.0295\n"
          ]
        }
      ],
      "source": [
        "history = model.fit(\n",
        "    x_train,\n",
        "    x_train,\n",
        "    epochs=50,\n",
        "    batch_size=128,\n",
        "    validation_split=0.1,\n",
        "    callbacks=[\n",
        "        keras.callbacks.EarlyStopping(monitor=\"val_loss\", patience=5, mode=\"min\")\n",
        "    ],\n",
        ")"
      ]
    },
    {
      "cell_type": "markdown",
      "metadata": {
        "id": "8EctiKVeimWY"
      },
      "source": [
        "Let's plot training and validation loss to see how the training went."
      ]
    },
    {
      "cell_type": "code",
      "execution_count": null,
      "metadata": {
        "id": "VCKsZDTZimWZ"
      },
      "outputs": [],
      "source": [
        "# plt.plot(history.history[\"loss\"], label=\"Training Loss\")\n",
        "# plt.plot(history.history[\"val_loss\"], label=\"Validation Loss\")\n",
        "# plt.legend()\n",
        "# plt.show()"
      ]
    },
    {
      "cell_type": "markdown",
      "metadata": {
        "id": "9THFSv42imWZ"
      },
      "source": [
        "## Detecting anomalies\n",
        "\n",
        "We will detect anomalies by determining how well our model can reconstruct\n",
        "the input data.\n",
        "\n",
        "\n",
        "1.   Find MAE loss on training samples.\n",
        "2.   Find max MAE loss value. This is the worst our model has performed trying\n",
        "to reconstruct a sample. We will make this the `threshold` for anomaly\n",
        "detection.\n",
        "3.   If the reconstruction loss for a sample is greater than this `threshold`\n",
        "value then we can infer that the model is seeing a pattern that it isn't\n",
        "familiar with. We will label this sample as an `anomaly`.\n"
      ]
    },
    {
      "cell_type": "markdown",
      "metadata": {
        "id": "oBjBZbh9pdLF"
      },
      "source": [
        "#Threshold 설정"
      ]
    },
    {
      "cell_type": "code",
      "execution_count": null,
      "metadata": {
        "colab": {
          "base_uri": "https://localhost:8080/",
          "height": 296
        },
        "id": "M4JqrSLiimWZ",
        "outputId": "d44d34fd-ab18-44f4-f52b-c07b96a969ad"
      },
      "outputs": [
        {
          "output_type": "display_data",
          "data": {
            "text/plain": [
              "<Figure size 432x288 with 1 Axes>"
            ],
            "image/png": "[encoded data removed]"
          },
          "metadata": {
            "needs_background": "light"
          }
        },
        {
          "output_type": "stream",
          "name": "stdout",
          "text": [
            "Reconstruction error threshold:  0.4871010974071195\n"
          ]
        }
      ],
      "source": [
        "# Get train MAE loss.\n",
        "x_train_pred = model.predict(x_train)\n",
        "train_mae_loss = np.mean(np.abs(x_train_pred - x_train), axis=1)\n",
        "\n",
        "plt.hist(train_mae_loss, bins=50)\n",
        "plt.xlabel(\"Train MAE loss\")\n",
        "plt.ylabel(\"No of samples\")\n",
        "plt.show()\n",
        "\n",
        "# Get reconstruction loss threshold.\n",
        "threshold = np.max(train_mae_loss)\n",
        "print(\"Reconstruction error threshold: \", threshold)"
      ]
    },
    {
      "cell_type": "code",
      "execution_count": null,
      "metadata": {
        "id": "yRjtNwLhO5Ef"
      },
      "outputs": [],
      "source": [
        "# threshold = np.max(train_mae_loss) \n",
        "# threshold"
      ]
    },
    {
      "cell_type": "code",
      "execution_count": null,
      "metadata": {
        "colab": {
          "base_uri": "https://localhost:8080/"
        },
        "id": "kBuhabJSSjo1",
        "outputId": "7976f454-c4c4-40e1-b324-5dc90846479f"
      },
      "outputs": [
        {
          "output_type": "stream",
          "name": "stdout",
          "text": [
            "0.5363866499085039\n",
            "0.4871010974071195\n"
          ]
        }
      ],
      "source": [
        "print(np.mean(train_mae_loss) + 6 * np.std(train_mae_loss))\n",
        "print(np.max(train_mae_loss))"
      ]
    },
    {
      "cell_type": "code",
      "execution_count": null,
      "metadata": {
        "id": "hsf8mCSXRcOo"
      },
      "outputs": [],
      "source": [
        "threshold = np.mean(train_mae_loss) + 6 * np.std(train_mae_loss)"
      ]
    },
    {
      "cell_type": "markdown",
      "metadata": {
        "id": "7Zdf__jdimWZ"
      },
      "source": [
        "### Compare recontruction\n",
        "\n",
        "Just for fun, let's see how our model has recontructed the first sample.\n",
        "This is the 288 timesteps from day 1 of our training dataset."
      ]
    },
    {
      "cell_type": "code",
      "execution_count": null,
      "metadata": {
        "colab": {
          "base_uri": "https://localhost:8080/",
          "height": 265
        },
        "id": "kOG_SAFbimWa",
        "outputId": "17214235-9ae1-4a1f-c735-75ea6a489e73"
      },
      "outputs": [
        {
          "output_type": "display_data",
          "data": {
            "text/plain": [
              "<Figure size 432x288 with 1 Axes>"
            ],
            "image/png": "[encoded data removed]"
          },
          "metadata": {
            "needs_background": "light"
          }
        }
      ],
      "source": [
        "# Checking how the first sequence is learnt\n",
        "plt.plot(x_train[0])\n",
        "plt.plot(x_train_pred[0])\n",
        "plt.show()"
      ]
    },
    {
      "cell_type": "code",
      "execution_count": null,
      "metadata": {
        "colab": {
          "base_uri": "https://localhost:8080/"
        },
        "id": "cB8tspBXDqQB",
        "outputId": "fbbab4a7-37c0-4a5c-d322-ecca1dfdfcdc"
      },
      "outputs": [
        {
          "output_type": "execute_result",
          "data": {
            "text/plain": [
              "45793"
            ]
          },
          "metadata": {},
          "execution_count": 28
        }
      ],
      "source": [
        "len(x_train)"
      ]
    },
    {
      "cell_type": "markdown",
      "metadata": {
        "id": "ualalyjjimWa"
      },
      "source": [
        "## Plot anomalies\n",
        "\n",
        "We now know the samples of the data which are anomalies. With this, we will\n",
        "find the corresponding `timestamps` from the original test data. We will be\n",
        "using the following method to do that:\n",
        "\n",
        "Let's say time_steps = 3 and we have 10 training values. Our `x_train` will\n",
        "look like this:\n",
        "\n",
        "- 0, 1, 2\n",
        "- 1, 2, 3\n",
        "- 2, 3, 4\n",
        "- 3, 4, 5\n",
        "- 4, 5, 6\n",
        "- 5, 6, 7\n",
        "- 6, 7, 8\n",
        "- 7, 8, 9\n",
        "\n",
        "All except the initial and the final time_steps-1 data values, will appear in\n",
        "`time_steps` number of samples. So, if we know that the samples\n",
        "[(3, 4, 5), (4, 5, 6), (5, 6, 7)] are anomalies, we can say that the data point\n",
        "5 is an anomaly."
      ]
    },
    {
      "cell_type": "code",
      "execution_count": null,
      "metadata": {
        "colab": {
          "base_uri": "https://localhost:8080/",
          "height": 1000
        },
        "id": "-UUG5W6WimWa",
        "outputId": "0639d2cf-3ad6-4d43-af16-46df1257d132"
      },
      "outputs": [
        {
          "output_type": "display_data",
          "data": {
            "text/plain": [
              "<Figure size 432x288 with 1 Axes>"
            ],
            "image/png": "[encoded data removed]"
          },
          "metadata": {
            "needs_background": "light"
          }
        },
        {
          "output_type": "stream",
          "name": "stdout",
          "text": [
            "Test input shape:  (11233, 288, 1)\n"
          ]
        },
        {
          "output_type": "display_data",
          "data": {
            "text/plain": [
              "<Figure size 432x288 with 1 Axes>"
            ],
            "image/png": "[encoded data removed]"
          },
          "metadata": {
            "needs_background": "light"
          }
        },
        {
          "output_type": "stream",
          "name": "stdout",
          "text": [
            "Number of anomaly samples:  617\n",
            "Indices of anomaly samples:  (array([  630,   631,   633,   634,   635,   636,   637,   638,   639,\n",
            "         640,   641,   642,   643,   644,   645,   646,   647,   648,\n",
            "         649,   650,   651,   652,   653,   654,   655,   656,   657,\n",
            "         658,   659,   660,   661,   662,   663,   664,   665,   666,\n",
            "         667,   668,   669,   670,   671,   672,   673,   674,   675,\n",
            "         676,   677,   678,   679,   680,   681,   682,   683,   684,\n",
            "         685,   686,   687,   688,   689,   690,   691,   692,   693,\n",
            "         694,   695,   696,   697,   698,   699,   700,   701,   702,\n",
            "         703,   704,   705,   706,   707,   708,   709,   710,   711,\n",
            "         712,   713,   714,   715,   716,   717,   718,   719,   720,\n",
            "         721,   722,   723,   724,   725,   726,   727,   728,   729,\n",
            "         730,   731,   732,   733,   734,   735,   736,   737,   738,\n",
            "         739,   740,   741,   742,   743,   744,   745,   746,   747,\n",
            "         748,   749,   750,   751,   752,   753,   754,   755,   756,\n",
            "         757,   758,   759,   760,   761,   762,   763,   764,   765,\n",
            "         766,   767,   768,   769,   770,   771,   772,   773,   774,\n",
            "         775,   776,   777,   778,   779,   780,   781,   782,   783,\n",
            "         784,   785,   786,   787,   788,   789,   790,   791,   792,\n",
            "         793,   794,   795,   796,   797,   798,   799,   800,   801,\n",
            "         802,   803,   804,   805,   806,   807,   808,   809,   810,\n",
            "         811,   812,   813,   814,   815,   816,   817,   818,   819,\n",
            "         820,   821,   822,   823,   824,   825,   826,   827,   828,\n",
            "         829,   830,   831,   832,   833,   834,   835,   836,   837,\n",
            "         838,   839,   840,   841,   842,   843,   844,   845,   846,\n",
            "         847,   848,   849,   850,   851,   852,   853,   854,   855,\n",
            "         856,   857,   858,   859,   860,   861,   862,   863,   864,\n",
            "         865,   866,   867,   868,   869,   870,   871,   872,   873,\n",
            "         874,   875,   876,   877,   878,   879,   880,   881,   882,\n",
            "         883,   884,   885,   886,   887,   888,   889,   890,   891,\n",
            "         892,   893,   894,   895,   896,   897,   898,   899,   900,\n",
            "         901,   902,   903,   904,   905,   906,   907,   908,   909,\n",
            "         910,   911,   912,   913,   914,   915,   916,   917,   918,\n",
            "         919,   920,   921, 10056, 10057, 10059, 10060, 10061, 10062,\n",
            "       10063, 10064, 10065, 10066, 10067, 10068, 10069, 10070, 10071,\n",
            "       10072, 10073, 10074, 10075, 10076, 10077, 10078, 10079, 10080,\n",
            "       10081, 10082, 10083, 10084, 10085, 10086, 10087, 10088, 10089,\n",
            "       10090, 10091, 10092, 10093, 10094, 10095, 10096, 10097, 10098,\n",
            "       10099, 10100, 10101, 10102, 10103, 10104, 10105, 10106, 10107,\n",
            "       10108, 10109, 10110, 10111, 10112, 10113, 10114, 10115, 10116,\n",
            "       10117, 10118, 10119, 10120, 10121, 10122, 10123, 10124, 10125,\n",
            "       10126, 10127, 10128, 10129, 10130, 10131, 10132, 10133, 10134,\n",
            "       10135, 10136, 10137, 10138, 10139, 10140, 10141, 10142, 10143,\n",
            "       10144, 10145, 10146, 10147, 10148, 10149, 10150, 10151, 10152,\n",
            "       10153, 10154, 10155, 10156, 10157, 10158, 10159, 10160, 10161,\n",
            "       10162, 10163, 10164, 10165, 10166, 10167, 10168, 10169, 10170,\n",
            "       10171, 10172, 10173, 10174, 10175, 10176, 10177, 10178, 10179,\n",
            "       10180, 10181, 10182, 10183, 10184, 10185, 10186, 10187, 10188,\n",
            "       10189, 10192, 10195, 10196, 10197, 10200, 10206, 10208, 10212,\n",
            "       10216, 10220, 10224, 10228, 10232, 10236, 10240, 10244, 10248,\n",
            "       10252, 10256, 10312, 10316, 10566, 10567, 10568, 10569, 10570,\n",
            "       10571, 10572, 10573, 10574, 10575, 10576, 10577, 10578, 10579,\n",
            "       10580, 10581, 10582, 10583, 10584, 10585, 10586, 10587, 10588,\n",
            "       10589, 10590, 10591, 10592, 10593, 10594, 10595, 10596, 10597,\n",
            "       10598, 10599, 10600, 10601, 10602, 10603, 10604, 10605, 10606,\n",
            "       10607, 10608, 10609, 10610, 10611, 10612, 10613, 10614, 10615,\n",
            "       10616, 10617, 10618, 10619, 10620, 10621, 10622, 10623, 10624,\n",
            "       10625, 10626, 10627, 10628, 10629, 10630, 10631, 10632, 10633,\n",
            "       10634, 10635, 10636, 10637, 10638, 10639, 10640, 10641, 10642,\n",
            "       10643, 10644, 10645, 10646, 10647, 10648, 10649, 10650, 10651,\n",
            "       10652, 10653, 10654, 10655, 10656, 10657, 10658, 10659, 10660,\n",
            "       10661, 10662, 10663, 10664, 10665, 10666, 10667, 10668, 10669,\n",
            "       10670, 10671, 10672, 10673, 10674, 10675, 10676, 10677, 10678,\n",
            "       10679, 10680, 10681, 10682, 10683, 10684, 10685, 10686, 10687,\n",
            "       10688, 10689, 10690, 10691, 10692, 10693, 10694, 10695, 10696,\n",
            "       10697, 10698, 10699, 10700, 10701, 10702, 10703, 10704, 10705,\n",
            "       10706, 10707, 10708, 10709, 10710, 10711, 10712, 10713, 10714,\n",
            "       10715, 10716, 10717, 10718, 10719, 10720, 10721, 10722, 10723,\n",
            "       10724, 10725, 10726, 10727, 10729, 10731, 10733, 10735, 10737,\n",
            "       10741, 10745, 10747, 10749, 10753]),)\n"
          ]
        }
      ],
      "source": [
        "df_test_value = (df_daily_jumpsup - training_mean) / training_std\n",
        "fig, ax = plt.subplots()\n",
        "df_test_value.plot(legend=False, ax=ax)\n",
        "# plt.ylim([-50, 50])\n",
        "plt.show()\n",
        "\n",
        "# Create sequences from test values.\n",
        "x_test = create_sequences(df_test_value.values)\n",
        "print(\"Test input shape: \", x_test.shape)\n",
        "\n",
        "# Get test MAE loss.\n",
        "x_test_pred = model.predict(x_test)\n",
        "test_mae_loss = np.mean(np.abs(x_test_pred - x_test), axis=1)\n",
        "test_mae_loss = test_mae_loss.reshape((-1))\n",
        "\n",
        "plt.hist(test_mae_loss, bins=50)\n",
        "plt.xlabel(\"test MAE loss\")\n",
        "plt.ylabel(\"No of samples\")\n",
        "plt.show()\n",
        "\n",
        "# Detect all the samples which are anomalies.\n",
        "anomalies = test_mae_loss > threshold\n",
        "print(\"Number of anomaly samples: \", np.sum(anomalies))\n",
        "print(\"Indices of anomaly samples: \", np.where(anomalies))"
      ]
    },
    {
      "cell_type": "code",
      "execution_count": null,
      "metadata": {
        "id": "L-_l4C6EimWa"
      },
      "outputs": [],
      "source": [
        "# data i is an anomaly if samples [(i - timesteps + 1) to (i)] are anomalies\n",
        "TIME_STEPS = 72 # 4시간 이상 threshold를 넘길 때 anormaly detect\n",
        "anomalous_data_indices = []\n",
        "for data_idx in range(TIME_STEPS - 1, len(anomalies) - TIME_STEPS + 1):\n",
        "    if np.all(anomalies[data_idx - TIME_STEPS + 1 : data_idx]):\n",
        "        anomalous_data_indices.append(data_idx)\n",
        "# anomalous_data_indices"
      ]
    },
    {
      "cell_type": "code",
      "execution_count": null,
      "metadata": {
        "colab": {
          "base_uri": "https://localhost:8080/"
        },
        "id": "LUvSz0j-DoxA",
        "outputId": "3981ff1a-c189-4a09-a666-5b941dbf876c"
      },
      "outputs": [
        {
          "output_type": "execute_result",
          "data": {
            "text/plain": [
              "372"
            ]
          },
          "metadata": {},
          "execution_count": 31
        }
      ],
      "source": [
        "len(anomalous_data_indices)"
      ]
    },
    {
      "cell_type": "markdown",
      "metadata": {
        "id": "WsvlZdr3imWa"
      },
      "source": [
        "Let's overlay the anomalies on the original test data plot."
      ]
    },
    {
      "cell_type": "code",
      "execution_count": null,
      "metadata": {
        "colab": {
          "base_uri": "https://localhost:8080/",
          "height": 288
        },
        "id": "EQ1j7IvpimWa",
        "outputId": "501a0ead-954d-4f17-fe4e-6aebf2161d51"
      },
      "outputs": [
        {
          "output_type": "stream",
          "name": "stdout",
          "text": [
            "anormaly detected!\n"
          ]
        },
        {
          "output_type": "display_data",
          "data": {
            "text/plain": [
              "<Figure size 432x288 with 1 Axes>"
            ],
            "image/png": "[encoded data removed]"
          },
          "metadata": {
            "needs_background": "light"
          }
        }
      ],
      "source": [
        "df_subset = df_daily_jumpsup.iloc[anomalous_data_indices]\n",
        "fig, ax = plt.subplots()\n",
        "df_daily_jumpsup.plot(legend=False, ax=ax)\n",
        "if anomalous_data_indices:\n",
        "  df_subset.plot(legend=False, ax=ax, color=\"r\")\n",
        "  print(\"anormaly detected!\")\n",
        "# plt.ylim([-50, 50])\n",
        "plt.show()"
      ]
    },
    {
      "cell_type": "code",
      "execution_count": null,
      "metadata": {
        "id": "5FND3NC0Ox5x",
        "colab": {
          "base_uri": "https://localhost:8080/",
          "height": 299
        },
        "outputId": "d95cfa8d-ceb3-43b0-d48c-50b7357b68cb"
      },
      "outputs": [
        {
          "output_type": "execute_result",
          "data": {
            "text/plain": [
              "<matplotlib.axes._subplots.AxesSubplot at 0x7f3e3d9f72d0>"
            ]
          },
          "metadata": {},
          "execution_count": 33
        },
        {
          "output_type": "display_data",
          "data": {
            "text/plain": [
              "<Figure size 432x288 with 1 Axes>"
            ],
            "image/png": "[encoded data removed]"
          },
          "metadata": {
            "needs_background": "light"
          }
        }
      ],
      "source": [
        "df_plot[\"close\"].plot()"
      ]
    },
    {
      "cell_type": "code",
      "execution_count": null,
      "metadata": {
        "id": "9sileJRKRgsT",
        "colab": {
          "base_uri": "https://localhost:8080/",
          "height": 299
        },
        "outputId": "db45ac3b-d125-4961-cf40-66a977656d1f"
      },
      "outputs": [
        {
          "output_type": "stream",
          "name": "stdout",
          "text": [
            "anormaly detected!\n"
          ]
        },
        {
          "output_type": "display_data",
          "data": {
            "text/plain": [
              "<Figure size 432x288 with 1 Axes>"
            ],
            "image/png": "[encoded data removed]"
          },
          "metadata": {
            "needs_background": "light"
          }
        }
      ],
      "source": [
        "df_subset = df_plot[\"close\"].iloc[anomalous_data_indices]\n",
        "fig, ax = plt.subplots()\n",
        "df_plot[\"close\"].plot(legend=False, ax=ax)\n",
        "if anomalous_data_indices:\n",
        "  df_subset.plot(legend=False, ax=ax, color=\"r\")\n",
        "  print(\"anormaly detected!\")\n",
        "plt.show()"
      ]
    },
    {
      "cell_type": "code",
      "execution_count": null,
      "metadata": {
        "id": "b1RVuXyoROiS",
        "colab": {
          "base_uri": "https://localhost:8080/"
        },
        "outputId": "40149a63-43eb-44e8-c643-3e15ba2ed60a"
      },
      "outputs": [
        {
          "output_type": "execute_result",
          "data": {
            "text/plain": [
              "372"
            ]
          },
          "metadata": {},
          "execution_count": 35
        }
      ],
      "source": [
        "len(anomalous_data_indices)"
      ]
    },
    {
      "cell_type": "code",
      "execution_count": null,
      "metadata": {
        "id": "T1L9Zk2IC-64",
        "colab": {
          "base_uri": "https://localhost:8080/",
          "height": 419
        },
        "outputId": "52228fba-b688-43b7-8134-570d53b15f63"
      },
      "outputs": [
        {
          "output_type": "execute_result",
          "data": {
            "text/plain": [
              "                     close_chg\n",
              "2022-05-11 20:00:00  -0.643580\n",
              "2022-05-11 20:05:00   0.431832\n",
              "2022-05-11 20:10:00   0.491400\n",
              "2022-05-11 20:15:00  -0.152812\n",
              "2022-05-11 20:20:00  -0.428528\n",
              "...                        ...\n",
              "2022-06-15 16:50:00   0.034941\n",
              "2022-06-15 16:55:00   0.349284\n",
              "2022-06-15 17:00:00  -2.192830\n",
              "2022-06-15 17:05:00   0.142349\n",
              "2022-06-15 17:10:00  -0.817342\n",
              "\n",
              "[372 rows x 1 columns]"
            ],
            "text/html": [
              "\n",
              "  <div id=\"df-e7c5bf3d-3e45-4410-96da-2463e00ba945\">\n",
              "    <div class=\"colab-df-container\">\n",
              "      <div>\n",
              "<style scoped>\n",
              "    .dataframe tbody tr th:only-of-type {\n",
              "        vertical-align: middle;\n",
              "    }\n",
              "\n",
              "    .dataframe tbody tr th {\n",
              "        vertical-align: top;\n",
              "    }\n",
              "\n",
              "    .dataframe thead th {\n",
              "        text-align: right;\n",
              "    }\n",
              "</style>\n",
              "<table border=\"1\" class=\"dataframe\">\n",
              "  <thead>\n",
              "    <tr style=\"text-align: right;\">\n",
              "      <th></th>\n",
              "      <th>close_chg</th>\n",
              "    </tr>\n",
              "  </thead>\n",
              "  <tbody>\n",
              "    <tr>\n",
              "      <th>2022-05-11 20:00:00</th>\n",
              "      <td>-0.643580</td>\n",
              "    </tr>\n",
              "    <tr>\n",
              "      <th>2022-05-11 20:05:00</th>\n",
              "      <td>0.431832</td>\n",
              "    </tr>\n",
              "    <tr>\n",
              "      <th>2022-05-11 20:10:00</th>\n",
              "      <td>0.491400</td>\n",
              "    </tr>\n",
              "    <tr>\n",
              "      <th>2022-05-11 20:15:00</th>\n",
              "      <td>-0.152812</td>\n",
              "    </tr>\n",
              "    <tr>\n",
              "      <th>2022-05-11 20:20:00</th>\n",
              "      <td>-0.428528</td>\n",
              "    </tr>\n",
              "    <tr>\n",
              "      <th>...</th>\n",
              "      <td>...</td>\n",
              "    </tr>\n",
              "    <tr>\n",
              "      <th>2022-06-15 16:50:00</th>\n",
              "      <td>0.034941</td>\n",
              "    </tr>\n",
              "    <tr>\n",
              "      <th>2022-06-15 16:55:00</th>\n",
              "      <td>0.349284</td>\n",
              "    </tr>\n",
              "    <tr>\n",
              "      <th>2022-06-15 17:00:00</th>\n",
              "      <td>-2.192830</td>\n",
              "    </tr>\n",
              "    <tr>\n",
              "      <th>2022-06-15 17:05:00</th>\n",
              "      <td>0.142349</td>\n",
              "    </tr>\n",
              "    <tr>\n",
              "      <th>2022-06-15 17:10:00</th>\n",
              "      <td>-0.817342</td>\n",
              "    </tr>\n",
              "  </tbody>\n",
              "</table>\n",
              "<p>372 rows × 1 columns</p>\n",
              "</div>\n",
              "      <button class=\"colab-df-convert\" onclick=\"convertToInteractive('df-e7c5bf3d-3e45-4410-96da-2463e00ba945')\"\n",
              "              title=\"Convert this dataframe to an interactive table.\"\n",
              "              style=\"display:none;\">\n",
              "        \n",
              "  <svg xmlns=\"http://www.w3.org/2000/svg\" height=\"24px\"viewBox=\"0 0 24 24\"\n",
              "       width=\"24px\">\n",
              "    <path d=\"M0 0h24v24H0V0z\" fill=\"none\"/>\n",
              "    <path d=\"M18.56 5.44l.94 2.06.94-2.06 2.06-.94-2.06-.94-.94-2.06-.94 2.06-2.06.94zm-11 1L8.5 8.5l.94-2.06 2.06-.94-2.06-.94L8.5 2.5l-.94 2.06-2.06.94zm10 10l.94 2.06.94-2.06 2.06-.94-2.06-.94-.94-2.06-.94 2.06-2.06.94z\"/><path d=\"M17.41 7.96l-1.37-1.37c-.4-.4-.92-.59-1.43-.59-.52 0-1.04.2-1.43.59L10.3 9.45l-7.72 7.72c-.78.78-.78 2.05 0 2.83L4 21.41c.39.39.9.59 1.41.59.51 0 1.02-.2 1.41-.59l7.78-7.78 2.81-2.81c.8-.78.8-2.07 0-2.86zM5.41 20L4 18.59l7.72-7.72 1.47 1.35L5.41 20z\"/>\n",
              "  </svg>\n",
              "      </button>\n",
              "      \n",
              "  <style>\n",
              "    .colab-df-container {\n",
              "      display:flex;\n",
              "      flex-wrap:wrap;\n",
              "      gap: 12px;\n",
              "    }\n",
              "\n",
              "    .colab-df-convert {\n",
              "      background-color: #E8F0FE;\n",
              "      border: none;\n",
              "      border-radius: 50%;\n",
              "      cursor: pointer;\n",
              "      display: none;\n",
              "      fill: #1967D2;\n",
              "      height: 32px;\n",
              "      padding: 0 0 0 0;\n",
              "      width: 32px;\n",
              "    }\n",
              "\n",
              "    .colab-df-convert:hover {\n",
              "      background-color: #E2EBFA;\n",
              "      box-shadow: 0px 1px 2px rgba(60, 64, 67, 0.3), 0px 1px 3px 1px rgba(60, 64, 67, 0.15);\n",
              "      fill: #174EA6;\n",
              "    }\n",
              "\n",
              "    [theme=dark] .colab-df-convert {\n",
              "      background-color: #3B4455;\n",
              "      fill: #D2E3FC;\n",
              "    }\n",
              "\n",
              "    [theme=dark] .colab-df-convert:hover {\n",
              "      background-color: #434B5C;\n",
              "      box-shadow: 0px 1px 3px 1px rgba(0, 0, 0, 0.15);\n",
              "      filter: drop-shadow(0px 1px 2px rgba(0, 0, 0, 0.3));\n",
              "      fill: #FFFFFF;\n",
              "    }\n",
              "  </style>\n",
              "\n",
              "      <script>\n",
              "        const buttonEl =\n",
              "          document.querySelector('#df-e7c5bf3d-3e45-4410-96da-2463e00ba945 button.colab-df-convert');\n",
              "        buttonEl.style.display =\n",
              "          google.colab.kernel.accessAllowed ? 'block' : 'none';\n",
              "\n",
              "        async function convertToInteractive(key) {\n",
              "          const element = document.querySelector('#df-e7c5bf3d-3e45-4410-96da-2463e00ba945');\n",
              "          const dataTable =\n",
              "            await google.colab.kernel.invokeFunction('convertToInteractive',\n",
              "                                                     [key], {});\n",
              "          if (!dataTable) return;\n",
              "\n",
              "          const docLinkHtml = 'Like what you see? Visit the ' +\n",
              "            '<a target=\"_blank\" href=https://colab.research.google.com/notebooks/data_table.ipynb>data table notebook</a>'\n",
              "            + ' to learn more about interactive tables.';\n",
              "          element.innerHTML = '';\n",
              "          dataTable['output_type'] = 'display_data';\n",
              "          await google.colab.output.renderOutput(dataTable, element);\n",
              "          const docLink = document.createElement('div');\n",
              "          docLink.innerHTML = docLinkHtml;\n",
              "          element.appendChild(docLink);\n",
              "        }\n",
              "      </script>\n",
              "    </div>\n",
              "  </div>\n",
              "  "
            ]
          },
          "metadata": {},
          "execution_count": 36
        }
      ],
      "source": [
        "df_daily_jumpsup.iloc[anomalous_data_indices]"
      ]
    },
    {
      "cell_type": "code",
      "execution_count": null,
      "metadata": {
        "id": "6NkuctP5DYaL"
      },
      "outputs": [],
      "source": [
        ""
      ]
    }
  ],
  "metadata": {
    "colab": {
      "collapsed_sections": [],
      "name": "06-18 ethereum_anomaly_detection",
      "provenance": [],
      "include_colab_link": true
    },
    "kernelspec": {
      "display_name": "Python 3",
      "language": "python",
      "name": "python3"
    },
    "language_info": {
      "codemirror_mode": {
        "name": "ipython",
        "version": 3
      },
      "file_extension": ".py",
      "mimetype": "text/x-python",
      "name": "python",
      "nbconvert_exporter": "python",
      "pygments_lexer": "ipython3",
      "version": "3.7.0"
    }
  },
  "nbformat": 4,
  "nbformat_minor": 0
}